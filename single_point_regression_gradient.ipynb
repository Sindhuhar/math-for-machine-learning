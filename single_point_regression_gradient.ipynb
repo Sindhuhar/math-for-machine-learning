{
  "nbformat": 4,
  "nbformat_minor": 0,
  "metadata": {
    "colab": {
      "provenance": [],
      "authorship_tag": "ABX9TyOUPrW6X47welUwNRUBxIGZ",
      "include_colab_link": true
    },
    "kernelspec": {
      "name": "python3",
      "display_name": "Python 3"
    },
    "language_info": {
      "name": "python"
    },
    "accelerator": "TPU",
    "gpuClass": "standard"
  },
  "cells": [
    {
      "cell_type": "markdown",
      "metadata": {
        "id": "view-in-github",
        "colab_type": "text"
      },
      "source": [
        "<a href=\"https://colab.research.google.com/github/Sindhuhar/math-for-machine-learning/blob/main/single_point_regression_gradient.ipynb\" target=\"_parent\"><img src=\"https://colab.research.google.com/assets/colab-badge.svg\" alt=\"Open In Colab\"/></a>"
      ]
    },
    {
      "cell_type": "markdown",
      "source": [
        "# **Gradient of a Single-Point Regression**"
      ],
      "metadata": {
        "id": "HoLEusWmi34l"
      }
    },
    {
      "cell_type": "markdown",
      "source": [
        "In this notebook, we calculate the gradient of quadratic cost with respect to a straight-line regression model's parameters. We keep the partial derivatives as simple as possible by limiting the model to handling a single data point."
      ],
      "metadata": {
        "id": "iFdwGG7JjO9D"
      }
    },
    {
      "cell_type": "code",
      "source": [
        "import torch"
      ],
      "metadata": {
        "id": "mSEDoIKqjSKe"
      },
      "execution_count": 1,
      "outputs": []
    },
    {
      "cell_type": "markdown",
      "source": [
        "Let's use the same data as we did in the Regression in PyTorch notebook as well as for demonstrating the Moore-Penrose Pseudoinverse in the Linear Algebra 2 notebook:"
      ],
      "metadata": {
        "id": "fxp9RDMXjlvm"
      }
    },
    {
      "cell_type": "code",
      "source": [
        "xs = torch.tensor([0,1,2,3,4,5,6,7.])"
      ],
      "metadata": {
        "id": "qWNEnPt8kf32"
      },
      "execution_count": 2,
      "outputs": []
    },
    {
      "cell_type": "code",
      "source": [
        "ys = torch.tensor([1.86, 1.31, .62, .33, .09, -.67, -1.23, -1.37])"
      ],
      "metadata": {
        "id": "NNpyGlCdnteY"
      },
      "execution_count": 3,
      "outputs": []
    },
    {
      "cell_type": "markdown",
      "source": [
        "The slope of a line is given by  y=mx+b :"
      ],
      "metadata": {
        "id": "hQ3REofAoUU3"
      }
    },
    {
      "cell_type": "code",
      "source": [
        "def regression(my_x, my_m, my_b):\n",
        "  return my_m*my_x+my_b"
      ],
      "metadata": {
        "id": "C-MammVhoenI"
      },
      "execution_count": 4,
      "outputs": []
    },
    {
      "cell_type": "code",
      "source": [
        "m = torch.tensor([0.9]).requires_grad_()"
      ],
      "metadata": {
        "id": "CK1RZEvCo-5H"
      },
      "execution_count": 5,
      "outputs": []
    },
    {
      "cell_type": "code",
      "source": [
        "b = torch.tensor([0.1]).requires_grad_()"
      ],
      "metadata": {
        "id": "gRYsrA3fpJmH"
      },
      "execution_count": 6,
      "outputs": []
    },
    {
      "cell_type": "markdown",
      "source": [
        "To keep the partial derivatives as simple as possible, let's move forward with a single instance  i  from the eight possible data points:"
      ],
      "metadata": {
        "id": "x2a98YJ5pV12"
      }
    },
    {
      "cell_type": "code",
      "source": [
        "i = 7\n",
        "x = xs[i]\n",
        "y = ys[i]"
      ],
      "metadata": {
        "id": "5NVIK6BBpX9V"
      },
      "execution_count": 7,
      "outputs": []
    },
    {
      "cell_type": "code",
      "source": [
        "x"
      ],
      "metadata": {
        "colab": {
          "base_uri": "https://localhost:8080/"
        },
        "id": "bmyaMSugpe7y",
        "outputId": "fb815284-fab3-47ea-95a9-f9330f71156b"
      },
      "execution_count": 8,
      "outputs": [
        {
          "output_type": "execute_result",
          "data": {
            "text/plain": [
              "tensor(7.)"
            ]
          },
          "metadata": {},
          "execution_count": 8
        }
      ]
    },
    {
      "cell_type": "code",
      "source": [
        "y"
      ],
      "metadata": {
        "colab": {
          "base_uri": "https://localhost:8080/"
        },
        "id": "9iJNavA0pgRz",
        "outputId": "6d8edfcd-3243-462d-d959-85513e056b90"
      },
      "execution_count": 9,
      "outputs": [
        {
          "output_type": "execute_result",
          "data": {
            "text/plain": [
              "tensor(-1.3700)"
            ]
          },
          "metadata": {},
          "execution_count": 9
        }
      ]
    },
    {
      "cell_type": "markdown",
      "source": [
        "Step 1: Forward pass\n",
        "\n",
        "We can flow the scalar tensor  x  through our regression model to produce  y^ , an estimate of  y . Prior to any model training, this is an arbitrary estimate:"
      ],
      "metadata": {
        "id": "tVpdjuR3pmNt"
      }
    },
    {
      "cell_type": "code",
      "source": [
        "yhat = regression(x,m,b)\n",
        "yhat"
      ],
      "metadata": {
        "colab": {
          "base_uri": "https://localhost:8080/"
        },
        "id": "STLwokcTpplA",
        "outputId": "250243ca-c396-4101-bcc6-01b2fc9b9078"
      },
      "execution_count": 10,
      "outputs": [
        {
          "output_type": "execute_result",
          "data": {
            "text/plain": [
              "tensor([6.4000], grad_fn=<AddBackward0>)"
            ]
          },
          "metadata": {},
          "execution_count": 10
        }
      ]
    },
    {
      "cell_type": "markdown",
      "source": [
        "In the Regression in PyTorch notebook, used mean-squared error, which averages quadratic cost over multiple data points. With a single data point, here we can use quadratic cost alone. It is defined by:\n",
        "C=(y^−y)2"
      ],
      "metadata": {
        "id": "Z-3QOIrfpyOt"
      }
    },
    {
      "cell_type": "code",
      "source": [
        "def squared_error(my_yhat, my_y):\n",
        "  return (my_yhat-my_y)**2"
      ],
      "metadata": {
        "id": "xWV4E9Okp3T1"
      },
      "execution_count": 11,
      "outputs": []
    },
    {
      "cell_type": "code",
      "source": [
        "c = squared_error(yhat,y)\n",
        "c"
      ],
      "metadata": {
        "colab": {
          "base_uri": "https://localhost:8080/"
        },
        "id": "B4OjEt6wqEQq",
        "outputId": "2805f378-9a8b-42cd-cfd1-c4b156f3d649"
      },
      "execution_count": 12,
      "outputs": [
        {
          "output_type": "execute_result",
          "data": {
            "text/plain": [
              "tensor([60.3729], grad_fn=<PowBackward0>)"
            ]
          },
          "metadata": {},
          "execution_count": 12
        }
      ]
    },
    {
      "cell_type": "markdown",
      "source": [
        "Step 3: Use autodiff to calculate gradient of  C  w.r.t. parameters"
      ],
      "metadata": {
        "id": "OvcdGYZKqQHo"
      }
    },
    {
      "cell_type": "code",
      "source": [
        "c.backward()"
      ],
      "metadata": {
        "id": "_oE-XrluqTe4"
      },
      "execution_count": 13,
      "outputs": []
    },
    {
      "cell_type": "markdown",
      "source": [
        "The partial derivative of $C$ with respect to $m$ ($\\frac{\\partial C}{\\partial m}$) is:"
      ],
      "metadata": {
        "id": "eM_ZMlRQqbi9"
      }
    },
    {
      "cell_type": "code",
      "source": [
        "m.grad"
      ],
      "metadata": {
        "colab": {
          "base_uri": "https://localhost:8080/"
        },
        "id": "0PpAWcFZqeAV",
        "outputId": "d1830f46-da60-47e3-f38b-4656abae389c"
      },
      "execution_count": 14,
      "outputs": [
        {
          "output_type": "execute_result",
          "data": {
            "text/plain": [
              "tensor([108.7800])"
            ]
          },
          "metadata": {},
          "execution_count": 14
        }
      ]
    },
    {
      "cell_type": "markdown",
      "source": [
        "And the partial derivative of $C$ with respect to $b$ ($\\frac{\\partial C}{\\partial b}$) is:"
      ],
      "metadata": {
        "id": "6SqQDsf2qiE7"
      }
    },
    {
      "cell_type": "code",
      "source": [
        "b.grad"
      ],
      "metadata": {
        "colab": {
          "base_uri": "https://localhost:8080/"
        },
        "id": "mSFSV-ZBqjmF",
        "outputId": "96fe3336-5aba-4fa1-dd63-e42d7a8aa0e3"
      },
      "execution_count": 15,
      "outputs": [
        {
          "output_type": "execute_result",
          "data": {
            "text/plain": [
              "tensor([15.5400])"
            ]
          },
          "metadata": {},
          "execution_count": 15
        }
      ]
    },
    {
      "cell_type": "markdown",
      "source": [
        "$$ \\frac{\\partial C}{\\partial m} = 2x(\\hat{y} - y) $$"
      ],
      "metadata": {
        "id": "KyP5W8YDqqQq"
      }
    },
    {
      "cell_type": "code",
      "source": [
        "2*x*(yhat.item()-y)"
      ],
      "metadata": {
        "colab": {
          "base_uri": "https://localhost:8080/"
        },
        "id": "ArCoIvaGqt9H",
        "outputId": "4c05fc30-ea53-4024-8a96-f90711cb4194"
      },
      "execution_count": 16,
      "outputs": [
        {
          "output_type": "execute_result",
          "data": {
            "text/plain": [
              "tensor(108.7800)"
            ]
          },
          "metadata": {},
          "execution_count": 16
        }
      ]
    },
    {
      "cell_type": "markdown",
      "source": [
        "$$ \\frac{\\partial C}{\\partial b} = 2(\\hat{y}-y) $$"
      ],
      "metadata": {
        "id": "Onqux2Qdq57E"
      }
    },
    {
      "cell_type": "code",
      "source": [
        "2*(yhat.item()-y)"
      ],
      "metadata": {
        "colab": {
          "base_uri": "https://localhost:8080/"
        },
        "id": "5b2aheUhq9Em",
        "outputId": "50849356-d671-4582-8410-8011e5f28e2f"
      },
      "execution_count": 17,
      "outputs": [
        {
          "output_type": "execute_result",
          "data": {
            "text/plain": [
              "tensor(15.5400)"
            ]
          },
          "metadata": {},
          "execution_count": 17
        }
      ]
    },
    {
      "cell_type": "markdown",
      "source": [
        "# **The Gradient of Cost,  ∇C**"
      ],
      "metadata": {
        "id": "UZ9HoO9RrHR3"
      }
    },
    {
      "cell_type": "markdown",
      "source": [
        "The gradient of cost, which is symbolized  ∇C  (pronounced \"nabla C\"), is a vector of all the partial derivatives of  C  with respect to each of the individual model parameters:"
      ],
      "metadata": {
        "id": "FNI7lYQarME9"
      }
    },
    {
      "cell_type": "markdown",
      "source": [
        "$\\nabla C = \\nabla_p C = \\left[ \\frac{\\partial{C}}{\\partial{p_1}}, \\frac{\\partial{C}}{\\partial{p_2}}, \\cdots, \\frac{\\partial{C}}{\\partial{p_n}} \\right]^T $"
      ],
      "metadata": {
        "id": "T0MN0juXrQG8"
      }
    },
    {
      "cell_type": "markdown",
      "source": [
        "In this case, there are only two parameters,  b  and  m :"
      ],
      "metadata": {
        "id": "7dehjzEmrUkt"
      }
    },
    {
      "cell_type": "markdown",
      "source": [
        "$\\nabla C = \\left[ \\frac{\\partial{C}}{\\partial{b}}, \\frac{\\partial{C}}{\\partial{m}} \\right]^T $"
      ],
      "metadata": {
        "id": "DMaMB9ArrX_0"
      }
    },
    {
      "cell_type": "code",
      "source": [
        "gradient = torch.tensor([[b.grad.item(),m.grad.item()]]).T\n",
        "gradient"
      ],
      "metadata": {
        "colab": {
          "base_uri": "https://localhost:8080/"
        },
        "id": "gIG_1gsNraoC",
        "outputId": "88fb08d9-3557-49ad-f128-fd059083dcfa"
      },
      "execution_count": 18,
      "outputs": [
        {
          "output_type": "execute_result",
          "data": {
            "text/plain": [
              "tensor([[ 15.5400],\n",
              "        [108.7800]])"
            ]
          },
          "metadata": {},
          "execution_count": 18
        }
      ]
    }
  ]
}