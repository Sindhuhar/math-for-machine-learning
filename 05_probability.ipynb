{
  "nbformat": 4,
  "nbformat_minor": 0,
  "metadata": {
    "colab": {
      "provenance": [],
      "authorship_tag": "ABX9TyOb0KRrCqIXLonovGSjegOh",
      "include_colab_link": true
    },
    "kernelspec": {
      "name": "python3",
      "display_name": "Python 3"
    },
    "language_info": {
      "name": "python"
    },
    "accelerator": "TPU",
    "gpuClass": "standard"
  },
  "cells": [
    {
      "cell_type": "markdown",
      "metadata": {
        "id": "view-in-github",
        "colab_type": "text"
      },
      "source": [
        "<a href=\"https://colab.research.google.com/github/Sindhuhar/math-for-machine-learning/blob/main/05_probability.ipynb\" target=\"_parent\"><img src=\"https://colab.research.google.com/assets/colab-badge.svg\" alt=\"Open In Colab\"/></a>"
      ]
    },
    {
      "cell_type": "markdown",
      "source": [
        "# **Probability**"
      ],
      "metadata": {
        "id": "OUFohbbgt_6M"
      }
    },
    {
      "cell_type": "code",
      "source": [
        "import numpy as np\n",
        "import scipy.stats as st\n",
        "import matplotlib.pyplot as plt\n",
        "import seaborn as sns"
      ],
      "metadata": {
        "id": "7Ln0qLY1uCFn"
      },
      "execution_count": 1,
      "outputs": []
    },
    {
      "cell_type": "markdown",
      "source": [
        " $$ {n \\choose k} = {5 \\choose 3} = \\frac{5!}{3!(5 - 3)!} = \\frac{5!}{(3!)(2!)} = \\frac{5 \\times 4 \\times 3 \\times 2 \\times 1}{(3 \\times 2 \\times 1)(2 \\times 1)} = \\frac{120}{(6)(2)} = \\frac{120}{12} = 10 $$"
      ],
      "metadata": {
        "id": "9zhdh5wPuiqZ"
      }
    },
    {
      "cell_type": "markdown",
      "source": [
        "$$P = \\frac{10}{2^n} = \\frac{10}{2^5} = \\frac{10}{32} = 0.3125 $$"
      ],
      "metadata": {
        "id": "vDxPPv3_umdp"
      }
    },
    {
      "cell_type": "code",
      "source": [
        "from math import factorial"
      ],
      "metadata": {
        "id": "fx5QhUYtusMf"
      },
      "execution_count": 2,
      "outputs": []
    },
    {
      "cell_type": "code",
      "source": [
        "def coinflip_prob(n,k):\n",
        "  n_choose_k = factorial(n)/(factorial(k)*factorial(n-k))\n",
        "  return n_choose_k/2**n"
      ],
      "metadata": {
        "id": "qI5H6zwvuzN8"
      },
      "execution_count": 3,
      "outputs": []
    },
    {
      "cell_type": "code",
      "source": [
        "coinflip_prob(5,3)"
      ],
      "metadata": {
        "colab": {
          "base_uri": "https://localhost:8080/"
        },
        "id": "TXW4f5aiwT0J",
        "outputId": "5fb8867e-f3be-4083-872b-ac45aed78615"
      },
      "execution_count": 4,
      "outputs": [
        {
          "output_type": "execute_result",
          "data": {
            "text/plain": [
              "0.3125"
            ]
          },
          "metadata": {},
          "execution_count": 4
        }
      ]
    },
    {
      "cell_type": "code",
      "source": [
        "[coinflip_prob(5,h) for h in range (6)]"
      ],
      "metadata": {
        "colab": {
          "base_uri": "https://localhost:8080/"
        },
        "id": "d8n8cfN2wZ2D",
        "outputId": "ca31f36e-0bd8-4c7a-aaf5-5cfb1c36ac4c"
      },
      "execution_count": 5,
      "outputs": [
        {
          "output_type": "execute_result",
          "data": {
            "text/plain": [
              "[0.03125, 0.15625, 0.3125, 0.3125, 0.15625, 0.03125]"
            ]
          },
          "metadata": {},
          "execution_count": 5
        }
      ]
    },
    {
      "cell_type": "markdown",
      "source": [
        "# The Law of Large Numbers"
      ],
      "metadata": {
        "id": "VLdfXr43xAtn"
      }
    },
    {
      "cell_type": "markdown",
      "source": [
        "While a fair coin should land heads up 50% of the time, as we've seen above, with small sample sizes, there is a non-trivial possibility that in a given experiment we could flip heads on all of the tosses. For example, we've calculated that there's a 3.1% chance that we'll get heads on every toss in a small five-toss experiment."
      ],
      "metadata": {
        "id": "gA4nT1KRxHLW"
      }
    },
    {
      "cell_type": "markdown",
      "source": [
        "The **law of large numbers** states that the more experiments we run, the closer we will tend to get to the expected probability."
      ],
      "metadata": {
        "id": "zTvWotpJxMMv"
      }
    },
    {
      "cell_type": "code",
      "source": [
        "ns = np.array([2, 4, 8, 16, 32, 64, 128, 256, 512, 1024, 2048, 4096])"
      ],
      "metadata": {
        "id": "vOJtczlFxSR4"
      },
      "execution_count": 6,
      "outputs": []
    },
    {
      "cell_type": "code",
      "source": [
        "np.random.seed(42) # for reproducibility"
      ],
      "metadata": {
        "id": "tULlXFCBxqcD"
      },
      "execution_count": 7,
      "outputs": []
    },
    {
      "cell_type": "markdown",
      "source": [
        "We will discuss the `binomial()` method in more detail in *Segment 2*. For now it suffices to think of its two arguments as *number of coin flips in experiment* and *probability of heads*, while it returns the number of flips that are heads in the experiment."
      ],
      "metadata": {
        "id": "JpFKbLd3x0lO"
      }
    },
    {
      "cell_type": "code",
      "source": [
        "np.random.binomial(1, 0.5)"
      ],
      "metadata": {
        "colab": {
          "base_uri": "https://localhost:8080/"
        },
        "id": "jAB3NAOEx4fk",
        "outputId": "5a38b8cf-b082-4687-ad58-d6ceedba300b"
      },
      "execution_count": 8,
      "outputs": [
        {
          "output_type": "execute_result",
          "data": {
            "text/plain": [
              "0"
            ]
          },
          "metadata": {},
          "execution_count": 8
        }
      ]
    },
    {
      "cell_type": "code",
      "source": [
        "heads_count = [np.random.binomial(n,0.5) for n in ns]\n",
        "heads_count"
      ],
      "metadata": {
        "colab": {
          "base_uri": "https://localhost:8080/"
        },
        "id": "k0zm_T7Ex_M2",
        "outputId": "e6e4e95e-082e-473d-a271-d73e1e1d2a05"
      },
      "execution_count": 9,
      "outputs": [
        {
          "output_type": "execute_result",
          "data": {
            "text/plain": [
              "[2, 3, 4, 6, 13, 27, 54, 136, 258, 509, 1038, 2094]"
            ]
          },
          "metadata": {},
          "execution_count": 9
        }
      ]
    },
    {
      "cell_type": "code",
      "source": [
        "proportion_heads = heads_count/ns\n",
        "proportion_heads"
      ],
      "metadata": {
        "colab": {
          "base_uri": "https://localhost:8080/"
        },
        "id": "k2xXK_-ZyYMr",
        "outputId": "d06b7849-8564-42e1-c14a-ee1ff43f912b"
      },
      "execution_count": 10,
      "outputs": [
        {
          "output_type": "execute_result",
          "data": {
            "text/plain": [
              "array([1.        , 0.75      , 0.5       , 0.375     , 0.40625   ,\n",
              "       0.421875  , 0.421875  , 0.53125   , 0.50390625, 0.49707031,\n",
              "       0.50683594, 0.51123047])"
            ]
          },
          "metadata": {},
          "execution_count": 10
        }
      ]
    },
    {
      "cell_type": "code",
      "source": [
        "fig, ax = plt.subplots()\n",
        "plt.xlabel('Number of coin flips in experiment')\n",
        "plt.ylabel('Proportion of flips that are heads')\n",
        "plt.axhline(0.5, color='orange')\n",
        "_ = ax.scatter(ns, proportion_heads)"
      ],
      "metadata": {
        "colab": {
          "base_uri": "https://localhost:8080/",
          "height": 279
        },
        "id": "QYuZWqCZyi7D",
        "outputId": "30ed7366-0715-4428-a17a-ad8110de0eb8"
      },
      "execution_count": 11,
      "outputs": [
        {
          "output_type": "display_data",
          "data": {
            "text/plain": [
              "<Figure size 432x288 with 1 Axes>"
            ],
            "image/png": "[encoded data removed]"
          },
          "metadata": {
            "needs_background": "light"
          }
        }
      ]
    },
    {
      "cell_type": "markdown",
      "source": [
        "It is important at this juncture to address the **gambler's fallacy**. It is a common misconception that the law of large numbers dictates that if, say, five heads have been flipped in a row, then the probability of tails is higher on the sixth flip. In fact, probability theory holds that each coin flip is completely independent of all others. Thus, every single flip of a fair coin has a 50% chance of being heads, no matter what happened on preceding flips."
      ],
      "metadata": {
        "id": "_VCBlc60-mo7"
      }
    },
    {
      "cell_type": "markdown",
      "source": [
        "(To capitalize on this misunderstanding, roulette tables at casinos often have prominent displays tracking the history of red versus black even though there's a 47.4% chance of each on every spin of the roulette wheel no matter what happened on preceding spins. Gamblers will note, say, five reds in a row at a given table and flock to it to bet on black.)"
      ],
      "metadata": {
        "id": "PLfszuzK-sCq"
      }
    },
    {
      "cell_type": "markdown",
      "source": [
        "# Statistics"
      ],
      "metadata": {
        "id": "r1xn7qTm4HCM"
      }
    },
    {
      "cell_type": "markdown",
      "source": [
        "The field of statistics applies probability theory to make inferences with a quantifiable degree of confidence. For example, let's say we ran the five-coin-flip experiment 1000 times with a fair coin: "
      ],
      "metadata": {
        "id": "pc9qT3Ds4Oii"
      }
    },
    {
      "cell_type": "code",
      "source": [
        "n_experiments = 1000\n",
        "heads_count = np.random.binomial(5,0.5,n_experiments)"
      ],
      "metadata": {
        "id": "C9RiR7Ss4SsQ"
      },
      "execution_count": 12,
      "outputs": []
    },
    {
      "cell_type": "markdown",
      "source": [
        "We can plot the results of our experiment to create a **probability distribution**:"
      ],
      "metadata": {
        "id": "pYRdmfvX4tbB"
      }
    },
    {
      "cell_type": "code",
      "source": [
        "heads,event_count = np.unique(heads_count, return_counts = True)"
      ],
      "metadata": {
        "id": "c1oALq-T4wMG"
      },
      "execution_count": 13,
      "outputs": []
    },
    {
      "cell_type": "code",
      "source": [
        "heads"
      ],
      "metadata": {
        "colab": {
          "base_uri": "https://localhost:8080/"
        },
        "id": "7LivoAcv5TpV",
        "outputId": "f1511a3b-feff-440b-aa2e-de60040aadac"
      },
      "execution_count": 14,
      "outputs": [
        {
          "output_type": "execute_result",
          "data": {
            "text/plain": [
              "array([0, 1, 2, 3, 4, 5])"
            ]
          },
          "metadata": {},
          "execution_count": 14
        }
      ]
    },
    {
      "cell_type": "code",
      "source": [
        "event_count"
      ],
      "metadata": {
        "colab": {
          "base_uri": "https://localhost:8080/"
        },
        "id": "-zKbRPtD5WLp",
        "outputId": "9c466ed4-a47b-4301-f29d-64960a205435"
      },
      "execution_count": 15,
      "outputs": [
        {
          "output_type": "execute_result",
          "data": {
            "text/plain": [
              "array([ 33, 181, 285, 313, 160,  28])"
            ]
          },
          "metadata": {},
          "execution_count": 15
        }
      ]
    },
    {
      "cell_type": "code",
      "source": [
        "event_proba = event_count/n_experiments\n",
        "event_proba"
      ],
      "metadata": {
        "colab": {
          "base_uri": "https://localhost:8080/"
        },
        "id": "tRKTqqPi5fIt",
        "outputId": "e6f07a93-fda0-42ea-dc2f-8bb78be37a91"
      },
      "execution_count": 16,
      "outputs": [
        {
          "output_type": "execute_result",
          "data": {
            "text/plain": [
              "array([0.033, 0.181, 0.285, 0.313, 0.16 , 0.028])"
            ]
          },
          "metadata": {},
          "execution_count": 16
        }
      ]
    },
    {
      "cell_type": "code",
      "source": [
        "plt.bar(heads, event_proba, color = 'purple')\n",
        "plt.xlabel('Heads flips(out of 5 tosses)')\n",
        "_ = plt.ylabel('Event Probability')"
      ],
      "metadata": {
        "colab": {
          "base_uri": "https://localhost:8080/",
          "height": 279
        },
        "id": "P-Lcl3dL5w3P",
        "outputId": "61feb570-b0bb-43e2-eed2-e85b5e965584"
      },
      "execution_count": 17,
      "outputs": [
        {
          "output_type": "display_data",
          "data": {
            "text/plain": [
              "<Figure size 432x288 with 1 Axes>"
            ],
            "image/png": "[encoded data removed]"
          },
          "metadata": {
            "needs_background": "light"
          }
        }
      ]
    },
    {
      "cell_type": "markdown",
      "source": [
        "Let's say we'd like to now test a coin as to whether it's fair or not. We flip it five times and all five times it comes up heads. Does this imply it's not a fair coin? Statistics arms us with tools to use the probability distribution above to answer this question with a particular degree of confidence."
      ],
      "metadata": {
        "id": "Ka0NxAdL6WCL"
      }
    },
    {
      "cell_type": "markdown",
      "source": [
        "**Expected Value**"
      ],
      "metadata": {
        "id": "jb7sOpIF7stY"
      }
    },
    {
      "cell_type": "code",
      "source": [
        "P = [coinflip_prob(5,x) for x in range (6)]\n",
        "P"
      ],
      "metadata": {
        "colab": {
          "base_uri": "https://localhost:8080/"
        },
        "id": "n-NqFV147wk7",
        "outputId": "6b750827-99aa-44f9-c423-1e1b8e8c17ec"
      },
      "execution_count": 18,
      "outputs": [
        {
          "output_type": "execute_result",
          "data": {
            "text/plain": [
              "[0.03125, 0.15625, 0.3125, 0.3125, 0.15625, 0.03125]"
            ]
          },
          "metadata": {},
          "execution_count": 18
        }
      ]
    },
    {
      "cell_type": "markdown",
      "source": [
        "$$ \\mathbb{E} = \\sum_x xP(x) $$"
      ],
      "metadata": {
        "id": "o3nohziK8E7Y"
      }
    },
    {
      "cell_type": "code",
      "source": [
        "E = sum(P[x]*x for x in range(6))\n",
        "E"
      ],
      "metadata": {
        "colab": {
          "base_uri": "https://localhost:8080/"
        },
        "id": "Px5f8rsQ8IO5",
        "outputId": "7d1b2f12-09f0-4586-f7aa-c0adabfb1cf0"
      },
      "execution_count": 19,
      "outputs": [
        {
          "output_type": "execute_result",
          "data": {
            "text/plain": [
              "2.5"
            ]
          },
          "metadata": {},
          "execution_count": 19
        }
      ]
    },
    {
      "cell_type": "markdown",
      "source": [
        "### Measures of Central Tendency"
      ],
      "metadata": {
        "id": "7imMSmgz8e_S"
      }
    },
    {
      "cell_type": "markdown",
      "source": [
        "Measures of central tendency provide a summary statistic on the center of a given distribution, a.k.a., the \"average\" value of the distribution."
      ],
      "metadata": {
        "id": "9pEKSLjJ8kbv"
      }
    },
    {
      "cell_type": "markdown",
      "source": [
        "#### Mean"
      ],
      "metadata": {
        "id": "QrpY2dAg8nzm"
      }
    },
    {
      "cell_type": "markdown",
      "source": [
        "The most common measure of central tendency, synonomous with the term \"average\", is the **mean**, often symbolized with $\\mu$ (population) or $\\bar{x}$ (sample):"
      ],
      "metadata": {
        "id": "3mbutMtB8sja"
      }
    },
    {
      "cell_type": "markdown",
      "source": [
        "$$ \\bar{x} = \\frac{\\sum_{i=1}^n x_i}{n} $$"
      ],
      "metadata": {
        "id": "X3vkZSy88xmg"
      }
    },
    {
      "cell_type": "markdown",
      "source": [
        "Expected value is in fact the long-term *mean* of some function (i.e., $\\mu = \\mathbb{E}$). Let's calculate how close the sample mean, $\\bar{x}$, of our five-coin-flip experiments comes to the expected value, $\\mathbb{E} = 2.5$."
      ],
      "metadata": {
        "id": "rX9WZUEL81cK"
      }
    },
    {
      "cell_type": "code",
      "source": [
        "len(heads_count)"
      ],
      "metadata": {
        "colab": {
          "base_uri": "https://localhost:8080/"
        },
        "id": "kQgB2FQK84AI",
        "outputId": "60649d97-f37c-462c-de51-fc601db9ff74"
      },
      "execution_count": 20,
      "outputs": [
        {
          "output_type": "execute_result",
          "data": {
            "text/plain": [
              "1000"
            ]
          },
          "metadata": {},
          "execution_count": 20
        }
      ]
    },
    {
      "cell_type": "code",
      "source": [
        "heads_count[0:20]"
      ],
      "metadata": {
        "colab": {
          "base_uri": "https://localhost:8080/"
        },
        "id": "kz1NGINZ877U",
        "outputId": "cd2b8de2-2172-4954-88de-5dea127f5f1c"
      },
      "execution_count": 21,
      "outputs": [
        {
          "output_type": "execute_result",
          "data": {
            "text/plain": [
              "array([2, 2, 2, 3, 2, 3, 3, 1, 3, 1, 1, 4, 4, 3, 2, 1, 3, 2, 1, 2])"
            ]
          },
          "metadata": {},
          "execution_count": 21
        }
      ]
    },
    {
      "cell_type": "code",
      "source": [
        "sum(heads_count)/len(heads_count)"
      ],
      "metadata": {
        "colab": {
          "base_uri": "https://localhost:8080/"
        },
        "id": "YjoqxOpF9DWe",
        "outputId": "0d24cd82-10cd-45dc-8e9b-7696726fd3b1"
      },
      "execution_count": 22,
      "outputs": [
        {
          "output_type": "execute_result",
          "data": {
            "text/plain": [
              "2.47"
            ]
          },
          "metadata": {},
          "execution_count": 22
        }
      ]
    },
    {
      "cell_type": "code",
      "source": [
        "heads_count.mean() # fun!"
      ],
      "metadata": {
        "colab": {
          "base_uri": "https://localhost:8080/"
        },
        "id": "d7s3qITa9LO2",
        "outputId": "4413d44f-1a7b-42ae-e21a-c7b79800469a"
      },
      "execution_count": 23,
      "outputs": [
        {
          "output_type": "execute_result",
          "data": {
            "text/plain": [
              "2.47"
            ]
          },
          "metadata": {},
          "execution_count": 23
        }
      ]
    },
    {
      "cell_type": "markdown",
      "source": [
        "Pretty close! The law of large numbers implies that as we increase the number of experiments (e.g., to a million -- you're welcome to try it), we'll converge on $\\mathbb{E}=2.5$."
      ],
      "metadata": {
        "id": "SLN-PoyO9Wdu"
      }
    },
    {
      "cell_type": "markdown",
      "source": [
        "#### Median"
      ],
      "metadata": {
        "id": "E3Zry8a99a3V"
      }
    },
    {
      "cell_type": "markdown",
      "source": [
        "The second most common measure of central tendency is the **median**, the midpoint value in the distribution: "
      ],
      "metadata": {
        "id": "z_mKr0HO9e0d"
      }
    },
    {
      "cell_type": "code",
      "source": [
        "heads_count.sort()"
      ],
      "metadata": {
        "id": "rQZYLfCt9hO2"
      },
      "execution_count": 24,
      "outputs": []
    },
    {
      "cell_type": "code",
      "source": [
        "heads_count[0:20]"
      ],
      "metadata": {
        "colab": {
          "base_uri": "https://localhost:8080/"
        },
        "id": "e8Omam0A9lWy",
        "outputId": "a2c38b3e-fcd5-4e08-9bb9-4b9fe47cea3f"
      },
      "execution_count": 25,
      "outputs": [
        {
          "output_type": "execute_result",
          "data": {
            "text/plain": [
              "array([0, 0, 0, 0, 0, 0, 0, 0, 0, 0, 0, 0, 0, 0, 0, 0, 0, 0, 0, 0])"
            ]
          },
          "metadata": {},
          "execution_count": 25
        }
      ]
    },
    {
      "cell_type": "code",
      "source": [
        "heads_count[-20:]"
      ],
      "metadata": {
        "colab": {
          "base_uri": "https://localhost:8080/"
        },
        "id": "_ovIH6cP9ph_",
        "outputId": "7d8568e2-e530-479c-97cd-58090056a853"
      },
      "execution_count": 26,
      "outputs": [
        {
          "output_type": "execute_result",
          "data": {
            "text/plain": [
              "array([5, 5, 5, 5, 5, 5, 5, 5, 5, 5, 5, 5, 5, 5, 5, 5, 5, 5, 5, 5])"
            ]
          },
          "metadata": {},
          "execution_count": 26
        }
      ]
    },
    {
      "cell_type": "code",
      "source": [
        "len(heads_count)"
      ],
      "metadata": {
        "colab": {
          "base_uri": "https://localhost:8080/"
        },
        "id": "SyUX7eYC9vBo",
        "outputId": "6c3d2949-63a2-4ece-d2cb-6ece90a2eecb"
      },
      "execution_count": 27,
      "outputs": [
        {
          "output_type": "execute_result",
          "data": {
            "text/plain": [
              "1000"
            ]
          },
          "metadata": {},
          "execution_count": 27
        }
      ]
    },
    {
      "cell_type": "markdown",
      "source": [
        "With an odd number of values in a distribution, we consider the single midpoint to be the median, e.g., the midpoint of the sorted array `[2, 4, 6, 9, 10]` is six.\n",
        "\n",
        "With an even number, we take the mean of the two values that straddle the midpoint:"
      ],
      "metadata": {
        "id": "zjA5Z7iO9_fp"
      }
    },
    {
      "cell_type": "code",
      "source": [
        "heads_count[499]"
      ],
      "metadata": {
        "colab": {
          "base_uri": "https://localhost:8080/"
        },
        "id": "Y0vP8O2p-CC7",
        "outputId": "cb8c1cd9-7aec-4f24-dc73-c043a3046497"
      },
      "execution_count": 28,
      "outputs": [
        {
          "output_type": "execute_result",
          "data": {
            "text/plain": [
              "3"
            ]
          },
          "metadata": {},
          "execution_count": 28
        }
      ]
    },
    {
      "cell_type": "code",
      "source": [
        "heads_count[500]"
      ],
      "metadata": {
        "colab": {
          "base_uri": "https://localhost:8080/"
        },
        "id": "dK6jBs-G-Hn7",
        "outputId": "1f142d58-9811-4faa-e942-306767f2e5ea"
      },
      "execution_count": 29,
      "outputs": [
        {
          "output_type": "execute_result",
          "data": {
            "text/plain": [
              "3"
            ]
          },
          "metadata": {},
          "execution_count": 29
        }
      ]
    },
    {
      "cell_type": "markdown",
      "source": [
        "...which in this case is obviously three:"
      ],
      "metadata": {
        "id": "Qkokwuh9-Okk"
      }
    },
    {
      "cell_type": "code",
      "source": [
        "(3+3)/2"
      ],
      "metadata": {
        "colab": {
          "base_uri": "https://localhost:8080/"
        },
        "id": "7NaKh_b0-Q5b",
        "outputId": "01cc229e-f6c8-4b73-e81a-5536641129b5"
      },
      "execution_count": 30,
      "outputs": [
        {
          "output_type": "execute_result",
          "data": {
            "text/plain": [
              "3.0"
            ]
          },
          "metadata": {},
          "execution_count": 30
        }
      ]
    },
    {
      "cell_type": "markdown",
      "source": [
        "Built-in method:"
      ],
      "metadata": {
        "id": "ngJJeKAF-WmH"
      }
    },
    {
      "cell_type": "code",
      "source": [
        "np.median(heads_count)"
      ],
      "metadata": {
        "colab": {
          "base_uri": "https://localhost:8080/"
        },
        "id": "PM7zvhmI-Ytk",
        "outputId": "24380665-d827-4e67-e772-0539ff21ae66"
      },
      "execution_count": 31,
      "outputs": [
        {
          "output_type": "execute_result",
          "data": {
            "text/plain": [
              "3.0"
            ]
          },
          "metadata": {},
          "execution_count": 31
        }
      ]
    },
    {
      "cell_type": "markdown",
      "source": [
        "#### Mode"
      ],
      "metadata": {
        "id": "I8oAvqj5-dp5"
      }
    },
    {
      "cell_type": "markdown",
      "source": [
        "The **mode** is the final common measure of central tendency. It is simply the value in the distribution that occurs most frequently.\n",
        "\n",
        "As is clear in the most recently output chart, in the case of our five-coin-toss experiment, the mode is three."
      ],
      "metadata": {
        "id": "z-l3wP18z3Im"
      }
    },
    {
      "cell_type": "markdown",
      "source": [
        "Method available in the SciPy `stats` module:"
      ],
      "metadata": {
        "id": "HoqmP9990GEl"
      }
    },
    {
      "cell_type": "code",
      "source": [
        "st.mode(heads_count)"
      ],
      "metadata": {
        "colab": {
          "base_uri": "https://localhost:8080/"
        },
        "id": "yeLAJ1kL0IbU",
        "outputId": "a3cf560d-939c-4839-b607-584f8ebdbc56"
      },
      "execution_count": 32,
      "outputs": [
        {
          "output_type": "stream",
          "name": "stderr",
          "text": [
            "<ipython-input-32-acf1b416ab79>:1: FutureWarning: Unlike other reduction functions (e.g. `skew`, `kurtosis`), the default behavior of `mode` typically preserves the axis it acts along. In SciPy 1.11.0, this behavior will change: the default value of `keepdims` will become False, the `axis` over which the statistic is taken will be eliminated, and the value None will no longer be accepted. Set `keepdims` to True or False to avoid this warning.\n",
            "  st.mode(heads_count)\n"
          ]
        },
        {
          "output_type": "execute_result",
          "data": {
            "text/plain": [
              "ModeResult(mode=array([3]), count=array([313]))"
            ]
          },
          "metadata": {},
          "execution_count": 32
        }
      ]
    },
    {
      "cell_type": "code",
      "source": [
        "st.mode(heads_count)[0][0]"
      ],
      "metadata": {
        "colab": {
          "base_uri": "https://localhost:8080/"
        },
        "id": "_eAbm26X0Vul",
        "outputId": "f84f3058-59d2-44ec-8cdb-3801d7455fc3"
      },
      "execution_count": 33,
      "outputs": [
        {
          "output_type": "stream",
          "name": "stderr",
          "text": [
            "<ipython-input-33-421841b995e3>:1: FutureWarning: Unlike other reduction functions (e.g. `skew`, `kurtosis`), the default behavior of `mode` typically preserves the axis it acts along. In SciPy 1.11.0, this behavior will change: the default value of `keepdims` will become False, the `axis` over which the statistic is taken will be eliminated, and the value None will no longer be accepted. Set `keepdims` to True or False to avoid this warning.\n",
            "  st.mode(heads_count)[0][0]\n"
          ]
        },
        {
          "output_type": "execute_result",
          "data": {
            "text/plain": [
              "3"
            ]
          },
          "metadata": {},
          "execution_count": 33
        }
      ]
    },
    {
      "cell_type": "markdown",
      "source": [
        "With small sample sizes, the mean typically provides the most accurate measure of central tendency.\n",
        "\n",
        "With larger sample sizes, the mean, median, and mode will tend to coincide, as long as the distribution isn't skewed:"
      ],
      "metadata": {
        "id": "SyEQ486D0c5t"
      }
    },
    {
      "cell_type": "code",
      "source": [
        "x = st.skewnorm.rvs(0, size = 1000) # first argument is \"skewness\"; 0 has no skew"
      ],
      "metadata": {
        "id": "-5tn4VkW0jBk"
      },
      "execution_count": 34,
      "outputs": []
    },
    {
      "cell_type": "code",
      "source": [
        "fig, ax = plt.subplots()\n",
        "plt.axvline(x = np.mean(x), color = 'orange')\n",
        "plt.axvline(x = np.median(x), color = 'green')\n",
        "_ = plt.hist(x, color = 'lightgray')\n",
        "# Note: Mode typically only applies to PMFs; this is a PDF"
      ],
      "metadata": {
        "colab": {
          "base_uri": "https://localhost:8080/",
          "height": 265
        },
        "id": "TNpi2_hf03ye",
        "outputId": "615f6970-a2f6-4291-dd41-e4ab0cd37b65"
      },
      "execution_count": 35,
      "outputs": [
        {
          "output_type": "display_data",
          "data": {
            "text/plain": [
              "<Figure size 432x288 with 1 Axes>"
            ],
            "image/png": "[encoded data removed]"
          },
          "metadata": {
            "needs_background": "light"
          }
        }
      ]
    },
    {
      "cell_type": "markdown",
      "source": [
        "Skewed distributions, in contrast, drag the mean away from the center and toward the tail:"
      ],
      "metadata": {
        "id": "uaVBnjvF1n16"
      }
    },
    {
      "cell_type": "code",
      "source": [
        "x = st.skewnorm.rvs(10, size = 1000)"
      ],
      "metadata": {
        "id": "7DsBaimH1qgc"
      },
      "execution_count": 36,
      "outputs": []
    },
    {
      "cell_type": "code",
      "source": [
        "fig, ax = plt.subplots()\n",
        "plt.axvline(x = np.mean(x), color = 'orange')\n",
        "_ = plt.hist(x, color = 'lightgray')"
      ],
      "metadata": {
        "colab": {
          "base_uri": "https://localhost:8080/",
          "height": 265
        },
        "id": "54KQHXn7120P",
        "outputId": "c7b22360-6960-4bec-f39d-be68ab83df33"
      },
      "execution_count": 37,
      "outputs": [
        {
          "output_type": "display_data",
          "data": {
            "text/plain": [
              "<Figure size 432x288 with 1 Axes>"
            ],
            "image/png": "[encoded data removed]"
          },
          "metadata": {
            "needs_background": "light"
          }
        }
      ]
    },
    {
      "cell_type": "markdown",
      "source": [
        "The mode is least impacted by skew, but is only applicable to discrete distributions. For continuous distributions with skew (e.g., salary data), median is typically the choice measure of central tendency:"
      ],
      "metadata": {
        "id": "qIfPqvUW2K4b"
      }
    },
    {
      "cell_type": "code",
      "source": [
        "fig, ax = plt.subplots()\n",
        "plt.axvline(x = np.mean(x), color = 'orange')\n",
        "plt.axvline(x = np.median(x), color = 'green')\n",
        "_ = plt.hist(x, color = 'lightgray')"
      ],
      "metadata": {
        "colab": {
          "base_uri": "https://localhost:8080/",
          "height": 265
        },
        "id": "EFOP8iMg2OkX",
        "outputId": "27533a89-1c9f-4bf0-bb6b-998eb7227d4e"
      },
      "execution_count": 38,
      "outputs": [
        {
          "output_type": "display_data",
          "data": {
            "text/plain": [
              "<Figure size 432x288 with 1 Axes>"
            ],
            "image/png": "[encoded data removed]"
          },
          "metadata": {
            "needs_background": "light"
          }
        }
      ]
    },
    {
      "cell_type": "markdown",
      "source": [
        "### Quantiles"
      ],
      "metadata": {
        "id": "YDV4XLrA2pQq"
      }
    },
    {
      "cell_type": "markdown",
      "source": [
        "The median, which divides a distribution in two at its midpoint, is the most well-known example of a quantile:"
      ],
      "metadata": {
        "id": "5vq6ws8f2t4t"
      }
    },
    {
      "cell_type": "code",
      "source": [
        "np.median(x)"
      ],
      "metadata": {
        "colab": {
          "base_uri": "https://localhost:8080/"
        },
        "id": "i_iWrbi62yWZ",
        "outputId": "1009b910-ca65-4ccf-c87c-9b3cab8348a6"
      },
      "execution_count": 39,
      "outputs": [
        {
          "output_type": "execute_result",
          "data": {
            "text/plain": [
              "0.6987365121323832"
            ]
          },
          "metadata": {},
          "execution_count": 39
        }
      ]
    },
    {
      "cell_type": "code",
      "source": [
        "np.quantile(x, 0.5)"
      ],
      "metadata": {
        "colab": {
          "base_uri": "https://localhost:8080/"
        },
        "id": "cp0AMf5Z21Yw",
        "outputId": "36f04ffe-1a6c-48f2-8a15-19ed893f3fd8"
      },
      "execution_count": 40,
      "outputs": [
        {
          "output_type": "execute_result",
          "data": {
            "text/plain": [
              "0.6987365121323832"
            ]
          },
          "metadata": {},
          "execution_count": 40
        }
      ]
    },
    {
      "cell_type": "markdown",
      "source": [
        "Generally speaking, quantiles divide up distributions and the most common are:\n",
        "\n",
        "* Percentiles, \n",
        "* Quartiles, and\n",
        "* Deciles."
      ],
      "metadata": {
        "id": "tgvCKBoM2-Jl"
      }
    },
    {
      "cell_type": "markdown",
      "source": [
        "**Percentiles** divide the distribution at any point out of one hundred (\"pour cent\" is French for \"out of a hundred\"). For example, if we'd like to identify the threshold for the top 5% of a distribution, we'd cut it at the 95th percentile. Or, for the top 1%, we'd cut at the 99th percentile."
      ],
      "metadata": {
        "id": "Ayuj7YV-3C0c"
      }
    },
    {
      "cell_type": "code",
      "source": [
        "p = np.percentile(x, [95,99])\n",
        "p"
      ],
      "metadata": {
        "colab": {
          "base_uri": "https://localhost:8080/"
        },
        "id": "gEqnFJ933Fwf",
        "outputId": "719ead37-78a1-4927-a3f3-618a313ba0c6"
      },
      "execution_count": 41,
      "outputs": [
        {
          "output_type": "execute_result",
          "data": {
            "text/plain": [
              "array([2.06249928, 2.51830108])"
            ]
          },
          "metadata": {},
          "execution_count": 41
        }
      ]
    },
    {
      "cell_type": "code",
      "source": [
        "fig, ax = plt.subplots()\n",
        "plt.axvline(x = p[0], color = 'orange')\n",
        "plt.axvline(x = p[1], color = 'red')\n",
        "_ = plt.hist(x, color = 'lightgray')"
      ],
      "metadata": {
        "colab": {
          "base_uri": "https://localhost:8080/",
          "height": 265
        },
        "id": "-Tz7guaa3P6n",
        "outputId": "727b8f67-78d2-4c18-aa26-4423fd3417a7"
      },
      "execution_count": 42,
      "outputs": [
        {
          "output_type": "display_data",
          "data": {
            "text/plain": [
              "<Figure size 432x288 with 1 Axes>"
            ],
            "image/png": "[encoded data removed]"
          },
          "metadata": {
            "needs_background": "light"
          }
        }
      ]
    },
    {
      "cell_type": "markdown",
      "source": [
        "Note that the Numpy `quantile()` method is identical to the `percentile()` method except we pass proportions (ranging from zero to one) into the former and percentages (ranging from zero to 100) into the latter:"
      ],
      "metadata": {
        "id": "8DPWp3oT3qGt"
      }
    },
    {
      "cell_type": "code",
      "source": [
        "np.quantile(x, [.95, .99])"
      ],
      "metadata": {
        "colab": {
          "base_uri": "https://localhost:8080/"
        },
        "id": "hgiQ1P-33xEN",
        "outputId": "330791a0-bccf-4cec-9b83-c0c66eefe7e2"
      },
      "execution_count": 43,
      "outputs": [
        {
          "output_type": "execute_result",
          "data": {
            "text/plain": [
              "array([2.06249928, 2.51830108])"
            ]
          },
          "metadata": {},
          "execution_count": 43
        }
      ]
    },
    {
      "cell_type": "markdown",
      "source": [
        "**Quartiles**, as their name suggests, are quantiles that divide a distribution into quarters by splitting the distribution at the 25th percentile, the median (a.k.a. the 50th percentile), and the 75th percentile:"
      ],
      "metadata": {
        "id": "Ujyp0UQ236Pj"
      }
    },
    {
      "cell_type": "code",
      "source": [
        "q = np.percentile(x, [25,50,75])\n",
        "q"
      ],
      "metadata": {
        "colab": {
          "base_uri": "https://localhost:8080/"
        },
        "id": "TeW5rm-34ILm",
        "outputId": "fb41a066-1746-462f-81b1-52544fe8c8e0"
      },
      "execution_count": 44,
      "outputs": [
        {
          "output_type": "execute_result",
          "data": {
            "text/plain": [
              "array([0.32494046, 0.69873651, 1.19431522])"
            ]
          },
          "metadata": {},
          "execution_count": 44
        }
      ]
    },
    {
      "cell_type": "code",
      "source": [
        "fig, ax = plt.subplots()\n",
        "plt.axvline(x = q[0], color = 'cornflowerblue')\n",
        "plt.axvline(x = q[1], color = 'green')\n",
        "plt.axvline(x = q[2], color = 'cornflowerblue')\n",
        "_ = plt.hist(x, color = 'lightgray')"
      ],
      "metadata": {
        "colab": {
          "base_uri": "https://localhost:8080/",
          "height": 265
        },
        "id": "4cjiGJQI4QJM",
        "outputId": "ab9d9b2b-1515-4bc0-e0a8-b49fa7e8ee92"
      },
      "execution_count": 45,
      "outputs": [
        {
          "output_type": "display_data",
          "data": {
            "text/plain": [
              "<Figure size 432x288 with 1 Axes>"
            ],
            "image/png": "[encoded data removed]"
          },
          "metadata": {
            "needs_background": "light"
          }
        }
      ]
    },
    {
      "cell_type": "markdown",
      "source": [
        "Finally, **deciles** (from Latin *decimus*, meaning \"tenth\") divide a distribution into ten evenly-sized segments:"
      ],
      "metadata": {
        "id": "106LXxA_40aO"
      }
    },
    {
      "cell_type": "code",
      "source": [
        "[i for i in range(10,100,10)]"
      ],
      "metadata": {
        "colab": {
          "base_uri": "https://localhost:8080/"
        },
        "id": "_Rgh9TCk43O4",
        "outputId": "76868dfb-bc52-440f-adf5-c832a70913dc"
      },
      "execution_count": 46,
      "outputs": [
        {
          "output_type": "execute_result",
          "data": {
            "text/plain": [
              "[10, 20, 30, 40, 50, 60, 70, 80, 90]"
            ]
          },
          "metadata": {},
          "execution_count": 46
        }
      ]
    },
    {
      "cell_type": "code",
      "source": [
        "d = np.percentile(x, range(10,100,10))\n",
        "d"
      ],
      "metadata": {
        "colab": {
          "base_uri": "https://localhost:8080/"
        },
        "id": "El0XDSGA5BAl",
        "outputId": "88193b8a-4984-437b-d0ea-69f335b4ae63"
      },
      "execution_count": 47,
      "outputs": [
        {
          "output_type": "execute_result",
          "data": {
            "text/plain": [
              "array([0.11871856, 0.24991108, 0.3992659 , 0.53290322, 0.69873651,\n",
              "       0.86771624, 1.08994827, 1.30781239, 1.75782249])"
            ]
          },
          "metadata": {},
          "execution_count": 47
        }
      ]
    },
    {
      "cell_type": "code",
      "source": [
        "fig, ax= plt.subplots()\n",
        "[plt.axvline(x = d_i, color = 'cornflowerblue') for d_i in d]\n",
        "_ = plt.hist(x, color = 'lightgray')"
      ],
      "metadata": {
        "colab": {
          "base_uri": "https://localhost:8080/",
          "height": 265
        },
        "id": "QL-ixVe55JY3",
        "outputId": "299ad414-59f9-403c-9294-9eab8de848e6"
      },
      "execution_count": 48,
      "outputs": [
        {
          "output_type": "display_data",
          "data": {
            "text/plain": [
              "<Figure size 432x288 with 1 Axes>"
            ],
            "image/png": "[encoded data removed]"
          },
          "metadata": {
            "needs_background": "light"
          }
        }
      ]
    },
    {
      "cell_type": "markdown",
      "source": [
        "As examples, we can refer to the bottom 10% as the bottom decile or the first decile, while the top 10% is the top decile or tenth decile."
      ],
      "metadata": {
        "id": "unp3ScV45sdR"
      }
    },
    {
      "cell_type": "markdown",
      "source": [
        "### The Box-and-Whisker Plot"
      ],
      "metadata": {
        "id": "lA5Dp63M5xsG"
      }
    },
    {
      "cell_type": "code",
      "source": [
        "sns.set(style = 'whitegrid')"
      ],
      "metadata": {
        "id": "Bt7oht8G5zQX"
      },
      "execution_count": 49,
      "outputs": []
    },
    {
      "cell_type": "code",
      "source": [
        "_ = sns.boxplot(x=x)"
      ],
      "metadata": {
        "colab": {
          "base_uri": "https://localhost:8080/",
          "height": 268
        },
        "id": "d7NPf4Mj57dq",
        "outputId": "196bd892-bcaf-4f16-a8b7-4cf5ce430c1e"
      },
      "execution_count": 50,
      "outputs": [
        {
          "output_type": "display_data",
          "data": {
            "text/plain": [
              "<Figure size 432x288 with 1 Axes>"
            ],
            "image/png": "[encoded data removed]"
          },
          "metadata": {}
        }
      ]
    },
    {
      "cell_type": "markdown",
      "source": [
        "Box edges and median are determined by quartiles:"
      ],
      "metadata": {
        "id": "osqsLUpC6Dq9"
      }
    },
    {
      "cell_type": "code",
      "source": [
        "q"
      ],
      "metadata": {
        "colab": {
          "base_uri": "https://localhost:8080/"
        },
        "id": "-Ec-aHcj6Gc2",
        "outputId": "df934b07-3768-400e-dd31-66434d643e8f"
      },
      "execution_count": 51,
      "outputs": [
        {
          "output_type": "execute_result",
          "data": {
            "text/plain": [
              "array([0.32494046, 0.69873651, 1.19431522])"
            ]
          },
          "metadata": {},
          "execution_count": 51
        }
      ]
    },
    {
      "cell_type": "markdown",
      "source": [
        "Box edges define the **inter-quartile range** (IQR):"
      ],
      "metadata": {
        "id": "sj1Pzicj6K1w"
      }
    },
    {
      "cell_type": "code",
      "source": [
        "r = 1.194 - 0.325\n",
        "r"
      ],
      "metadata": {
        "colab": {
          "base_uri": "https://localhost:8080/"
        },
        "id": "J4LWW23V6MsS",
        "outputId": "21dd8ce7-2526-4428-8805-ff4324e47832"
      },
      "execution_count": 52,
      "outputs": [
        {
          "output_type": "execute_result",
          "data": {
            "text/plain": [
              "0.869"
            ]
          },
          "metadata": {},
          "execution_count": 52
        }
      ]
    },
    {
      "cell_type": "markdown",
      "source": [
        "Whisker lengths are determined by furthest data points within $1.5 \\times \\text{IQR}$ of the box edges."
      ],
      "metadata": {
        "id": "gIyHbCR76VZy"
      }
    },
    {
      "cell_type": "markdown",
      "source": [
        "In this case, the lower whisker could stretch as far down (to the left in the plot) as:"
      ],
      "metadata": {
        "id": "Wab8PJ-16aC4"
      }
    },
    {
      "cell_type": "code",
      "source": [
        "0.325 - 1.5*r"
      ],
      "metadata": {
        "colab": {
          "base_uri": "https://localhost:8080/"
        },
        "id": "kFJ77_i56ceC",
        "outputId": "379432bf-ba9e-4675-93ff-6ba526aecbc5"
      },
      "execution_count": 53,
      "outputs": [
        {
          "output_type": "execute_result",
          "data": {
            "text/plain": [
              "-0.9785000000000001"
            ]
          },
          "metadata": {},
          "execution_count": 53
        }
      ]
    },
    {
      "cell_type": "markdown",
      "source": [
        "The lowest value is inside of that so the whisker is plotted where that lowest value is:"
      ],
      "metadata": {
        "id": "tz5SDYaI6kLz"
      }
    },
    {
      "cell_type": "code",
      "source": [
        "np.min(x)"
      ],
      "metadata": {
        "colab": {
          "base_uri": "https://localhost:8080/"
        },
        "id": "j-qA4hm46oEX",
        "outputId": "87cfe300-5a96-4d95-c033-e6aa21b4d80b"
      },
      "execution_count": 54,
      "outputs": [
        {
          "output_type": "execute_result",
          "data": {
            "text/plain": [
              "-0.17083838831568182"
            ]
          },
          "metadata": {},
          "execution_count": 54
        }
      ]
    },
    {
      "cell_type": "markdown",
      "source": [
        "The upper whisker could stretch as far up (to the right in the plot) as:"
      ],
      "metadata": {
        "id": "dcge9uR-6s2G"
      }
    },
    {
      "cell_type": "code",
      "source": [
        "1.194 + 1.5*r"
      ],
      "metadata": {
        "colab": {
          "base_uri": "https://localhost:8080/"
        },
        "id": "M02g4N2N6uPu",
        "outputId": "ca753df4-e6e1-41a1-ca7e-90c4c2b5f871"
      },
      "execution_count": 55,
      "outputs": [
        {
          "output_type": "execute_result",
          "data": {
            "text/plain": [
              "2.4975"
            ]
          },
          "metadata": {},
          "execution_count": 55
        }
      ]
    },
    {
      "cell_type": "markdown",
      "source": [
        "There are several (eleven) values beyond this threshold in the distribution. These values are considered **outliers** and are plotted as individual points:"
      ],
      "metadata": {
        "id": "lrGypf_p6z4i"
      }
    },
    {
      "cell_type": "code",
      "source": [
        "x.sort()"
      ],
      "metadata": {
        "id": "fVmkjqLT63a9"
      },
      "execution_count": 56,
      "outputs": []
    },
    {
      "cell_type": "code",
      "source": [
        "x[-15:]"
      ],
      "metadata": {
        "colab": {
          "base_uri": "https://localhost:8080/"
        },
        "id": "xa7I931566ed",
        "outputId": "c108cf3e-de6e-409d-a1ba-f7bfe25f53c4"
      },
      "execution_count": 57,
      "outputs": [
        {
          "output_type": "execute_result",
          "data": {
            "text/plain": [
              "array([2.39810074, 2.40295599, 2.41430044, 2.43541111, 2.51827951,\n",
              "       2.52043572, 2.56177972, 2.74024547, 2.74882884, 2.78877435,\n",
              "       2.88399304, 2.93368541, 2.94293176, 3.46465001, 4.00641863])"
            ]
          },
          "metadata": {},
          "execution_count": 57
        }
      ]
    },
    {
      "cell_type": "markdown",
      "source": [
        "The twelth-highest value, 2.435, is the largest within the upper whisker's maximum reach and so the upper whisker is plotted there."
      ],
      "metadata": {
        "id": "YXMfsFUL6_lf"
      }
    },
    {
      "cell_type": "markdown",
      "source": [
        "Useful for examining distributions on their own, box-and-whisker plots are especially helpful for comparing distributions:"
      ],
      "metadata": {
        "id": "PO2n9p6Q7Eiv"
      }
    },
    {
      "cell_type": "code",
      "source": [
        "iris = sns.load_dataset('iris')\n",
        "iris"
      ],
      "metadata": {
        "colab": {
          "base_uri": "https://localhost:8080/",
          "height": 424
        },
        "id": "G-brw-gg7HKg",
        "outputId": "4d418592-fa54-4107-da3a-4813bd89968b"
      },
      "execution_count": 58,
      "outputs": [
        {
          "output_type": "execute_result",
          "data": {
            "text/plain": [
              "     sepal_length  sepal_width  petal_length  petal_width    species\n",
              "0             5.1          3.5           1.4          0.2     setosa\n",
              "1             4.9          3.0           1.4          0.2     setosa\n",
              "2             4.7          3.2           1.3          0.2     setosa\n",
              "3             4.6          3.1           1.5          0.2     setosa\n",
              "4             5.0          3.6           1.4          0.2     setosa\n",
              "..            ...          ...           ...          ...        ...\n",
              "145           6.7          3.0           5.2          2.3  virginica\n",
              "146           6.3          2.5           5.0          1.9  virginica\n",
              "147           6.5          3.0           5.2          2.0  virginica\n",
              "148           6.2          3.4           5.4          2.3  virginica\n",
              "149           5.9          3.0           5.1          1.8  virginica\n",
              "\n",
              "[150 rows x 5 columns]"
            ],
            "text/html": [
              "\n",
              "  <div id=\"df-c5cfd71b-88a7-4b47-a7ff-f41cd22e2004\">\n",
              "    <div class=\"colab-df-container\">\n",
              "      <div>\n",
              "<style scoped>\n",
              "    .dataframe tbody tr th:only-of-type {\n",
              "        vertical-align: middle;\n",
              "    }\n",
              "\n",
              "    .dataframe tbody tr th {\n",
              "        vertical-align: top;\n",
              "    }\n",
              "\n",
              "    .dataframe thead th {\n",
              "        text-align: right;\n",
              "    }\n",
              "</style>\n",
              "<table border=\"1\" class=\"dataframe\">\n",
              "  <thead>\n",
              "    <tr style=\"text-align: right;\">\n",
              "      <th></th>\n",
              "      <th>sepal_length</th>\n",
              "      <th>sepal_width</th>\n",
              "      <th>petal_length</th>\n",
              "      <th>petal_width</th>\n",
              "      <th>species</th>\n",
              "    </tr>\n",
              "  </thead>\n",
              "  <tbody>\n",
              "    <tr>\n",
              "      <th>0</th>\n",
              "      <td>5.1</td>\n",
              "      <td>3.5</td>\n",
              "      <td>1.4</td>\n",
              "      <td>0.2</td>\n",
              "      <td>setosa</td>\n",
              "    </tr>\n",
              "    <tr>\n",
              "      <th>1</th>\n",
              "      <td>4.9</td>\n",
              "      <td>3.0</td>\n",
              "      <td>1.4</td>\n",
              "      <td>0.2</td>\n",
              "      <td>setosa</td>\n",
              "    </tr>\n",
              "    <tr>\n",
              "      <th>2</th>\n",
              "      <td>4.7</td>\n",
              "      <td>3.2</td>\n",
              "      <td>1.3</td>\n",
              "      <td>0.2</td>\n",
              "      <td>setosa</td>\n",
              "    </tr>\n",
              "    <tr>\n",
              "      <th>3</th>\n",
              "      <td>4.6</td>\n",
              "      <td>3.1</td>\n",
              "      <td>1.5</td>\n",
              "      <td>0.2</td>\n",
              "      <td>setosa</td>\n",
              "    </tr>\n",
              "    <tr>\n",
              "      <th>4</th>\n",
              "      <td>5.0</td>\n",
              "      <td>3.6</td>\n",
              "      <td>1.4</td>\n",
              "      <td>0.2</td>\n",
              "      <td>setosa</td>\n",
              "    </tr>\n",
              "    <tr>\n",
              "      <th>...</th>\n",
              "      <td>...</td>\n",
              "      <td>...</td>\n",
              "      <td>...</td>\n",
              "      <td>...</td>\n",
              "      <td>...</td>\n",
              "    </tr>\n",
              "    <tr>\n",
              "      <th>145</th>\n",
              "      <td>6.7</td>\n",
              "      <td>3.0</td>\n",
              "      <td>5.2</td>\n",
              "      <td>2.3</td>\n",
              "      <td>virginica</td>\n",
              "    </tr>\n",
              "    <tr>\n",
              "      <th>146</th>\n",
              "      <td>6.3</td>\n",
              "      <td>2.5</td>\n",
              "      <td>5.0</td>\n",
              "      <td>1.9</td>\n",
              "      <td>virginica</td>\n",
              "    </tr>\n",
              "    <tr>\n",
              "      <th>147</th>\n",
              "      <td>6.5</td>\n",
              "      <td>3.0</td>\n",
              "      <td>5.2</td>\n",
              "      <td>2.0</td>\n",
              "      <td>virginica</td>\n",
              "    </tr>\n",
              "    <tr>\n",
              "      <th>148</th>\n",
              "      <td>6.2</td>\n",
              "      <td>3.4</td>\n",
              "      <td>5.4</td>\n",
              "      <td>2.3</td>\n",
              "      <td>virginica</td>\n",
              "    </tr>\n",
              "    <tr>\n",
              "      <th>149</th>\n",
              "      <td>5.9</td>\n",
              "      <td>3.0</td>\n",
              "      <td>5.1</td>\n",
              "      <td>1.8</td>\n",
              "      <td>virginica</td>\n",
              "    </tr>\n",
              "  </tbody>\n",
              "</table>\n",
              "<p>150 rows × 5 columns</p>\n",
              "</div>\n",
              "      <button class=\"colab-df-convert\" onclick=\"convertToInteractive('df-c5cfd71b-88a7-4b47-a7ff-f41cd22e2004')\"\n",
              "              title=\"Convert this dataframe to an interactive table.\"\n",
              "              style=\"display:none;\">\n",
              "        \n",
              "  <svg xmlns=\"http://www.w3.org/2000/svg\" height=\"24px\"viewBox=\"0 0 24 24\"\n",
              "       width=\"24px\">\n",
              "    <path d=\"M0 0h24v24H0V0z\" fill=\"none\"/>\n",
              "    <path d=\"M18.56 5.44l.94 2.06.94-2.06 2.06-.94-2.06-.94-.94-2.06-.94 2.06-2.06.94zm-11 1L8.5 8.5l.94-2.06 2.06-.94-2.06-.94L8.5 2.5l-.94 2.06-2.06.94zm10 10l.94 2.06.94-2.06 2.06-.94-2.06-.94-.94-2.06-.94 2.06-2.06.94z\"/><path d=\"M17.41 7.96l-1.37-1.37c-.4-.4-.92-.59-1.43-.59-.52 0-1.04.2-1.43.59L10.3 9.45l-7.72 7.72c-.78.78-.78 2.05 0 2.83L4 21.41c.39.39.9.59 1.41.59.51 0 1.02-.2 1.41-.59l7.78-7.78 2.81-2.81c.8-.78.8-2.07 0-2.86zM5.41 20L4 18.59l7.72-7.72 1.47 1.35L5.41 20z\"/>\n",
              "  </svg>\n",
              "      </button>\n",
              "      \n",
              "  <style>\n",
              "    .colab-df-container {\n",
              "      display:flex;\n",
              "      flex-wrap:wrap;\n",
              "      gap: 12px;\n",
              "    }\n",
              "\n",
              "    .colab-df-convert {\n",
              "      background-color: #E8F0FE;\n",
              "      border: none;\n",
              "      border-radius: 50%;\n",
              "      cursor: pointer;\n",
              "      display: none;\n",
              "      fill: #1967D2;\n",
              "      height: 32px;\n",
              "      padding: 0 0 0 0;\n",
              "      width: 32px;\n",
              "    }\n",
              "\n",
              "    .colab-df-convert:hover {\n",
              "      background-color: #E2EBFA;\n",
              "      box-shadow: 0px 1px 2px rgba(60, 64, 67, 0.3), 0px 1px 3px 1px rgba(60, 64, 67, 0.15);\n",
              "      fill: #174EA6;\n",
              "    }\n",
              "\n",
              "    [theme=dark] .colab-df-convert {\n",
              "      background-color: #3B4455;\n",
              "      fill: #D2E3FC;\n",
              "    }\n",
              "\n",
              "    [theme=dark] .colab-df-convert:hover {\n",
              "      background-color: #434B5C;\n",
              "      box-shadow: 0px 1px 3px 1px rgba(0, 0, 0, 0.15);\n",
              "      filter: drop-shadow(0px 1px 2px rgba(0, 0, 0, 0.3));\n",
              "      fill: #FFFFFF;\n",
              "    }\n",
              "  </style>\n",
              "\n",
              "      <script>\n",
              "        const buttonEl =\n",
              "          document.querySelector('#df-c5cfd71b-88a7-4b47-a7ff-f41cd22e2004 button.colab-df-convert');\n",
              "        buttonEl.style.display =\n",
              "          google.colab.kernel.accessAllowed ? 'block' : 'none';\n",
              "\n",
              "        async function convertToInteractive(key) {\n",
              "          const element = document.querySelector('#df-c5cfd71b-88a7-4b47-a7ff-f41cd22e2004');\n",
              "          const dataTable =\n",
              "            await google.colab.kernel.invokeFunction('convertToInteractive',\n",
              "                                                     [key], {});\n",
              "          if (!dataTable) return;\n",
              "\n",
              "          const docLinkHtml = 'Like what you see? Visit the ' +\n",
              "            '<a target=\"_blank\" href=https://colab.research.google.com/notebooks/data_table.ipynb>data table notebook</a>'\n",
              "            + ' to learn more about interactive tables.';\n",
              "          element.innerHTML = '';\n",
              "          dataTable['output_type'] = 'display_data';\n",
              "          await google.colab.output.renderOutput(dataTable, element);\n",
              "          const docLink = document.createElement('div');\n",
              "          docLink.innerHTML = docLinkHtml;\n",
              "          element.appendChild(docLink);\n",
              "        }\n",
              "      </script>\n",
              "    </div>\n",
              "  </div>\n",
              "  "
            ]
          },
          "metadata": {},
          "execution_count": 58
        }
      ]
    },
    {
      "cell_type": "code",
      "source": [
        "_ = sns.boxplot(data = iris)"
      ],
      "metadata": {
        "colab": {
          "base_uri": "https://localhost:8080/",
          "height": 269
        },
        "id": "qLWW6iCv7ReD",
        "outputId": "fedda77a-d82b-4f41-f686-14609624080a"
      },
      "execution_count": 59,
      "outputs": [
        {
          "output_type": "display_data",
          "data": {
            "text/plain": [
              "<Figure size 432x288 with 1 Axes>"
            ],
            "image/png": "[encoded data removed]"
          },
          "metadata": {}
        }
      ]
    },
    {
      "cell_type": "code",
      "source": [
        "tips = sns.load_dataset('tips')\n",
        "tips"
      ],
      "metadata": {
        "colab": {
          "base_uri": "https://localhost:8080/",
          "height": 424
        },
        "id": "-PrQg89M7aHt",
        "outputId": "92cf172e-d663-4161-816d-7b9aef66a01c"
      },
      "execution_count": 60,
      "outputs": [
        {
          "output_type": "execute_result",
          "data": {
            "text/plain": [
              "     total_bill   tip     sex smoker   day    time  size\n",
              "0         16.99  1.01  Female     No   Sun  Dinner     2\n",
              "1         10.34  1.66    Male     No   Sun  Dinner     3\n",
              "2         21.01  3.50    Male     No   Sun  Dinner     3\n",
              "3         23.68  3.31    Male     No   Sun  Dinner     2\n",
              "4         24.59  3.61  Female     No   Sun  Dinner     4\n",
              "..          ...   ...     ...    ...   ...     ...   ...\n",
              "239       29.03  5.92    Male     No   Sat  Dinner     3\n",
              "240       27.18  2.00  Female    Yes   Sat  Dinner     2\n",
              "241       22.67  2.00    Male    Yes   Sat  Dinner     2\n",
              "242       17.82  1.75    Male     No   Sat  Dinner     2\n",
              "243       18.78  3.00  Female     No  Thur  Dinner     2\n",
              "\n",
              "[244 rows x 7 columns]"
            ],
            "text/html": [
              "\n",
              "  <div id=\"df-f38e46c4-01ed-4198-9eb1-9f8690c8d1d4\">\n",
              "    <div class=\"colab-df-container\">\n",
              "      <div>\n",
              "<style scoped>\n",
              "    .dataframe tbody tr th:only-of-type {\n",
              "        vertical-align: middle;\n",
              "    }\n",
              "\n",
              "    .dataframe tbody tr th {\n",
              "        vertical-align: top;\n",
              "    }\n",
              "\n",
              "    .dataframe thead th {\n",
              "        text-align: right;\n",
              "    }\n",
              "</style>\n",
              "<table border=\"1\" class=\"dataframe\">\n",
              "  <thead>\n",
              "    <tr style=\"text-align: right;\">\n",
              "      <th></th>\n",
              "      <th>total_bill</th>\n",
              "      <th>tip</th>\n",
              "      <th>sex</th>\n",
              "      <th>smoker</th>\n",
              "      <th>day</th>\n",
              "      <th>time</th>\n",
              "      <th>size</th>\n",
              "    </tr>\n",
              "  </thead>\n",
              "  <tbody>\n",
              "    <tr>\n",
              "      <th>0</th>\n",
              "      <td>16.99</td>\n",
              "      <td>1.01</td>\n",
              "      <td>Female</td>\n",
              "      <td>No</td>\n",
              "      <td>Sun</td>\n",
              "      <td>Dinner</td>\n",
              "      <td>2</td>\n",
              "    </tr>\n",
              "    <tr>\n",
              "      <th>1</th>\n",
              "      <td>10.34</td>\n",
              "      <td>1.66</td>\n",
              "      <td>Male</td>\n",
              "      <td>No</td>\n",
              "      <td>Sun</td>\n",
              "      <td>Dinner</td>\n",
              "      <td>3</td>\n",
              "    </tr>\n",
              "    <tr>\n",
              "      <th>2</th>\n",
              "      <td>21.01</td>\n",
              "      <td>3.50</td>\n",
              "      <td>Male</td>\n",
              "      <td>No</td>\n",
              "      <td>Sun</td>\n",
              "      <td>Dinner</td>\n",
              "      <td>3</td>\n",
              "    </tr>\n",
              "    <tr>\n",
              "      <th>3</th>\n",
              "      <td>23.68</td>\n",
              "      <td>3.31</td>\n",
              "      <td>Male</td>\n",
              "      <td>No</td>\n",
              "      <td>Sun</td>\n",
              "      <td>Dinner</td>\n",
              "      <td>2</td>\n",
              "    </tr>\n",
              "    <tr>\n",
              "      <th>4</th>\n",
              "      <td>24.59</td>\n",
              "      <td>3.61</td>\n",
              "      <td>Female</td>\n",
              "      <td>No</td>\n",
              "      <td>Sun</td>\n",
              "      <td>Dinner</td>\n",
              "      <td>4</td>\n",
              "    </tr>\n",
              "    <tr>\n",
              "      <th>...</th>\n",
              "      <td>...</td>\n",
              "      <td>...</td>\n",
              "      <td>...</td>\n",
              "      <td>...</td>\n",
              "      <td>...</td>\n",
              "      <td>...</td>\n",
              "      <td>...</td>\n",
              "    </tr>\n",
              "    <tr>\n",
              "      <th>239</th>\n",
              "      <td>29.03</td>\n",
              "      <td>5.92</td>\n",
              "      <td>Male</td>\n",
              "      <td>No</td>\n",
              "      <td>Sat</td>\n",
              "      <td>Dinner</td>\n",
              "      <td>3</td>\n",
              "    </tr>\n",
              "    <tr>\n",
              "      <th>240</th>\n",
              "      <td>27.18</td>\n",
              "      <td>2.00</td>\n",
              "      <td>Female</td>\n",
              "      <td>Yes</td>\n",
              "      <td>Sat</td>\n",
              "      <td>Dinner</td>\n",
              "      <td>2</td>\n",
              "    </tr>\n",
              "    <tr>\n",
              "      <th>241</th>\n",
              "      <td>22.67</td>\n",
              "      <td>2.00</td>\n",
              "      <td>Male</td>\n",
              "      <td>Yes</td>\n",
              "      <td>Sat</td>\n",
              "      <td>Dinner</td>\n",
              "      <td>2</td>\n",
              "    </tr>\n",
              "    <tr>\n",
              "      <th>242</th>\n",
              "      <td>17.82</td>\n",
              "      <td>1.75</td>\n",
              "      <td>Male</td>\n",
              "      <td>No</td>\n",
              "      <td>Sat</td>\n",
              "      <td>Dinner</td>\n",
              "      <td>2</td>\n",
              "    </tr>\n",
              "    <tr>\n",
              "      <th>243</th>\n",
              "      <td>18.78</td>\n",
              "      <td>3.00</td>\n",
              "      <td>Female</td>\n",
              "      <td>No</td>\n",
              "      <td>Thur</td>\n",
              "      <td>Dinner</td>\n",
              "      <td>2</td>\n",
              "    </tr>\n",
              "  </tbody>\n",
              "</table>\n",
              "<p>244 rows × 7 columns</p>\n",
              "</div>\n",
              "      <button class=\"colab-df-convert\" onclick=\"convertToInteractive('df-f38e46c4-01ed-4198-9eb1-9f8690c8d1d4')\"\n",
              "              title=\"Convert this dataframe to an interactive table.\"\n",
              "              style=\"display:none;\">\n",
              "        \n",
              "  <svg xmlns=\"http://www.w3.org/2000/svg\" height=\"24px\"viewBox=\"0 0 24 24\"\n",
              "       width=\"24px\">\n",
              "    <path d=\"M0 0h24v24H0V0z\" fill=\"none\"/>\n",
              "    <path d=\"M18.56 5.44l.94 2.06.94-2.06 2.06-.94-2.06-.94-.94-2.06-.94 2.06-2.06.94zm-11 1L8.5 8.5l.94-2.06 2.06-.94-2.06-.94L8.5 2.5l-.94 2.06-2.06.94zm10 10l.94 2.06.94-2.06 2.06-.94-2.06-.94-.94-2.06-.94 2.06-2.06.94z\"/><path d=\"M17.41 7.96l-1.37-1.37c-.4-.4-.92-.59-1.43-.59-.52 0-1.04.2-1.43.59L10.3 9.45l-7.72 7.72c-.78.78-.78 2.05 0 2.83L4 21.41c.39.39.9.59 1.41.59.51 0 1.02-.2 1.41-.59l7.78-7.78 2.81-2.81c.8-.78.8-2.07 0-2.86zM5.41 20L4 18.59l7.72-7.72 1.47 1.35L5.41 20z\"/>\n",
              "  </svg>\n",
              "      </button>\n",
              "      \n",
              "  <style>\n",
              "    .colab-df-container {\n",
              "      display:flex;\n",
              "      flex-wrap:wrap;\n",
              "      gap: 12px;\n",
              "    }\n",
              "\n",
              "    .colab-df-convert {\n",
              "      background-color: #E8F0FE;\n",
              "      border: none;\n",
              "      border-radius: 50%;\n",
              "      cursor: pointer;\n",
              "      display: none;\n",
              "      fill: #1967D2;\n",
              "      height: 32px;\n",
              "      padding: 0 0 0 0;\n",
              "      width: 32px;\n",
              "    }\n",
              "\n",
              "    .colab-df-convert:hover {\n",
              "      background-color: #E2EBFA;\n",
              "      box-shadow: 0px 1px 2px rgba(60, 64, 67, 0.3), 0px 1px 3px 1px rgba(60, 64, 67, 0.15);\n",
              "      fill: #174EA6;\n",
              "    }\n",
              "\n",
              "    [theme=dark] .colab-df-convert {\n",
              "      background-color: #3B4455;\n",
              "      fill: #D2E3FC;\n",
              "    }\n",
              "\n",
              "    [theme=dark] .colab-df-convert:hover {\n",
              "      background-color: #434B5C;\n",
              "      box-shadow: 0px 1px 3px 1px rgba(0, 0, 0, 0.15);\n",
              "      filter: drop-shadow(0px 1px 2px rgba(0, 0, 0, 0.3));\n",
              "      fill: #FFFFFF;\n",
              "    }\n",
              "  </style>\n",
              "\n",
              "      <script>\n",
              "        const buttonEl =\n",
              "          document.querySelector('#df-f38e46c4-01ed-4198-9eb1-9f8690c8d1d4 button.colab-df-convert');\n",
              "        buttonEl.style.display =\n",
              "          google.colab.kernel.accessAllowed ? 'block' : 'none';\n",
              "\n",
              "        async function convertToInteractive(key) {\n",
              "          const element = document.querySelector('#df-f38e46c4-01ed-4198-9eb1-9f8690c8d1d4');\n",
              "          const dataTable =\n",
              "            await google.colab.kernel.invokeFunction('convertToInteractive',\n",
              "                                                     [key], {});\n",
              "          if (!dataTable) return;\n",
              "\n",
              "          const docLinkHtml = 'Like what you see? Visit the ' +\n",
              "            '<a target=\"_blank\" href=https://colab.research.google.com/notebooks/data_table.ipynb>data table notebook</a>'\n",
              "            + ' to learn more about interactive tables.';\n",
              "          element.innerHTML = '';\n",
              "          dataTable['output_type'] = 'display_data';\n",
              "          await google.colab.output.renderOutput(dataTable, element);\n",
              "          const docLink = document.createElement('div');\n",
              "          docLink.innerHTML = docLinkHtml;\n",
              "          element.appendChild(docLink);\n",
              "        }\n",
              "      </script>\n",
              "    </div>\n",
              "  </div>\n",
              "  "
            ]
          },
          "metadata": {},
          "execution_count": 60
        }
      ]
    },
    {
      "cell_type": "code",
      "source": [
        "_ = sns.boxplot(x = 'day', y = 'total_bill', hue = 'smoker', data = tips)"
      ],
      "metadata": {
        "colab": {
          "base_uri": "https://localhost:8080/",
          "height": 285
        },
        "id": "QvhXAurx7i1M",
        "outputId": "b50e9113-4a42-45ef-810e-1de372ee64bd"
      },
      "execution_count": 61,
      "outputs": [
        {
          "output_type": "display_data",
          "data": {
            "text/plain": [
              "<Figure size 432x288 with 1 Axes>"
            ],
            "image/png": "[encoded data removed]"
          },
          "metadata": {}
        }
      ]
    },
    {
      "cell_type": "markdown",
      "source": [
        "### Measures of Dispersion"
      ],
      "metadata": {
        "id": "IYnjfCK979MV"
      }
    },
    {
      "cell_type": "markdown",
      "source": [
        "IQR is a relatively rare measure of the dispersion of values around the center of a distribution. The most widely-used are: \n",
        "\n",
        "* Variance,\n",
        "* Standard deviation, and\n",
        "* Standard error.\n",
        "\n",
        "\n"
      ],
      "metadata": {
        "id": "iK_CVUe58AaD"
      }
    },
    {
      "cell_type": "markdown",
      "source": [
        "**Variance** (denoted with $\\sigma^2$) can be written using expected-value notation, but it's easier to understand without it: \n",
        "$$ \\sigma^2 = \\frac{\\sum_{i=1}^n (x_i-\\bar{x})^2}{n} $$"
      ],
      "metadata": {
        "id": "SLYwnWkW8Gpb"
      }
    },
    {
      "cell_type": "markdown",
      "source": [
        "(Technically speaking, we should divide by $n$-1 with a sample of data, but with the large datasets typical of machine learning, it's a negligible difference. If $n$ were equal to a small number like 8 then it would matter.)"
      ],
      "metadata": {
        "id": "Qs1FOT4U8KKu"
      }
    },
    {
      "cell_type": "markdown",
      "source": [
        "(Also technically speaking, the variance of a sample is typically denoted with $s^2$ as opposed to the Greek $\\sigma^2$, akin to how $\\bar{x}$ denotes the mean of a sample while the Greek $\\mu$ is reserved for population mean.)"
      ],
      "metadata": {
        "id": "Vt6EFUPk8Q_t"
      }
    },
    {
      "cell_type": "markdown",
      "source": [
        "As an example let's calculate the variance of the PDF `x` from earlier:"
      ],
      "metadata": {
        "id": "d7d4RrOc8Uw7"
      }
    },
    {
      "cell_type": "code",
      "source": [
        "xbar = np.mean(x)\n",
        "xbar"
      ],
      "metadata": {
        "colab": {
          "base_uri": "https://localhost:8080/"
        },
        "id": "A46gy7uv8WoS",
        "outputId": "8eff23b4-7d7c-47c7-a424-0620610ce97e"
      },
      "execution_count": 62,
      "outputs": [
        {
          "output_type": "execute_result",
          "data": {
            "text/plain": [
              "0.8219573880882259"
            ]
          },
          "metadata": {},
          "execution_count": 62
        }
      ]
    },
    {
      "cell_type": "code",
      "source": [
        "squared_differences = [(x_i - xbar)**2 for x_i in x]"
      ],
      "metadata": {
        "id": "VG0Ewk6G8auf"
      },
      "execution_count": 63,
      "outputs": []
    },
    {
      "cell_type": "code",
      "source": [
        "squared_differences[0:10]"
      ],
      "metadata": {
        "colab": {
          "base_uri": "https://localhost:8080/"
        },
        "id": "CSa9hjXD8qsm",
        "outputId": "877fba64-7032-4813-dc58-61d743e4220c"
      },
      "execution_count": 64,
      "outputs": [
        {
          "output_type": "execute_result",
          "data": {
            "text/plain": [
              "[0.9856434536454379,\n",
              " 0.9170226052916489,\n",
              " 0.8965181282231266,\n",
              " 0.8883307031718269,\n",
              " 0.8733501430824243,\n",
              " 0.8562478309191935,\n",
              " 0.8319771034452769,\n",
              " 0.8310929040089835,\n",
              " 0.7863402041234238,\n",
              " 0.7766155393407362]"
            ]
          },
          "metadata": {},
          "execution_count": 64
        }
      ]
    },
    {
      "cell_type": "code",
      "source": [
        "sigma_squared = sum(squared_differences)/len(x)\n",
        "sigma_squared"
      ],
      "metadata": {
        "colab": {
          "base_uri": "https://localhost:8080/"
        },
        "id": "LGlku5_b8yXC",
        "outputId": "d8984b08-3faa-41f2-d8c0-bd56c706bf16"
      },
      "execution_count": 65,
      "outputs": [
        {
          "output_type": "execute_result",
          "data": {
            "text/plain": [
              "0.39813585982250543"
            ]
          },
          "metadata": {},
          "execution_count": 65
        }
      ]
    },
    {
      "cell_type": "markdown",
      "source": [
        "Of course there's a built-in NumPy method:"
      ],
      "metadata": {
        "id": "4vYqgSrz8_GQ"
      }
    },
    {
      "cell_type": "code",
      "source": [
        "np.var(x)"
      ],
      "metadata": {
        "colab": {
          "base_uri": "https://localhost:8080/"
        },
        "id": "l88QBq009BT4",
        "outputId": "d886daa7-5773-406a-d6bd-675e71dc520c"
      },
      "execution_count": 66,
      "outputs": [
        {
          "output_type": "execute_result",
          "data": {
            "text/plain": [
              "0.3981358598225057"
            ]
          },
          "metadata": {},
          "execution_count": 66
        }
      ]
    },
    {
      "cell_type": "markdown",
      "source": [
        "#### Standard Deviation"
      ],
      "metadata": {
        "id": "yZqkdG749Nwr"
      }
    },
    {
      "cell_type": "markdown",
      "source": [
        "A straightforward derivative of variance is **standard deviation** (denoted with $\\sigma$), which is convenient because its units are on the same scale as the values in the distribution: \n",
        "$$ \\sigma = \\sqrt{\\sigma^2} $$"
      ],
      "metadata": {
        "id": "9x_LUg_J9SgZ"
      }
    },
    {
      "cell_type": "code",
      "source": [
        "sigma = sigma_squared**(1/2)\n",
        "sigma"
      ],
      "metadata": {
        "colab": {
          "base_uri": "https://localhost:8080/"
        },
        "id": "qJquEvp39s2s",
        "outputId": "5e477679-30ee-4024-964c-0d474c14a787"
      },
      "execution_count": 67,
      "outputs": [
        {
          "output_type": "execute_result",
          "data": {
            "text/plain": [
              "0.6309800787841923"
            ]
          },
          "metadata": {},
          "execution_count": 67
        }
      ]
    },
    {
      "cell_type": "code",
      "source": [
        "np.std(x)"
      ],
      "metadata": {
        "colab": {
          "base_uri": "https://localhost:8080/"
        },
        "id": "bWrb5VlU92d1",
        "outputId": "965b8690-bd2d-4406-a31c-e5141bace33d"
      },
      "execution_count": 68,
      "outputs": [
        {
          "output_type": "execute_result",
          "data": {
            "text/plain": [
              "0.6309800787841925"
            ]
          },
          "metadata": {},
          "execution_count": 68
        }
      ]
    },
    {
      "cell_type": "code",
      "source": [
        "fig, ax = plt.subplots()\n",
        "plt.axvline(x = xbar, color = 'orange')\n",
        "plt.axvline(x = xbar+sigma, color = 'olivedrab')\n",
        "plt.axvline(x = xbar-sigma, color = 'olivedrab')\n",
        "_ = plt.hist(x, color = 'lightgray')"
      ],
      "metadata": {
        "colab": {
          "base_uri": "https://localhost:8080/",
          "height": 268
        },
        "id": "kD8-MZm4-XRE",
        "outputId": "6b02f0ef-bfc6-48db-eefd-7ac5035d0fc2"
      },
      "execution_count": 69,
      "outputs": [
        {
          "output_type": "display_data",
          "data": {
            "text/plain": [
              "<Figure size 432x288 with 1 Axes>"
            ],
            "image/png": "[encoded data removed]"
          },
          "metadata": {}
        }
      ]
    },
    {
      "cell_type": "markdown",
      "source": [
        "#### Standard Error"
      ],
      "metadata": {
        "id": "72idCyh7_fiv"
      }
    },
    {
      "cell_type": "markdown",
      "source": [
        "A further derivation of standard deviation is **standard error**, which is denoted with $\\sigma_\\bar{x}$:\n",
        "$$ \\sigma_\\bar{x} = \\frac{\\sigma}{\\sqrt{n}} $$"
      ],
      "metadata": {
        "id": "D9c_p3BA_jDq"
      }
    },
    {
      "cell_type": "code",
      "source": [
        "sigma/(len(x))**(1/2)"
      ],
      "metadata": {
        "colab": {
          "base_uri": "https://localhost:8080/"
        },
        "id": "3KfjXOij_ref",
        "outputId": "57904544-c3cb-44aa-dc3f-d27e84b5cd15"
      },
      "execution_count": 70,
      "outputs": [
        {
          "output_type": "execute_result",
          "data": {
            "text/plain": [
              "0.019953342071505353"
            ]
          },
          "metadata": {},
          "execution_count": 70
        }
      ]
    },
    {
      "cell_type": "code",
      "source": [
        "st.sem(x) # defaults to 1 degree of freedom (n-1), which can be ignored with the larger data sets of ML"
      ],
      "metadata": {
        "colab": {
          "base_uri": "https://localhost:8080/"
        },
        "id": "TgVgqxAH_5N6",
        "outputId": "f3c9f06b-454f-4617-f99f-943707c616dc"
      },
      "execution_count": 71,
      "outputs": [
        {
          "output_type": "execute_result",
          "data": {
            "text/plain": [
              "0.01996332623128527"
            ]
          },
          "metadata": {},
          "execution_count": 71
        }
      ]
    },
    {
      "cell_type": "code",
      "source": [
        "st.sem(x, ddof=0) # 0 degrees of freedom (n)"
      ],
      "metadata": {
        "colab": {
          "base_uri": "https://localhost:8080/"
        },
        "id": "FtUXuCbS__98",
        "outputId": "0f3dd641-69ac-4937-8cb1-2440e6c176dc"
      },
      "execution_count": 72,
      "outputs": [
        {
          "output_type": "execute_result",
          "data": {
            "text/plain": [
              "0.01995334207150536"
            ]
          },
          "metadata": {},
          "execution_count": 72
        }
      ]
    },
    {
      "cell_type": "markdown",
      "source": [
        "Standard error enables us to compare whether the means of two distributions differ *significantly*, a focus of *Intro to Stats*."
      ],
      "metadata": {
        "id": "9JEU-B5IAQIQ"
      }
    },
    {
      "cell_type": "markdown",
      "source": [
        "### Measures of Relatedness"
      ],
      "metadata": {
        "id": "cIZAMfv4AUO1"
      }
    },
    {
      "cell_type": "markdown",
      "source": [
        "If we have two vectors of the same length, $x$ and $y$, where each element of $x$ is paired with the corresponding element of $y$, **covariance** provides a measure of how related the variables are to each other:\n",
        "$$ \\text{cov}(x, y) = \\frac{\\sum_{i=1}^n (x_i - \\bar{x})(y_i - \\bar{y}) }{n} $$"
      ],
      "metadata": {
        "id": "uXYnof6RAXZt"
      }
    },
    {
      "cell_type": "code",
      "source": [
        "iris"
      ],
      "metadata": {
        "colab": {
          "base_uri": "https://localhost:8080/",
          "height": 424
        },
        "id": "P-B9yBIQAZ1T",
        "outputId": "55489eba-7a7f-490b-8697-70ebf31e180d"
      },
      "execution_count": 73,
      "outputs": [
        {
          "output_type": "execute_result",
          "data": {
            "text/plain": [
              "     sepal_length  sepal_width  petal_length  petal_width    species\n",
              "0             5.1          3.5           1.4          0.2     setosa\n",
              "1             4.9          3.0           1.4          0.2     setosa\n",
              "2             4.7          3.2           1.3          0.2     setosa\n",
              "3             4.6          3.1           1.5          0.2     setosa\n",
              "4             5.0          3.6           1.4          0.2     setosa\n",
              "..            ...          ...           ...          ...        ...\n",
              "145           6.7          3.0           5.2          2.3  virginica\n",
              "146           6.3          2.5           5.0          1.9  virginica\n",
              "147           6.5          3.0           5.2          2.0  virginica\n",
              "148           6.2          3.4           5.4          2.3  virginica\n",
              "149           5.9          3.0           5.1          1.8  virginica\n",
              "\n",
              "[150 rows x 5 columns]"
            ],
            "text/html": [
              "\n",
              "  <div id=\"df-8530af35-59aa-463f-8d1a-e37385b50eb2\">\n",
              "    <div class=\"colab-df-container\">\n",
              "      <div>\n",
              "<style scoped>\n",
              "    .dataframe tbody tr th:only-of-type {\n",
              "        vertical-align: middle;\n",
              "    }\n",
              "\n",
              "    .dataframe tbody tr th {\n",
              "        vertical-align: top;\n",
              "    }\n",
              "\n",
              "    .dataframe thead th {\n",
              "        text-align: right;\n",
              "    }\n",
              "</style>\n",
              "<table border=\"1\" class=\"dataframe\">\n",
              "  <thead>\n",
              "    <tr style=\"text-align: right;\">\n",
              "      <th></th>\n",
              "      <th>sepal_length</th>\n",
              "      <th>sepal_width</th>\n",
              "      <th>petal_length</th>\n",
              "      <th>petal_width</th>\n",
              "      <th>species</th>\n",
              "    </tr>\n",
              "  </thead>\n",
              "  <tbody>\n",
              "    <tr>\n",
              "      <th>0</th>\n",
              "      <td>5.1</td>\n",
              "      <td>3.5</td>\n",
              "      <td>1.4</td>\n",
              "      <td>0.2</td>\n",
              "      <td>setosa</td>\n",
              "    </tr>\n",
              "    <tr>\n",
              "      <th>1</th>\n",
              "      <td>4.9</td>\n",
              "      <td>3.0</td>\n",
              "      <td>1.4</td>\n",
              "      <td>0.2</td>\n",
              "      <td>setosa</td>\n",
              "    </tr>\n",
              "    <tr>\n",
              "      <th>2</th>\n",
              "      <td>4.7</td>\n",
              "      <td>3.2</td>\n",
              "      <td>1.3</td>\n",
              "      <td>0.2</td>\n",
              "      <td>setosa</td>\n",
              "    </tr>\n",
              "    <tr>\n",
              "      <th>3</th>\n",
              "      <td>4.6</td>\n",
              "      <td>3.1</td>\n",
              "      <td>1.5</td>\n",
              "      <td>0.2</td>\n",
              "      <td>setosa</td>\n",
              "    </tr>\n",
              "    <tr>\n",
              "      <th>4</th>\n",
              "      <td>5.0</td>\n",
              "      <td>3.6</td>\n",
              "      <td>1.4</td>\n",
              "      <td>0.2</td>\n",
              "      <td>setosa</td>\n",
              "    </tr>\n",
              "    <tr>\n",
              "      <th>...</th>\n",
              "      <td>...</td>\n",
              "      <td>...</td>\n",
              "      <td>...</td>\n",
              "      <td>...</td>\n",
              "      <td>...</td>\n",
              "    </tr>\n",
              "    <tr>\n",
              "      <th>145</th>\n",
              "      <td>6.7</td>\n",
              "      <td>3.0</td>\n",
              "      <td>5.2</td>\n",
              "      <td>2.3</td>\n",
              "      <td>virginica</td>\n",
              "    </tr>\n",
              "    <tr>\n",
              "      <th>146</th>\n",
              "      <td>6.3</td>\n",
              "      <td>2.5</td>\n",
              "      <td>5.0</td>\n",
              "      <td>1.9</td>\n",
              "      <td>virginica</td>\n",
              "    </tr>\n",
              "    <tr>\n",
              "      <th>147</th>\n",
              "      <td>6.5</td>\n",
              "      <td>3.0</td>\n",
              "      <td>5.2</td>\n",
              "      <td>2.0</td>\n",
              "      <td>virginica</td>\n",
              "    </tr>\n",
              "    <tr>\n",
              "      <th>148</th>\n",
              "      <td>6.2</td>\n",
              "      <td>3.4</td>\n",
              "      <td>5.4</td>\n",
              "      <td>2.3</td>\n",
              "      <td>virginica</td>\n",
              "    </tr>\n",
              "    <tr>\n",
              "      <th>149</th>\n",
              "      <td>5.9</td>\n",
              "      <td>3.0</td>\n",
              "      <td>5.1</td>\n",
              "      <td>1.8</td>\n",
              "      <td>virginica</td>\n",
              "    </tr>\n",
              "  </tbody>\n",
              "</table>\n",
              "<p>150 rows × 5 columns</p>\n",
              "</div>\n",
              "      <button class=\"colab-df-convert\" onclick=\"convertToInteractive('df-8530af35-59aa-463f-8d1a-e37385b50eb2')\"\n",
              "              title=\"Convert this dataframe to an interactive table.\"\n",
              "              style=\"display:none;\">\n",
              "        \n",
              "  <svg xmlns=\"http://www.w3.org/2000/svg\" height=\"24px\"viewBox=\"0 0 24 24\"\n",
              "       width=\"24px\">\n",
              "    <path d=\"M0 0h24v24H0V0z\" fill=\"none\"/>\n",
              "    <path d=\"M18.56 5.44l.94 2.06.94-2.06 2.06-.94-2.06-.94-.94-2.06-.94 2.06-2.06.94zm-11 1L8.5 8.5l.94-2.06 2.06-.94-2.06-.94L8.5 2.5l-.94 2.06-2.06.94zm10 10l.94 2.06.94-2.06 2.06-.94-2.06-.94-.94-2.06-.94 2.06-2.06.94z\"/><path d=\"M17.41 7.96l-1.37-1.37c-.4-.4-.92-.59-1.43-.59-.52 0-1.04.2-1.43.59L10.3 9.45l-7.72 7.72c-.78.78-.78 2.05 0 2.83L4 21.41c.39.39.9.59 1.41.59.51 0 1.02-.2 1.41-.59l7.78-7.78 2.81-2.81c.8-.78.8-2.07 0-2.86zM5.41 20L4 18.59l7.72-7.72 1.47 1.35L5.41 20z\"/>\n",
              "  </svg>\n",
              "      </button>\n",
              "      \n",
              "  <style>\n",
              "    .colab-df-container {\n",
              "      display:flex;\n",
              "      flex-wrap:wrap;\n",
              "      gap: 12px;\n",
              "    }\n",
              "\n",
              "    .colab-df-convert {\n",
              "      background-color: #E8F0FE;\n",
              "      border: none;\n",
              "      border-radius: 50%;\n",
              "      cursor: pointer;\n",
              "      display: none;\n",
              "      fill: #1967D2;\n",
              "      height: 32px;\n",
              "      padding: 0 0 0 0;\n",
              "      width: 32px;\n",
              "    }\n",
              "\n",
              "    .colab-df-convert:hover {\n",
              "      background-color: #E2EBFA;\n",
              "      box-shadow: 0px 1px 2px rgba(60, 64, 67, 0.3), 0px 1px 3px 1px rgba(60, 64, 67, 0.15);\n",
              "      fill: #174EA6;\n",
              "    }\n",
              "\n",
              "    [theme=dark] .colab-df-convert {\n",
              "      background-color: #3B4455;\n",
              "      fill: #D2E3FC;\n",
              "    }\n",
              "\n",
              "    [theme=dark] .colab-df-convert:hover {\n",
              "      background-color: #434B5C;\n",
              "      box-shadow: 0px 1px 3px 1px rgba(0, 0, 0, 0.15);\n",
              "      filter: drop-shadow(0px 1px 2px rgba(0, 0, 0, 0.3));\n",
              "      fill: #FFFFFF;\n",
              "    }\n",
              "  </style>\n",
              "\n",
              "      <script>\n",
              "        const buttonEl =\n",
              "          document.querySelector('#df-8530af35-59aa-463f-8d1a-e37385b50eb2 button.colab-df-convert');\n",
              "        buttonEl.style.display =\n",
              "          google.colab.kernel.accessAllowed ? 'block' : 'none';\n",
              "\n",
              "        async function convertToInteractive(key) {\n",
              "          const element = document.querySelector('#df-8530af35-59aa-463f-8d1a-e37385b50eb2');\n",
              "          const dataTable =\n",
              "            await google.colab.kernel.invokeFunction('convertToInteractive',\n",
              "                                                     [key], {});\n",
              "          if (!dataTable) return;\n",
              "\n",
              "          const docLinkHtml = 'Like what you see? Visit the ' +\n",
              "            '<a target=\"_blank\" href=https://colab.research.google.com/notebooks/data_table.ipynb>data table notebook</a>'\n",
              "            + ' to learn more about interactive tables.';\n",
              "          element.innerHTML = '';\n",
              "          dataTable['output_type'] = 'display_data';\n",
              "          await google.colab.output.renderOutput(dataTable, element);\n",
              "          const docLink = document.createElement('div');\n",
              "          docLink.innerHTML = docLinkHtml;\n",
              "          element.appendChild(docLink);\n",
              "        }\n",
              "      </script>\n",
              "    </div>\n",
              "  </div>\n",
              "  "
            ]
          },
          "metadata": {},
          "execution_count": 73
        }
      ]
    },
    {
      "cell_type": "code",
      "source": [
        "x = iris.sepal_length\n",
        "y = iris.petal_length"
      ],
      "metadata": {
        "id": "4J2-tNucAc5l"
      },
      "execution_count": 74,
      "outputs": []
    },
    {
      "cell_type": "code",
      "source": [
        "_ = sns.scatterplot(x=x, y=y)"
      ],
      "metadata": {
        "colab": {
          "base_uri": "https://localhost:8080/",
          "height": 285
        },
        "id": "yO8YfLZrAoqy",
        "outputId": "0ce5d701-6594-4e0b-ff2b-b487ff37c626"
      },
      "execution_count": 75,
      "outputs": [
        {
          "output_type": "display_data",
          "data": {
            "text/plain": [
              "<Figure size 432x288 with 1 Axes>"
            ],
            "image/png": "[encoded data removed]"
          },
          "metadata": {}
        }
      ]
    },
    {
      "cell_type": "code",
      "source": [
        "n = len(x)"
      ],
      "metadata": {
        "id": "JBxk8QIZAyAk"
      },
      "execution_count": 76,
      "outputs": []
    },
    {
      "cell_type": "code",
      "source": [
        "xbar = sum(x)/n\n",
        "ybar = sum(y)/n"
      ],
      "metadata": {
        "id": "1xHiUB9XA6NF"
      },
      "execution_count": 77,
      "outputs": []
    },
    {
      "cell_type": "code",
      "source": [
        "product = []\n",
        "for i in range(n):\n",
        "  product.append((x[i]-xbar)*(y[i]-ybar))"
      ],
      "metadata": {
        "id": "w72qQHWZBDKG"
      },
      "execution_count": 78,
      "outputs": []
    },
    {
      "cell_type": "code",
      "source": [
        "cov = sum(product)/n\n",
        "cov"
      ],
      "metadata": {
        "colab": {
          "base_uri": "https://localhost:8080/"
        },
        "id": "-QFRSW9kBW1X",
        "outputId": "483f7352-3511-4cd5-ebbf-a935b360147f"
      },
      "execution_count": 79,
      "outputs": [
        {
          "output_type": "execute_result",
          "data": {
            "text/plain": [
              "1.2658199999999995"
            ]
          },
          "metadata": {},
          "execution_count": 79
        }
      ]
    },
    {
      "cell_type": "markdown",
      "source": [
        "The NumPy `cov()` method returns a **covariance matrix**, which is a $2 \\times 2$ matrix because $x$ and $y$ together describe a two-dimensional space:"
      ],
      "metadata": {
        "id": "D-s2gdMoBgCP"
      }
    },
    {
      "cell_type": "code",
      "source": [
        "np.cov(x, y, ddof=0) # again, defaults to ddof=1"
      ],
      "metadata": {
        "colab": {
          "base_uri": "https://localhost:8080/"
        },
        "id": "L7sPEkJ-BidC",
        "outputId": "7b99042f-78aa-401b-ac55-cd60d3937420"
      },
      "execution_count": 80,
      "outputs": [
        {
          "output_type": "execute_result",
          "data": {
            "text/plain": [
              "array([[0.68112222, 1.26582   ],\n",
              "       [1.26582   , 3.09550267]])"
            ]
          },
          "metadata": {},
          "execution_count": 80
        }
      ]
    },
    {
      "cell_type": "markdown",
      "source": [
        "The diagonal elements of the covariance matrix represent the variance of $x$ and $y$, respectively:"
      ],
      "metadata": {
        "id": "uLJSq5iJBt5k"
      }
    },
    {
      "cell_type": "code",
      "source": [
        "np.var(x)"
      ],
      "metadata": {
        "colab": {
          "base_uri": "https://localhost:8080/"
        },
        "id": "WP6gFLfRBxT1",
        "outputId": "cac67f3c-8f06-4291-a40b-42746696d254"
      },
      "execution_count": 81,
      "outputs": [
        {
          "output_type": "execute_result",
          "data": {
            "text/plain": [
              "0.6811222222222223"
            ]
          },
          "metadata": {},
          "execution_count": 81
        }
      ]
    },
    {
      "cell_type": "code",
      "source": [
        "np.var(y)"
      ],
      "metadata": {
        "colab": {
          "base_uri": "https://localhost:8080/"
        },
        "id": "a8yRKlvTB_JD",
        "outputId": "6e07014a-66a0-4b1f-840c-bfd536efb861"
      },
      "execution_count": 82,
      "outputs": [
        {
          "output_type": "execute_result",
          "data": {
            "text/plain": [
              "3.0955026666666665"
            ]
          },
          "metadata": {},
          "execution_count": 82
        }
      ]
    },
    {
      "cell_type": "markdown",
      "source": [
        "If $x$ and $y$ are inversely related, their covariance is negative. The less related they are, the closer their covariance is to zero: "
      ],
      "metadata": {
        "id": "wjMns0iqCEHn"
      }
    },
    {
      "cell_type": "code",
      "source": [
        "_ = sns.scatterplot(x = iris.sepal_length, y = iris.sepal_width)"
      ],
      "metadata": {
        "colab": {
          "base_uri": "https://localhost:8080/",
          "height": 287
        },
        "id": "bWU4j1BmCIlN",
        "outputId": "f16841ec-5907-45f4-bac0-93c24fa5beba"
      },
      "execution_count": 83,
      "outputs": [
        {
          "output_type": "display_data",
          "data": {
            "text/plain": [
              "<Figure size 432x288 with 1 Axes>"
            ],
            "image/png": "[encoded data removed]"
          },
          "metadata": {}
        }
      ]
    },
    {
      "cell_type": "code",
      "source": [
        "np.cov(iris.sepal_length, iris.sepal_width, ddof=0)"
      ],
      "metadata": {
        "colab": {
          "base_uri": "https://localhost:8080/"
        },
        "id": "by_qEBH3CZnA",
        "outputId": "cf145ee1-69e8-4eee-df29-8615b2e22e61"
      },
      "execution_count": 84,
      "outputs": [
        {
          "output_type": "execute_result",
          "data": {
            "text/plain": [
              "array([[ 0.68112222, -0.04215111],\n",
              "       [-0.04215111,  0.18871289]])"
            ]
          },
          "metadata": {},
          "execution_count": 84
        }
      ]
    },
    {
      "cell_type": "code",
      "source": [],
      "metadata": {
        "id": "VvnYozQ1CZ6O"
      },
      "execution_count": 84,
      "outputs": []
    },
    {
      "cell_type": "markdown",
      "source": [
        "#### Correlation"
      ],
      "metadata": {
        "id": "Bagch0BLi8sp"
      }
    },
    {
      "cell_type": "markdown",
      "source": [
        "A drawback of covariance is that it confounds the relative scale of two variables with a measure of the variables' relatedness. **Correlation** builds on covariance and overcomes this drawback via rescaling, thereby measuring relatedness exclusively. Correlation is much more common because of this difference. \n",
        "\n",
        "The correlation coefficient (developed by Karl Pearson in the 20th c. though known in the 19th c.) is often denoted with $r$ or $\\rho$ and is defined by: \n",
        "$$ \\rho_{x,y} = \\frac{\\text{cov}(x,y)}{\\sigma_x \\sigma_y} $$"
      ],
      "metadata": {
        "id": "njrm0_7YjBh7"
      }
    },
    {
      "cell_type": "code",
      "source": [
        "cov = -0.04215111\n",
        "sigma_sq_x = 0.68112222\n",
        "sigma_sq_y = 0.18871289"
      ],
      "metadata": {
        "id": "jrUT1K8CjP9j"
      },
      "execution_count": 85,
      "outputs": []
    },
    {
      "cell_type": "code",
      "source": [
        "sigma_x = (sigma_sq_x)**(1/2)\n",
        "sigma_y = (sigma_sq_y)**(1/2)"
      ],
      "metadata": {
        "id": "wbkzssxIjSPr"
      },
      "execution_count": 86,
      "outputs": []
    },
    {
      "cell_type": "code",
      "source": [
        "cov / (sigma_x * sigma_y)"
      ],
      "metadata": {
        "colab": {
          "base_uri": "https://localhost:8080/"
        },
        "id": "ClXL7lcNjj7D",
        "outputId": "d1adc999-d5a9-441f-9744-080d8d2cbc78"
      },
      "execution_count": 87,
      "outputs": [
        {
          "output_type": "execute_result",
          "data": {
            "text/plain": [
              "-0.11756978087951572"
            ]
          },
          "metadata": {},
          "execution_count": 87
        }
      ]
    },
    {
      "cell_type": "code",
      "source": [
        "st.pearsonr(iris.sepal_length, iris.sepal_width)"
      ],
      "metadata": {
        "colab": {
          "base_uri": "https://localhost:8080/"
        },
        "id": "Ejs1mJsajq2D",
        "outputId": "3b18bced-b017-4014-d969-6f4abb2de009"
      },
      "execution_count": 88,
      "outputs": [
        {
          "output_type": "execute_result",
          "data": {
            "text/plain": [
              "PearsonRResult(statistic=-0.11756978413300206, pvalue=0.15189826071144746)"
            ]
          },
          "metadata": {},
          "execution_count": 88
        }
      ]
    },
    {
      "cell_type": "markdown",
      "source": [
        "The second value output of `pearsonr` is a measure of statistical significance, which we'll detail in *Intro to Stats*."
      ],
      "metadata": {
        "id": "n1BNLbwzj6gD"
      }
    },
    {
      "cell_type": "markdown",
      "source": [
        "$\\rho$ has a range of -1 to 1, with values closer to zero indicating less correlation: "
      ],
      "metadata": {
        "id": "0zAYm4V-j_DQ"
      }
    },
    {
      "cell_type": "code",
      "source": [
        "st.pearsonr(iris.sepal_length,iris.sepal_width)[0]"
      ],
      "metadata": {
        "colab": {
          "base_uri": "https://localhost:8080/"
        },
        "id": "hDlQCtsFkDdC",
        "outputId": "1f2715f2-2685-4451-8d99-a1c12f138685"
      },
      "execution_count": 89,
      "outputs": [
        {
          "output_type": "execute_result",
          "data": {
            "text/plain": [
              "-0.11756978413300206"
            ]
          },
          "metadata": {},
          "execution_count": 89
        }
      ]
    },
    {
      "cell_type": "markdown",
      "source": [
        "The closer $\\rho$ is to 1 or -1, the stronger the positive or negative correlation, respectively: "
      ],
      "metadata": {
        "id": "JQCMTzu2kOzz"
      }
    },
    {
      "cell_type": "code",
      "source": [
        "st.pearsonr(iris.sepal_length, iris.petal_length)[0]"
      ],
      "metadata": {
        "colab": {
          "base_uri": "https://localhost:8080/"
        },
        "id": "vRN3YGoakVGl",
        "outputId": "090ea63e-2de4-41ad-9fe1-0234b8404dc9"
      },
      "execution_count": 90,
      "outputs": [
        {
          "output_type": "execute_result",
          "data": {
            "text/plain": [
              "0.8717537758865831"
            ]
          },
          "metadata": {},
          "execution_count": 90
        }
      ]
    },
    {
      "cell_type": "markdown",
      "source": [
        "Covariance and correlation only account for linear relationships. Two variables could be non-linearly related to each other and these metrics could come out as zero."
      ],
      "metadata": {
        "id": "z12M8bajnlx8"
      }
    },
    {
      "cell_type": "markdown",
      "source": [
        "## Segment 2: Distributions in Machine Learning"
      ],
      "metadata": {
        "id": "FUUCw7P9097P"
      }
    },
    {
      "cell_type": "markdown",
      "source": [
        "### Uniform"
      ],
      "metadata": {
        "id": "NfJAlU0T1Eko"
      }
    },
    {
      "cell_type": "markdown",
      "source": [
        "The uniform distribution is about as straightforward as they come. It has constant probabilities across the entire range of values in its domain:"
      ],
      "metadata": {
        "id": "ELOuQGNP1JN_"
      }
    },
    {
      "cell_type": "code",
      "source": [
        "u = np.random.uniform(size = 10000)"
      ],
      "metadata": {
        "id": "WisLGPRP1MnO"
      },
      "execution_count": 91,
      "outputs": []
    },
    {
      "cell_type": "code",
      "source": [
        "sns.set_style('ticks')"
      ],
      "metadata": {
        "id": "9KuZzkqU1Ubu"
      },
      "execution_count": 92,
      "outputs": []
    },
    {
      "cell_type": "code",
      "source": [
        "_ = sns.displot(u)"
      ],
      "metadata": {
        "colab": {
          "base_uri": "https://localhost:8080/",
          "height": 365
        },
        "id": "d-WU7LYM1irr",
        "outputId": "6be95350-fd66-4594-f38d-e07d29c0d3d9"
      },
      "execution_count": 93,
      "outputs": [
        {
          "output_type": "display_data",
          "data": {
            "text/plain": [
              "<Figure size 360x360 with 1 Axes>"
            ],
            "image/png": "[encoded data removed]"
          },
          "metadata": {}
        }
      ]
    },
    {
      "cell_type": "markdown",
      "source": [
        "Real-world examples include: \n",
        "\n",
        "* Dice rolling (PMF)\n",
        "* Card drawing (PMF)\n",
        "* Model hyperparameters\n",
        "* Emission of radioactive particles\n",
        "* Economic demand \n",
        "* Analog-to-digital signal quantization errors"
      ],
      "metadata": {
        "id": "PPQ38X-T1s7G"
      }
    },
    {
      "cell_type": "markdown",
      "source": [
        "### Gaussian"
      ],
      "metadata": {
        "id": "i8ehjVr91xHk"
      }
    },
    {
      "cell_type": "markdown",
      "source": [
        "Carl Friedrich Gauss (early 19th c. German mathematician and scientist) is the namesake of over a hundred concepts across mathematics, physics, and astronomy. One of those concepts is the Gaussian distribution, also known as the \"bell curve\" (though several distributions are bell-shaped) or **normal distribution**:"
      ],
      "metadata": {
        "id": "dRrF_3ni13aI"
      }
    },
    {
      "cell_type": "code",
      "source": [
        "x = np.random.normal(size = 10000)"
      ],
      "metadata": {
        "id": "LDf6Djar1544"
      },
      "execution_count": 94,
      "outputs": []
    },
    {
      "cell_type": "code",
      "source": [
        "_ = sns.displot (x)"
      ],
      "metadata": {
        "colab": {
          "base_uri": "https://localhost:8080/",
          "height": 365
        },
        "id": "Uzz8S6nl2BkS",
        "outputId": "8ead9b73-de70-49fe-e65f-ba9ff678a0d8"
      },
      "execution_count": 95,
      "outputs": [
        {
          "output_type": "display_data",
          "data": {
            "text/plain": [
              "<Figure size 360x360 with 1 Axes>"
            ],
            "image/png": "[encoded data removed]"
          },
          "metadata": {}
        }
      ]
    },
    {
      "cell_type": "code",
      "source": [
        "_ = sns.displot(x, kde=True)"
      ],
      "metadata": {
        "colab": {
          "base_uri": "https://localhost:8080/",
          "height": 365
        },
        "id": "6SnNmVgK2NL2",
        "outputId": "da10a3f2-9811-44e9-8023-3fb51277ac7a"
      },
      "execution_count": 96,
      "outputs": [
        {
          "output_type": "display_data",
          "data": {
            "text/plain": [
              "<Figure size 360x360 with 1 Axes>"
            ],
            "image/png": "[encoded data removed]"
          },
          "metadata": {}
        }
      ]
    },
    {
      "cell_type": "markdown",
      "source": [
        "When the normal distribution has a mean ($\\mu$) of zero and standard deviation ($\\sigma$) of one, as it does by default with the NumPy `normal()` method..."
      ],
      "metadata": {
        "id": "TL7JUW902SL5"
      }
    },
    {
      "cell_type": "code",
      "source": [
        "np.mean(x)"
      ],
      "metadata": {
        "colab": {
          "base_uri": "https://localhost:8080/"
        },
        "id": "H6QwniLC2Ub7",
        "outputId": "c0f59f59-86fe-4207-8733-814a2f8169f3"
      },
      "execution_count": 97,
      "outputs": [
        {
          "output_type": "execute_result",
          "data": {
            "text/plain": [
              "0.010746657894433886"
            ]
          },
          "metadata": {},
          "execution_count": 97
        }
      ]
    },
    {
      "cell_type": "code",
      "source": [
        "np.std(x)"
      ],
      "metadata": {
        "colab": {
          "base_uri": "https://localhost:8080/"
        },
        "id": "hAcmzMLt2XyE",
        "outputId": "521682ba-11f4-4ffb-dc00-2611336a74d2"
      },
      "execution_count": 98,
      "outputs": [
        {
          "output_type": "execute_result",
          "data": {
            "text/plain": [
              "1.006376502514602"
            ]
          },
          "metadata": {},
          "execution_count": 98
        }
      ]
    },
    {
      "cell_type": "markdown",
      "source": [
        "...it is a **standard normal distribution** (a.k.a., standard Gaussian distribution). Normal distributions can be denoted with the *math calligraphy* font as $\\mathcal{N}(\\mu, \\sigma^2)$, thus the standard normal distribution can be denoted as $\\mathcal{N}(0, 1)$. \n",
        "\n",
        "(N.B.: $\\sigma^2 = \\sigma$ in this case because $1^2 = 1$.)"
      ],
      "metadata": {
        "id": "O8WX2A0s2ghb"
      }
    },
    {
      "cell_type": "markdown",
      "source": [
        "Normal distributions are by far the most common distribution in statistics and machine learning. They are typically the default option, particularly if you have limited information about the random process you're modeling, because: \n",
        "\n",
        "1. Normal distributions assume the greatest possible uncertainty about the random variable they represent (relative to any other distribution of equivalent variance). Details of this are beyond the scope of this tutorial. \n",
        "2. Simple and very complex random processes alike are, under all common conditions, normally distributed when we sample values from the process. Since we sample data for statistical and machine learning models alike, this so-called **central limit theorem** (covered next) is a critically important concept."
      ],
      "metadata": {
        "id": "27LaacTA2lO5"
      }
    },
    {
      "cell_type": "markdown",
      "source": [
        "Real-world examples include: \n",
        "\n",
        "* Probability of heads across *n* tosses (PMF; $n = 5$ earlier, $n = 100$ below)\n",
        "* Sum of di(c)e rolls (PMF)\n",
        "* Height of adult women\n",
        "* Height of adult men\n",
        "* Education test scores"
      ],
      "metadata": {
        "id": "zwzhIlpB2ppl"
      }
    },
    {
      "cell_type": "code",
      "source": [
        "n_experiments = 10000\n",
        "heads_count = [np.random.binomial(100,0.5) for i in range (n_experiments)]\n",
        "heads, event_count = np.unique(heads_count, return_counts=True)\n",
        "event_proba = event_count/n_experiments"
      ],
      "metadata": {
        "id": "uIOb7ECO2vof"
      },
      "execution_count": 99,
      "outputs": []
    },
    {
      "cell_type": "code",
      "source": [
        "plt.bar(heads, event_proba)\n",
        "_ = plt.xlabel('Heads flips(out of 100 tosses)')"
      ],
      "metadata": {
        "colab": {
          "base_uri": "https://localhost:8080/",
          "height": 285
        },
        "id": "YTXnUU7y3dlf",
        "outputId": "5092eed8-8be4-4b80-91dd-08af92c13534"
      },
      "execution_count": 100,
      "outputs": [
        {
          "output_type": "display_data",
          "data": {
            "text/plain": [
              "<Figure size 432x288 with 1 Axes>"
            ],
            "image/png": "[encoded data removed]"
          },
          "metadata": {}
        }
      ]
    },
    {
      "cell_type": "markdown",
      "source": [
        "### The Central Limit Theorem"
      ],
      "metadata": {
        "id": "ZvK6d1hs38jg"
      }
    },
    {
      "cell_type": "markdown",
      "source": [
        "To develop a functional understanding of the CLT, let's sample some values from our normal distribution:"
      ],
      "metadata": {
        "id": "SVQ9-MRb4BkZ"
      }
    },
    {
      "cell_type": "code",
      "source": [
        "x_sample = np.random.choice(x, size=10, replace=False)\n",
        "x_sample"
      ],
      "metadata": {
        "colab": {
          "base_uri": "https://localhost:8080/"
        },
        "id": "_uF8Cpon4FiW",
        "outputId": "8b7bc757-c42a-4215-9c19-363cc54a7eb2"
      },
      "execution_count": 101,
      "outputs": [
        {
          "output_type": "execute_result",
          "data": {
            "text/plain": [
              "array([ 0.32659596, -0.93700698,  2.27851732,  1.21587356,  1.35370984,\n",
              "       -0.4057365 ,  0.38816803, -0.55343125, -1.6885922 , -2.33595362])"
            ]
          },
          "metadata": {},
          "execution_count": 101
        }
      ]
    },
    {
      "cell_type": "markdown",
      "source": [
        "The mean of a sample isn't always going to be close to zero with such a small sample:"
      ],
      "metadata": {
        "id": "zi-OuxHv4KE2"
      }
    },
    {
      "cell_type": "code",
      "source": [
        "np.mean(x_sample)"
      ],
      "metadata": {
        "colab": {
          "base_uri": "https://localhost:8080/"
        },
        "id": "iq7oy6sb4Mk9",
        "outputId": "4381d51a-49c8-47b9-a5c9-a21340c697ae"
      },
      "execution_count": 102,
      "outputs": [
        {
          "output_type": "execute_result",
          "data": {
            "text/plain": [
              "-0.03578558368006331"
            ]
          },
          "metadata": {},
          "execution_count": 102
        }
      ]
    },
    {
      "cell_type": "markdown",
      "source": [
        "Let's define a function for generating **sampling distributions** of the mean of a given input distribution:"
      ],
      "metadata": {
        "id": "Q1nkfxGw4WCR"
      }
    },
    {
      "cell_type": "code",
      "source": [
        "def sample_mean_calculator(input_dist, sample_size, n_samples):\n",
        "    sample_means = []\n",
        "    for i in range(n_samples):\n",
        "        sample = np.random.choice(input_dist, size=sample_size, replace=False)\n",
        "        sample_means.append(sample.mean())\n",
        "    return sample_means"
      ],
      "metadata": {
        "id": "roUZ86XA4cg8"
      },
      "execution_count": 103,
      "outputs": []
    },
    {
      "cell_type": "code",
      "source": [
        "sns.displot(sample_mean_calculator(x, 10, 10), color='green')\n",
        "_ = plt.xlim(-1.5, 1.5)"
      ],
      "metadata": {
        "colab": {
          "base_uri": "https://localhost:8080/",
          "height": 365
        },
        "id": "pYrCjC6k4gLD",
        "outputId": "288c4a66-0cd3-451a-ed2d-8abfd7952494"
      },
      "execution_count": 104,
      "outputs": [
        {
          "output_type": "display_data",
          "data": {
            "text/plain": [
              "<Figure size 360x360 with 1 Axes>"
            ],
            "image/png": "[encoded data removed]"
          },
          "metadata": {}
        }
      ]
    },
    {
      "cell_type": "markdown",
      "source": [
        "The more samples we take, the more likely that the sampling distribution of the means will be normally distributed:"
      ],
      "metadata": {
        "id": "SO8X-uqT4m24"
      }
    },
    {
      "cell_type": "code",
      "source": [
        "sns.displot(sample_mean_calculator(x, 10, 1000), color='green', kde=True)\n",
        "_ = plt.xlim(-1.5, 1.5)"
      ],
      "metadata": {
        "colab": {
          "base_uri": "https://localhost:8080/",
          "height": 365
        },
        "id": "7PLcW2uh4shC",
        "outputId": "21f30c00-f047-487c-9a56-adbc4a6d2180"
      },
      "execution_count": 105,
      "outputs": [
        {
          "output_type": "display_data",
          "data": {
            "text/plain": [
              "<Figure size 360x360 with 1 Axes>"
            ],
            "image/png": "[encoded data removed]"
          },
          "metadata": {}
        }
      ]
    },
    {
      "cell_type": "markdown",
      "source": [
        "The larger the sample, the tighter the sample means will tend to be around the population mean:"
      ],
      "metadata": {
        "id": "8Jlqjs2T42hN"
      }
    },
    {
      "cell_type": "code",
      "source": [
        "sns.displot(sample_mean_calculator(x, 100, 1000), color='green', kde=True)\n",
        "_ = plt.xlim(-1.5, 1.5)"
      ],
      "metadata": {
        "colab": {
          "base_uri": "https://localhost:8080/",
          "height": 365
        },
        "id": "yja-cR5247XE",
        "outputId": "604da3e9-f738-436c-cc3d-2676c02372f8"
      },
      "execution_count": 106,
      "outputs": [
        {
          "output_type": "display_data",
          "data": {
            "text/plain": [
              "<Figure size 360x360 with 1 Axes>"
            ],
            "image/png": "[encoded data removed]"
          },
          "metadata": {}
        }
      ]
    },
    {
      "cell_type": "code",
      "source": [
        "sns.displot(sample_mean_calculator(x, 1000, 1000), color='green', kde=True)\n",
        "_ = plt.xlim(-1.5, 1.5)"
      ],
      "metadata": {
        "colab": {
          "base_uri": "https://localhost:8080/",
          "height": 365
        },
        "id": "EvbUp1ic4_B3",
        "outputId": "0ed5ca9c-4930-48fb-dee9-0950609e1f54"
      },
      "execution_count": 107,
      "outputs": [
        {
          "output_type": "display_data",
          "data": {
            "text/plain": [
              "<Figure size 360x360 with 1 Axes>"
            ],
            "image/png": "[encoded data removed]"
          },
          "metadata": {}
        }
      ]
    },
    {
      "cell_type": "markdown",
      "source": [
        "#### Sampling from a skewed distribution"
      ],
      "metadata": {
        "id": "-3NliYsy5FaH"
      }
    },
    {
      "cell_type": "code",
      "source": [
        "s = st.skewnorm.rvs(10, size=10000)"
      ],
      "metadata": {
        "id": "F6Cc1giJ5JRq"
      },
      "execution_count": 108,
      "outputs": []
    },
    {
      "cell_type": "code",
      "source": [
        "_ = sns.displot(s,kde = True)"
      ],
      "metadata": {
        "colab": {
          "base_uri": "https://localhost:8080/",
          "height": 365
        },
        "id": "BaYfj5wV5L6G",
        "outputId": "e376c0cb-25e7-48d0-db96-ac4e5d951e1a"
      },
      "execution_count": 109,
      "outputs": [
        {
          "output_type": "display_data",
          "data": {
            "text/plain": [
              "<Figure size 360x360 with 1 Axes>"
            ],
            "image/png": "[encoded data removed]"
          },
          "metadata": {}
        }
      ]
    },
    {
      "cell_type": "code",
      "source": [
        "_ = sns.displot(sample_mean_calculator(s, 10, 1000), color='green', kde=True)"
      ],
      "metadata": {
        "colab": {
          "base_uri": "https://localhost:8080/",
          "height": 365
        },
        "id": "RtrcSYfP5Zxy",
        "outputId": "0a94ebd3-20af-4af1-d3b8-628621aa6827"
      },
      "execution_count": 110,
      "outputs": [
        {
          "output_type": "display_data",
          "data": {
            "text/plain": [
              "<Figure size 360x360 with 1 Axes>"
            ],
            "image/png": "[encoded data removed]"
          },
          "metadata": {}
        }
      ]
    },
    {
      "cell_type": "code",
      "source": [
        "_ = sns.displot(sample_mean_calculator(s, 1000, 1000), color='green', kde=True)"
      ],
      "metadata": {
        "colab": {
          "base_uri": "https://localhost:8080/",
          "height": 365
        },
        "id": "1w2ANVn35ffZ",
        "outputId": "2ce929fe-7d7e-4f16-960c-0ae37afa4772"
      },
      "execution_count": 111,
      "outputs": [
        {
          "output_type": "display_data",
          "data": {
            "text/plain": [
              "<Figure size 360x360 with 1 Axes>"
            ],
            "image/png": "[encoded data removed]"
          },
          "metadata": {}
        }
      ]
    },
    {
      "cell_type": "markdown",
      "source": [
        "#### Sampling from a multimodal distribution"
      ],
      "metadata": {
        "id": "cya73DKS5kzo"
      }
    },
    {
      "cell_type": "code",
      "source": [
        "m = np.concatenate((np.random.normal(size=5000), np.random.normal(loc = 4.0, size=5000)))"
      ],
      "metadata": {
        "id": "k5rn0MbZ5pr-"
      },
      "execution_count": 112,
      "outputs": []
    },
    {
      "cell_type": "code",
      "source": [
        "_ = sns.displot(m, kde=True)"
      ],
      "metadata": {
        "colab": {
          "base_uri": "https://localhost:8080/",
          "height": 365
        },
        "id": "ypFK_Q8N5svy",
        "outputId": "1f6d5977-da4a-47df-ec38-9cc3df6900f9"
      },
      "execution_count": 113,
      "outputs": [
        {
          "output_type": "display_data",
          "data": {
            "text/plain": [
              "<Figure size 360x360 with 1 Axes>"
            ],
            "image/png": "[encoded data removed]"
          },
          "metadata": {}
        }
      ]
    },
    {
      "cell_type": "code",
      "source": [
        "_ = sns.displot(sample_mean_calculator(m, 1000, 1000), color = 'green', kde = True)"
      ],
      "metadata": {
        "colab": {
          "base_uri": "https://localhost:8080/",
          "height": 365
        },
        "id": "shFt-MXj6QeS",
        "outputId": "d27ba539-9da1-4314-a581-1935fe3cee13"
      },
      "execution_count": 114,
      "outputs": [
        {
          "output_type": "display_data",
          "data": {
            "text/plain": [
              "<Figure size 360x360 with 1 Axes>"
            ],
            "image/png": "[encoded data removed]"
          },
          "metadata": {}
        }
      ]
    },
    {
      "cell_type": "markdown",
      "source": [
        "#### Sampling from uniform"
      ],
      "metadata": {
        "id": "KU2AI-ZZ6w_S"
      }
    },
    {
      "cell_type": "markdown",
      "source": [
        "Even sampling from the highly non-normal uniform distribution, the sampling distribution comes out normal:"
      ],
      "metadata": {
        "id": "JQMgbqh161je"
      }
    },
    {
      "cell_type": "code",
      "source": [
        "_ = sns.displot(u)"
      ],
      "metadata": {
        "colab": {
          "base_uri": "https://localhost:8080/",
          "height": 365
        },
        "id": "aDgJokoE64Hr",
        "outputId": "037643b7-948e-44bc-e093-a467a8ff1c96"
      },
      "execution_count": 115,
      "outputs": [
        {
          "output_type": "display_data",
          "data": {
            "text/plain": [
              "<Figure size 360x360 with 1 Axes>"
            ],
            "image/png": "[encoded data removed]"
          },
          "metadata": {}
        }
      ]
    },
    {
      "cell_type": "code",
      "source": [
        "_ = sns.displot(sample_mean_calculator(u, 1000, 1000), color = 'green', kde = True)"
      ],
      "metadata": {
        "colab": {
          "base_uri": "https://localhost:8080/",
          "height": 365
        },
        "id": "nW-_DKRI7Cgd",
        "outputId": "e3402e77-6b31-45a8-a55e-649ac54a5fd5"
      },
      "execution_count": 116,
      "outputs": [
        {
          "output_type": "display_data",
          "data": {
            "text/plain": [
              "<Figure size 360x360 with 1 Axes>"
            ],
            "image/png": "[encoded data removed]"
          },
          "metadata": {}
        }
      ]
    },
    {
      "cell_type": "markdown",
      "source": [
        "Therefore, with large enough sample sizes, we can assume the sampling distribution of the means will be normally distributed, allowing us to apply statistical and ML models that are configured for normally distributed noise, which is often the default assumption.\n",
        "\n",
        "As an example, the \"*t*-test\" (covered in *Intro to Stats*) allows us to infer whether two samples come from different populations (say, an experimental group that receives a treatment and a control group that receives a placebo). Thanks to the CLT, we can use this test even if we have no idea what the underlying distributions of the populations being tested are, which may be the case more frequently than not."
      ],
      "metadata": {
        "id": "xoeU0AEY7Zgo"
      }
    },
    {
      "cell_type": "markdown",
      "source": [
        "(Despite being associated with such a key concept as the CLT, the name \"normal distribution\" wasn't originally intended to imply that other distributions are \"abnormal\". It's a historical quirk related to Gauss describing orthogonal (technically a.k.a. \"normal\") equations associated with applied uses of the distribution.)"
      ],
      "metadata": {
        "id": "SnPsxT5p7gKF"
      }
    },
    {
      "cell_type": "markdown",
      "source": [
        "(Finally, you may wonder what the purpose of sampling means is! Well, when we gather data from the real world we are nearly always sampling a subset of all the available data produced by a given random process. And, once we've collected a sample of data, the aspect of it we're often most interested in above all else is its mean.)"
      ],
      "metadata": {
        "id": "WlfAdW427kKr"
      }
    },
    {
      "cell_type": "markdown",
      "source": [
        "### Log-Normal Distribution"
      ],
      "metadata": {
        "id": "ckzdF9hv7oaM"
      }
    },
    {
      "cell_type": "markdown",
      "source": [
        "The natural logarithm of the **log-normal** distribution is normally distributed: "
      ],
      "metadata": {
        "id": "3vtYunYB7sRI"
      }
    },
    {
      "cell_type": "code",
      "source": [
        "x = np.random.lognormal(size = 10000) # defaults to standard normal mu=0, sigma=1"
      ],
      "metadata": {
        "id": "SjI7VLit7uuK"
      },
      "execution_count": 117,
      "outputs": []
    },
    {
      "cell_type": "code",
      "source": [
        "_ = sns.displot(x, kde = True)"
      ],
      "metadata": {
        "colab": {
          "base_uri": "https://localhost:8080/",
          "height": 365
        },
        "id": "ReJpdHjN8NR7",
        "outputId": "7e262e91-ab3c-4e90-ccf3-701db5e970c3"
      },
      "execution_count": 118,
      "outputs": [
        {
          "output_type": "display_data",
          "data": {
            "text/plain": [
              "<Figure size 360x360 with 1 Axes>"
            ],
            "image/png": "[encoded data removed]"
          },
          "metadata": {}
        }
      ]
    },
    {
      "cell_type": "code",
      "source": [
        "_ = sns.displot(np.log(x), color='brown', kde=True)"
      ],
      "metadata": {
        "colab": {
          "base_uri": "https://localhost:8080/",
          "height": 365
        },
        "id": "xnlSZ3QH8aRH",
        "outputId": "3fdf67d5-330c-4efd-a30e-f8bde01e75da"
      },
      "execution_count": 119,
      "outputs": [
        {
          "output_type": "display_data",
          "data": {
            "text/plain": [
              "<Figure size 360x360 with 1 Axes>"
            ],
            "image/png": "[encoded data removed]"
          },
          "metadata": {}
        }
      ]
    },
    {
      "cell_type": "markdown",
      "source": [
        "Real-world examples: \n",
        "\n",
        "* Income\n",
        "* Length of comments in online forums\n",
        "* Duration of chess games or Rubik's Cube solves\n",
        "* Size of publicly-available video files \n",
        "* Number of hospitalized cases in an epidemic where public interventions are involved"
      ],
      "metadata": {
        "id": "L34AN5g68gVG"
      }
    },
    {
      "cell_type": "markdown",
      "source": [
        "### Exponential Distribution"
      ],
      "metadata": {
        "id": "voK0_fnO8koX"
      }
    },
    {
      "cell_type": "markdown",
      "source": [
        "Relatively squished up against zero and then decreases exponentially toward higher values. Log-normal distribution, in contrast, could take negative values and both increases and decreases."
      ],
      "metadata": {
        "id": "pLKkDydY8orp"
      }
    },
    {
      "cell_type": "code",
      "source": [
        "x = np.random.exponential(scale=4, size=10000) # \"scale\" parameter defaults to one"
      ],
      "metadata": {
        "id": "kS2q3NdY8tqm"
      },
      "execution_count": 120,
      "outputs": []
    },
    {
      "cell_type": "code",
      "source": [
        "_ = sns.displot(x)"
      ],
      "metadata": {
        "colab": {
          "base_uri": "https://localhost:8080/",
          "height": 365
        },
        "id": "LlGNcENd8v4S",
        "outputId": "e3883c8f-1ac3-4cd8-cbce-b98f85a793f1"
      },
      "execution_count": 121,
      "outputs": [
        {
          "output_type": "display_data",
          "data": {
            "text/plain": [
              "<Figure size 360x360 with 1 Axes>"
            ],
            "image/png": "[encoded data removed]"
          },
          "metadata": {}
        }
      ]
    },
    {
      "cell_type": "markdown",
      "source": [
        "Its logarithm has a skewed distribution:"
      ],
      "metadata": {
        "id": "7tSB3JiC8z0Y"
      }
    },
    {
      "cell_type": "code",
      "source": [
        "_ = sns.displot(np.log(x), color='brown', kde=True)"
      ],
      "metadata": {
        "colab": {
          "base_uri": "https://localhost:8080/",
          "height": 365
        },
        "id": "SmtymmJW83ip",
        "outputId": "66db09be-cbc0-4f7c-cf50-9a15621f0e1b"
      },
      "execution_count": 122,
      "outputs": [
        {
          "output_type": "display_data",
          "data": {
            "text/plain": [
              "<Figure size 360x360 with 1 Axes>"
            ],
            "image/png": "[encoded data removed]"
          },
          "metadata": {}
        }
      ]
    },
    {
      "cell_type": "markdown",
      "source": [
        "Real-world examples: \n",
        "\n",
        "* Time between requests to access Wikipedia pages\n",
        "* Used frequently in deep learning"
      ],
      "metadata": {
        "id": "aZal4Pe18_l8"
      }
    },
    {
      "cell_type": "markdown",
      "source": [
        "### Laplace Distribution"
      ],
      "metadata": {
        "id": "zQW9d0FA9JfE"
      }
    },
    {
      "cell_type": "markdown",
      "source": [
        "Named after Pierre-Simon Laplace, whom we mentioned (and pictured) earlier as a key figure in the development of Bayesian statistics."
      ],
      "metadata": {
        "id": "Q3LGMXMI9Nec"
      }
    },
    {
      "cell_type": "code",
      "source": [
        "x = np.random.laplace(size=10000)"
      ],
      "metadata": {
        "id": "W6e8freP9QqU"
      },
      "execution_count": 123,
      "outputs": []
    },
    {
      "cell_type": "markdown",
      "source": [
        "Alternatively referred to as the \"double exponential distribution\":"
      ],
      "metadata": {
        "id": "cyVwShDL9WTa"
      }
    },
    {
      "cell_type": "code",
      "source": [
        "_ = sns.displot(x, kde=True)"
      ],
      "metadata": {
        "colab": {
          "base_uri": "https://localhost:8080/",
          "height": 365
        },
        "id": "hjgXxVa_9UIe",
        "outputId": "f9d7274f-d42e-4d2f-d5cb-7135626ccbdb"
      },
      "execution_count": 124,
      "outputs": [
        {
          "output_type": "display_data",
          "data": {
            "text/plain": [
              "<Figure size 360x360 with 1 Axes>"
            ],
            "image/png": "[encoded data removed]"
          },
          "metadata": {}
        }
      ]
    },
    {
      "cell_type": "markdown",
      "source": [
        "In addition to the scale parameter of the exponential function, it has a location parameter that allows it to be centered on any value:"
      ],
      "metadata": {
        "id": "8Kgyvvvz9daO"
      }
    },
    {
      "cell_type": "code",
      "source": [
        "_ = sns.displot(np.random.laplace(loc=25, size=10000), kde=True)"
      ],
      "metadata": {
        "colab": {
          "base_uri": "https://localhost:8080/",
          "height": 365
        },
        "id": "mfPY4APA9gfo",
        "outputId": "4cd2a64a-dc45-43c2-c0d3-feba8e48eccb"
      },
      "execution_count": 125,
      "outputs": [
        {
          "output_type": "display_data",
          "data": {
            "text/plain": [
              "<Figure size 360x360 with 1 Axes>"
            ],
            "image/png": "[encoded data removed]"
          },
          "metadata": {}
        }
      ]
    },
    {
      "cell_type": "markdown",
      "source": [
        "Real-world examples: \n",
        "\n",
        "* Extreme weather events, e.g., maximum rainfall in a day\n",
        "* Many machine learning applications; wherever an acute peak of probability is desired"
      ],
      "metadata": {
        "id": "feTgprRy9jyY"
      }
    },
    {
      "cell_type": "markdown",
      "source": [
        "### Binomial Distribution"
      ],
      "metadata": {
        "id": "QfvlrKw-9nrO"
      }
    },
    {
      "cell_type": "markdown",
      "source": [
        "All distributions so far have been for continuous variables (PDFs). This one is discrete (PMF). \n",
        "\n",
        "We've already been using it for coin flips; it's used for binary (0 or 1) outcome. \n",
        "\n",
        "Its parameters are: \n",
        "\n",
        "* *n*: number of trials\n",
        "* *p*: probability of outcome of 1\n",
        "* *size*: number of experiments with *n* trials each"
      ],
      "metadata": {
        "id": "yijFhrZt9tNN"
      }
    },
    {
      "cell_type": "code",
      "source": [
        "n = 5\n",
        "n_experiments = 1000"
      ],
      "metadata": {
        "id": "i-cl-cZ89rnZ"
      },
      "execution_count": 126,
      "outputs": []
    },
    {
      "cell_type": "markdown",
      "source": [
        "#### Fair coin (p = 0.5)"
      ],
      "metadata": {
        "id": "X7CG6O489zh6"
      }
    },
    {
      "cell_type": "code",
      "source": [
        "heads_count = np.random.binomial(n, 0.5, n_experiments)\n",
        "heads, event_count = np.unique(heads_count, return_counts=True)\n",
        "event_proba = event_count/n_experiments"
      ],
      "metadata": {
        "id": "aG1MxFbF92yK"
      },
      "execution_count": 127,
      "outputs": []
    },
    {
      "cell_type": "code",
      "source": [
        "plt.bar(heads, event_proba, color='mediumpurple')\n",
        "plt.xlabel('Heads flips (out of 5 tosses)')\n",
        "_ = plt.ylabel('Event probability')"
      ],
      "metadata": {
        "colab": {
          "base_uri": "https://localhost:8080/",
          "height": 285
        },
        "id": "puBQRv3597UF",
        "outputId": "c26d5ddc-1bd8-4f64-bfb3-c780fe9d4145"
      },
      "execution_count": 128,
      "outputs": [
        {
          "output_type": "display_data",
          "data": {
            "text/plain": [
              "<Figure size 432x288 with 1 Axes>"
            ],
            "image/png": "[encoded data removed]"
          },
          "metadata": {}
        }
      ]
    },
    {
      "cell_type": "markdown",
      "source": [
        "#### Weighted coin (p = 0.8)"
      ],
      "metadata": {
        "id": "d3Y1ozSl9_cy"
      }
    },
    {
      "cell_type": "code",
      "source": [
        "heads_count = np.random.binomial(n, 0.8, n_experiments)\n",
        "heads, event_count = np.unique(heads_count, return_counts=True)\n",
        "event_proba = event_count/n_experiments"
      ],
      "metadata": {
        "id": "T9qe7hwH-CL2"
      },
      "execution_count": 129,
      "outputs": []
    },
    {
      "cell_type": "code",
      "source": [
        "plt.bar(heads, event_proba, color='mediumpurple')\n",
        "plt.xlabel('Heads flips (out of 5 tosses)')\n",
        "_ = plt.ylabel('Event probability')"
      ],
      "metadata": {
        "colab": {
          "base_uri": "https://localhost:8080/",
          "height": 285
        },
        "id": "duc9bsCI-Ef6",
        "outputId": "c13d1018-2b9e-4255-974b-4dca3d52d315"
      },
      "execution_count": 130,
      "outputs": [
        {
          "output_type": "display_data",
          "data": {
            "text/plain": [
              "<Figure size 432x288 with 1 Axes>"
            ],
            "image/png": "[encoded data removed]"
          },
          "metadata": {}
        }
      ]
    },
    {
      "cell_type": "markdown",
      "source": [
        "Technically, binomial distributions are created by sampling $n>1$ \"Bernoulli trials\". The **Bernoulli** distribution is equivalent to the binomial distribution where $n=1$: "
      ],
      "metadata": {
        "id": "uFrJD-vK-IHb"
      }
    },
    {
      "cell_type": "code",
      "source": [
        "np.random.binomial(1, 0.5)"
      ],
      "metadata": {
        "colab": {
          "base_uri": "https://localhost:8080/"
        },
        "id": "agzVBr3H-LTj",
        "outputId": "29b9c7f9-75aa-456f-af76-481763f34992"
      },
      "execution_count": 131,
      "outputs": [
        {
          "output_type": "execute_result",
          "data": {
            "text/plain": [
              "1"
            ]
          },
          "metadata": {},
          "execution_count": 131
        }
      ]
    },
    {
      "cell_type": "markdown",
      "source": [
        "Real-world examples:\n",
        "\n",
        "* Making it to work on time\n",
        "* Candidate being invited to interview\n",
        "* Epidemiology: probability of death or catching disease"
      ],
      "metadata": {
        "id": "kmb3WmeV-TIE"
      }
    },
    {
      "cell_type": "markdown",
      "source": [
        "### Multinomial Distribution"
      ],
      "metadata": {
        "id": "H65pT56o-YU0"
      }
    },
    {
      "cell_type": "markdown",
      "source": [
        "Generalization of the binomial distribution to discrete random variables with more than two possible outcomes, e.g., the roll of a die:"
      ],
      "metadata": {
        "id": "taaC9Mnw-cYk"
      }
    },
    {
      "cell_type": "code",
      "source": [
        "n = 1000"
      ],
      "metadata": {
        "id": "jx6d1rHB-ezy"
      },
      "execution_count": 132,
      "outputs": []
    },
    {
      "cell_type": "code",
      "source": [
        "rolls = np.random.multinomial(n, [1/6.]*6)\n",
        "rolls"
      ],
      "metadata": {
        "colab": {
          "base_uri": "https://localhost:8080/"
        },
        "id": "30fIoy4o-iIL",
        "outputId": "b17c4a18-2825-4de5-ce28-0af1183d8d3d"
      },
      "execution_count": 133,
      "outputs": [
        {
          "output_type": "execute_result",
          "data": {
            "text/plain": [
              "array([176, 150, 178, 183, 171, 142])"
            ]
          },
          "metadata": {},
          "execution_count": 133
        }
      ]
    },
    {
      "cell_type": "code",
      "source": [
        "event_proba = rolls/n"
      ],
      "metadata": {
        "id": "dzAsQloS-kxv"
      },
      "execution_count": 134,
      "outputs": []
    },
    {
      "cell_type": "code",
      "source": [
        "plt.bar(range(1, 7), event_proba, color='mediumpurple')\n",
        "plt.xlabel('Die roll')\n",
        "_ = plt.ylabel('Event probability')"
      ],
      "metadata": {
        "colab": {
          "base_uri": "https://localhost:8080/",
          "height": 285
        },
        "id": "3OLH9K5s-oCa",
        "outputId": "157444ff-4289-4639-dcf3-770bb41e23ef"
      },
      "execution_count": 135,
      "outputs": [
        {
          "output_type": "display_data",
          "data": {
            "text/plain": [
              "<Figure size 432x288 with 1 Axes>"
            ],
            "image/png": "[encoded data removed]"
          },
          "metadata": {}
        }
      ]
    },
    {
      "cell_type": "markdown",
      "source": [
        "As in the binomial case, multinomial distributions are created by sampling $n>1$ multinoulli distributions, where the multinoulli distribution is equivalent to the multinomial distribution when $n=1$:"
      ],
      "metadata": {
        "id": "gAju33Dx-r5P"
      }
    },
    {
      "cell_type": "code",
      "source": [
        "np.random.multinomial(1, [1/6.]*6)"
      ],
      "metadata": {
        "colab": {
          "base_uri": "https://localhost:8080/"
        },
        "id": "5K9dZr0L-z9X",
        "outputId": "48692e97-fbe0-4ccd-c658-ac6edff94acb"
      },
      "execution_count": 136,
      "outputs": [
        {
          "output_type": "execute_result",
          "data": {
            "text/plain": [
              "array([0, 0, 0, 0, 1, 0])"
            ]
          },
          "metadata": {},
          "execution_count": 136
        }
      ]
    },
    {
      "cell_type": "markdown",
      "source": [
        "Since multinomial distributions can represent any categorical variable (e.g., burger, hot dog, pizza; 52 playing cards; NFL teams), not just integer values, we can't always calculate an expected value."
      ],
      "metadata": {
        "id": "rqchyUYL-vMd"
      }
    },
    {
      "cell_type": "markdown",
      "source": [
        "### Poisson Distribution"
      ],
      "metadata": {
        "id": "QuZOVKp8BL2s"
      }
    },
    {
      "cell_type": "markdown",
      "source": [
        "It's named after French mathematician Simeon Denis Poisson and is used for count data, e.g.: \n",
        "\n",
        "* Number of cars that drive by in a minute\n",
        "* Number of guests at restaurant in an evening\n",
        "* Number of new hires in a month"
      ],
      "metadata": {
        "id": "NE-5FhcXBP2G"
      }
    },
    {
      "cell_type": "markdown",
      "source": [
        "First argument to NumPy `poisson()` method is $\\lambda$, which must be greater than zero and guides peak of probability distribution. E.g., sampling from Poisson with $\\lambda=5$ will tend to draw samples near 5."
      ],
      "metadata": {
        "id": "NiETYL9CBVI8"
      }
    },
    {
      "cell_type": "code",
      "source": [
        "lam = 5"
      ],
      "metadata": {
        "id": "aklXLWVsBhdi"
      },
      "execution_count": 137,
      "outputs": []
    },
    {
      "cell_type": "markdown",
      "source": [
        "Second argument is number of samples to draw:"
      ],
      "metadata": {
        "id": "1rhRFBGABnKF"
      }
    },
    {
      "cell_type": "code",
      "source": [
        "n = 1000"
      ],
      "metadata": {
        "id": "_gqAasZOBoy3"
      },
      "execution_count": 138,
      "outputs": []
    },
    {
      "cell_type": "code",
      "source": [
        "samples = np.random.poisson(lam, n)"
      ],
      "metadata": {
        "id": "HR5LmndEBr0-"
      },
      "execution_count": 139,
      "outputs": []
    },
    {
      "cell_type": "code",
      "source": [
        "samples[0:20]"
      ],
      "metadata": {
        "colab": {
          "base_uri": "https://localhost:8080/"
        },
        "id": "grSJHwKKBztx",
        "outputId": "294051b3-d9ee-435b-8565-95f44da65992"
      },
      "execution_count": 140,
      "outputs": [
        {
          "output_type": "execute_result",
          "data": {
            "text/plain": [
              "array([4, 3, 2, 2, 6, 6, 6, 5, 5, 3, 6, 4, 5, 6, 3, 6, 7, 6, 5, 4])"
            ]
          },
          "metadata": {},
          "execution_count": 140
        }
      ]
    },
    {
      "cell_type": "code",
      "source": [
        "x, x_count = np.unique(samples, return_counts= True)"
      ],
      "metadata": {
        "id": "1o5d13V7B40w"
      },
      "execution_count": 141,
      "outputs": []
    },
    {
      "cell_type": "code",
      "source": [
        "x"
      ],
      "metadata": {
        "colab": {
          "base_uri": "https://localhost:8080/"
        },
        "id": "gQZDLiXUCD8J",
        "outputId": "cd404e88-61b5-48cd-b708-0c7540671433"
      },
      "execution_count": 142,
      "outputs": [
        {
          "output_type": "execute_result",
          "data": {
            "text/plain": [
              "array([ 0,  1,  2,  3,  4,  5,  6,  7,  8,  9, 10, 11, 12, 13])"
            ]
          },
          "metadata": {},
          "execution_count": 142
        }
      ]
    },
    {
      "cell_type": "code",
      "source": [
        "x_count"
      ],
      "metadata": {
        "colab": {
          "base_uri": "https://localhost:8080/"
        },
        "id": "SAQOVIMuCFO-",
        "outputId": "fe0a46df-b34f-4281-b6b5-1cca1cac44f1"
      },
      "execution_count": 143,
      "outputs": [
        {
          "output_type": "execute_result",
          "data": {
            "text/plain": [
              "array([  6,  43,  82, 146, 166, 162, 141, 132,  54,  33,  20,   8,   5,\n",
              "         2])"
            ]
          },
          "metadata": {},
          "execution_count": 143
        }
      ]
    },
    {
      "cell_type": "code",
      "source": [
        "Px = x_count/n"
      ],
      "metadata": {
        "id": "iAqLCSGwCIxO"
      },
      "execution_count": 146,
      "outputs": []
    },
    {
      "cell_type": "code",
      "source": [
        "plt.bar(x, Px, color='mediumpurple')\n",
        "plt.title('PMF of Poisson with lambda = {}'.format(lam))\n",
        "plt.xlabel('x')\n",
        "_ = plt.ylabel('P(x)')"
      ],
      "metadata": {
        "colab": {
          "base_uri": "https://localhost:8080/",
          "height": 301
        },
        "id": "BnCJgyuHCNsE",
        "outputId": "6751128f-ddb4-43a2-f3b1-f84c6a359bf4"
      },
      "execution_count": 147,
      "outputs": [
        {
          "output_type": "display_data",
          "data": {
            "text/plain": [
              "<Figure size 432x288 with 1 Axes>"
            ],
            "image/png": "[encoded data removed]"
          },
          "metadata": {}
        }
      ]
    },
    {
      "cell_type": "markdown",
      "source": [
        "### Mixture Distributions"
      ],
      "metadata": {
        "id": "o17O4Jk1CWQW"
      }
    },
    {
      "cell_type": "markdown",
      "source": [
        "Multinomial distribution (driven by `np.random.choice()`) with probabilities set by `coefficients` array determines which of the three distributions to sample from."
      ],
      "metadata": {
        "id": "be7RU4hNCbOh"
      }
    },
    {
      "cell_type": "code",
      "source": [
        "distributions = [\n",
        "    {\"type\": np.random.normal, \"kwargs\": {\"loc\": -3, \"scale\": 2}},\n",
        "    {\"type\": np.random.uniform, \"kwargs\": {\"low\": 4, \"high\": 6}},\n",
        "    {\"type\": np.random.normal, \"kwargs\": {\"loc\": 2, \"scale\": 1}},\n",
        "]\n",
        "\n",
        "coefficients = np.array([0.5, 0.2, 0.3])\n",
        "coefficients /= coefficients.sum()      # in case these did not add up to 1\n",
        "sample_size = 10000\n",
        "\n",
        "num_distr = len(distributions)\n",
        "data = np.zeros((sample_size, num_distr))\n",
        "for idx, distr in enumerate(distributions):\n",
        "    data[:, idx] = distr[\"type\"](size=(sample_size,), **distr[\"kwargs\"])\n",
        "\n",
        "random_idx = np.random.choice(np.arange(num_distr), size=(sample_size,), p=coefficients)\n",
        "sample = data[np.arange(sample_size), random_idx]\n",
        "_ = sns.displot(sample, bins=100, kde=True)"
      ],
      "metadata": {
        "colab": {
          "base_uri": "https://localhost:8080/",
          "height": 365
        },
        "id": "qwMD14bWCfIx",
        "outputId": "0257a89a-4426-4efb-a35c-cabc5fd5b368"
      },
      "execution_count": 148,
      "outputs": [
        {
          "output_type": "display_data",
          "data": {
            "text/plain": [
              "<Figure size 360x360 with 1 Axes>"
            ],
            "image/png": "[encoded data removed]"
          },
          "metadata": {}
        }
      ]
    },
    {
      "cell_type": "markdown",
      "source": [
        "**Gaussian mixture model** (GMM) is common type of mixture distribution, wherein all of the component distributions are normal."
      ],
      "metadata": {
        "id": "m9iJHoRiCoEk"
      }
    },
    {
      "cell_type": "markdown",
      "source": [
        "## Information Theory"
      ],
      "metadata": {
        "id": "mDWsxz6LCukd"
      }
    },
    {
      "cell_type": "markdown",
      "source": [
        "the **self-information** formula is: \n",
        "$$ I(x)=-\\text{log}P(x) $$"
      ],
      "metadata": {
        "id": "DltzIGWLC13L"
      }
    },
    {
      "cell_type": "code",
      "source": [
        "def self_info(my_p):\n",
        "    return -1*np.log(my_p)"
      ],
      "metadata": {
        "id": "iyCI-SUGC9Sa"
      },
      "execution_count": 149,
      "outputs": []
    },
    {
      "cell_type": "code",
      "source": [
        "self_info(1)"
      ],
      "metadata": {
        "colab": {
          "base_uri": "https://localhost:8080/"
        },
        "id": "hfmwDo2aC-zK",
        "outputId": "b158f03e-4b5c-4af3-b7bc-f3f734f0fbf9"
      },
      "execution_count": 150,
      "outputs": [
        {
          "output_type": "execute_result",
          "data": {
            "text/plain": [
              "-0.0"
            ]
          },
          "metadata": {},
          "execution_count": 150
        }
      ]
    },
    {
      "cell_type": "code",
      "source": [
        "self_info(0.1)"
      ],
      "metadata": {
        "colab": {
          "base_uri": "https://localhost:8080/"
        },
        "id": "jfdbmkGwDEGm",
        "outputId": "b9ce5e18-7e7e-4492-905e-cee6091708f3"
      },
      "execution_count": 151,
      "outputs": [
        {
          "output_type": "execute_result",
          "data": {
            "text/plain": [
              "2.3025850929940455"
            ]
          },
          "metadata": {},
          "execution_count": 151
        }
      ]
    },
    {
      "cell_type": "code",
      "source": [
        "self_info(0.01)"
      ],
      "metadata": {
        "colab": {
          "base_uri": "https://localhost:8080/"
        },
        "id": "gd29PnKTDGS9",
        "outputId": "c838c3fb-c660-4ad0-e7e8-42e5e0750f17"
      },
      "execution_count": 152,
      "outputs": [
        {
          "output_type": "execute_result",
          "data": {
            "text/plain": [
              "4.605170185988091"
            ]
          },
          "metadata": {},
          "execution_count": 152
        }
      ]
    },
    {
      "cell_type": "code",
      "source": [
        "self_info(0.5)"
      ],
      "metadata": {
        "colab": {
          "base_uri": "https://localhost:8080/"
        },
        "id": "rnq08DxzDJnP",
        "outputId": "ae717f07-22f7-4d8f-a546-a31996c566b4"
      },
      "execution_count": 153,
      "outputs": [
        {
          "output_type": "execute_result",
          "data": {
            "text/plain": [
              "0.6931471805599453"
            ]
          },
          "metadata": {},
          "execution_count": 153
        }
      ]
    },
    {
      "cell_type": "code",
      "source": [
        "self_info(0.5) + self_info(0.5)"
      ],
      "metadata": {
        "colab": {
          "base_uri": "https://localhost:8080/"
        },
        "id": "Qp7jyek3DN29",
        "outputId": "e89d8f69-9ac7-4a86-9e50-305057dc11a2"
      },
      "execution_count": 154,
      "outputs": [
        {
          "output_type": "execute_result",
          "data": {
            "text/plain": [
              "1.3862943611198906"
            ]
          },
          "metadata": {},
          "execution_count": 154
        }
      ]
    },
    {
      "cell_type": "markdown",
      "source": [
        "Depending on what logarithm base we use, the units of self-information vary. Most frequently, the units are either:\n",
        "\n",
        "* **nats**: \n",
        "    * Natural logarithm, as above with `np.log()` \n",
        "    * Typical in ML\n",
        "* **bits**: \n",
        "    * Base-2 logarithm\n",
        "    * A.k.a. **shannons**\n",
        "    * Typical in computer science\n",
        "\n",
        "So, the self-information of $P(x) = 0.1$ is ~2.3 nats."
      ],
      "metadata": {
        "id": "Ir-MQ8T9DR8L"
      }
    },
    {
      "cell_type": "markdown",
      "source": [
        "### Shannon and Differential Entropy"
      ],
      "metadata": {
        "id": "TDO4NMCJDXoX"
      }
    },
    {
      "cell_type": "markdown",
      "source": [
        "To quantify uncertainty about a probability distribution (as opposed to a single event), we can use **Shannon entropy**, which is denoted $H(x)$ or $H(P)$: \n",
        "$$ H(x) = \\mathbb{E}_{\\text{x}\\sim P}[I(x)] \\\\\n",
        "= -\\mathbb{E}_{\\text{x}\\sim P}[\\text{log}P(x)] $$\n",
        "\n",
        "Conveys the expected informational content associated with an event drawn from the distribution:\n",
        "* **Low entropy**: \n",
        "    * Distribution is ~deterministic and outcomes are ~certain\n",
        "    * E.g., weighted coin always lands heads up ($P(1)=1$)\n",
        "* **High entropy**: \n",
        "    * Outcomes are uncertain\n",
        "    * Uniform distribution can be highest entropy\n",
        "    * E.g., coin is as likely to be heads as tails ($P(0)=P(1)=0.5$)"
      ],
      "metadata": {
        "id": "CDrjCm-kDcUs"
      }
    },
    {
      "cell_type": "markdown",
      "source": [
        "As an example, Shannon entropy for a binary random variable (e.g., coin flip) is: \n",
        "$$ (p-1)\\text{log}(1-p)-p \\text{log}p $$"
      ],
      "metadata": {
        "id": "A5FzA9ADDh3n"
      }
    },
    {
      "cell_type": "code",
      "source": [
        "def binary_entropy(my_p):\n",
        "    return (my_p-1)*np.log(1-my_p) - my_p*np.log(my_p)"
      ],
      "metadata": {
        "id": "9kA58gCrDmuX"
      },
      "execution_count": 155,
      "outputs": []
    },
    {
      "cell_type": "markdown",
      "source": [
        "Will throw `nan` with $p=0$ (always tails) or $p=1$ (always heads), but we can get close:"
      ],
      "metadata": {
        "id": "QSZcTz4EDplV"
      }
    },
    {
      "cell_type": "code",
      "source": [
        "binary_entropy(0.00001)"
      ],
      "metadata": {
        "colab": {
          "base_uri": "https://localhost:8080/"
        },
        "id": "s_zZY4awDswV",
        "outputId": "2eb46ea8-dade-44dd-e2fa-a4c41c8b1238"
      },
      "execution_count": 156,
      "outputs": [
        {
          "output_type": "execute_result",
          "data": {
            "text/plain": [
              "0.00012512920464949012"
            ]
          },
          "metadata": {},
          "execution_count": 156
        }
      ]
    },
    {
      "cell_type": "code",
      "source": [
        "binary_entropy(0.99999)"
      ],
      "metadata": {
        "colab": {
          "base_uri": "https://localhost:8080/"
        },
        "id": "zMZgje-NDvd1",
        "outputId": "7db89c08-630f-4416-b9ec-643a2612c975"
      },
      "execution_count": 157,
      "outputs": [
        {
          "output_type": "execute_result",
          "data": {
            "text/plain": [
              "0.00012512920464901166"
            ]
          },
          "metadata": {},
          "execution_count": 157
        }
      ]
    },
    {
      "cell_type": "code",
      "source": [
        "binary_entropy(0.9)"
      ],
      "metadata": {
        "colab": {
          "base_uri": "https://localhost:8080/"
        },
        "id": "qW0awahFDyaL",
        "outputId": "d4c20484-9549-4623-94e2-5869060609c8"
      },
      "execution_count": 158,
      "outputs": [
        {
          "output_type": "execute_result",
          "data": {
            "text/plain": [
              "0.3250829733914482"
            ]
          },
          "metadata": {},
          "execution_count": 158
        }
      ]
    },
    {
      "cell_type": "code",
      "source": [
        "binary_entropy(0.5)"
      ],
      "metadata": {
        "colab": {
          "base_uri": "https://localhost:8080/"
        },
        "id": "pBnwwFbIDyw8",
        "outputId": "15f49fa9-c07b-40c7-bc68-76843e1d0fff"
      },
      "execution_count": 159,
      "outputs": [
        {
          "output_type": "execute_result",
          "data": {
            "text/plain": [
              "0.6931471805599453"
            ]
          },
          "metadata": {},
          "execution_count": 159
        }
      ]
    },
    {
      "cell_type": "code",
      "source": [
        "p = np.linspace(0.001, 0.999, 1000) # start, finish, n points"
      ],
      "metadata": {
        "id": "sTMcHjOBD4jB"
      },
      "execution_count": 160,
      "outputs": []
    },
    {
      "cell_type": "code",
      "source": [
        "H = binary_entropy(p)"
      ],
      "metadata": {
        "id": "01PJJxCAD7kp"
      },
      "execution_count": 161,
      "outputs": []
    },
    {
      "cell_type": "code",
      "source": [
        "fig, ax = plt.subplots()\n",
        "plt.title('Shannon entropy of Bernoulli trial')\n",
        "plt.xlabel('p')\n",
        "plt.ylabel('H (nats)')\n",
        "_ = ax.plot(p,H)"
      ],
      "metadata": {
        "colab": {
          "base_uri": "https://localhost:8080/",
          "height": 301
        },
        "id": "_9gWwMMaD9z5",
        "outputId": "bbe56642-e024-409f-ffd8-0008339727ed"
      },
      "execution_count": 162,
      "outputs": [
        {
          "output_type": "display_data",
          "data": {
            "text/plain": [
              "<Figure size 432x288 with 1 Axes>"
            ],
            "image/png": "[encoded data removed]"
          },
          "metadata": {}
        }
      ]
    },
    {
      "cell_type": "markdown",
      "source": [
        "**Differential entropy**: simply the term for Shannon entropy if distribution is PDF"
      ],
      "metadata": {
        "id": "GdgbMrCJEBsK"
      }
    },
    {
      "cell_type": "markdown",
      "source": [
        "### Kullback-Leibler Divergence"
      ],
      "metadata": {
        "id": "TthtEw40EFRo"
      }
    },
    {
      "cell_type": "markdown",
      "source": [
        "**KL divergence** enables us to quantify the relative Shannon (or differential) entropy of two probability distributions that are over the same random variable x.\n",
        "\n",
        "For example, if we have one probability distribution described by $P(x)$ and another by $Q(x)$, their KL divergence (denoted $D_\\text{KL}$) is: \n",
        "$$ D_\\text{KL}(P||Q) = \\mathbb{E}_{\\text{x} \\sim P}[\\text{log}P(x) - \\text{log}Q(x)] $$"
      ],
      "metadata": {
        "id": "X8zmy8xqEIFv"
      }
    },
    {
      "cell_type": "markdown",
      "source": [
        "### Cross-Entropy"
      ],
      "metadata": {
        "id": "zKUO_PotELy_"
      }
    },
    {
      "cell_type": "markdown",
      "source": [
        "Cross-entropy is a concept derived from KL divergence. Its detail is beyond the scope of this series except to mention that it provides us with the **cross-entropy cost** function. \n",
        "\n",
        "This cost function is ubiquitous in neural networks as it's the cost function of choice for predicting discrete, categorical outcomes. E.g., for a binary classifier, the cross-entropy cost ($C$) is: \n",
        "\n",
        "$$ C = -(y \\cdot \\text{log}(\\hat{y}) + (1-y) \\cdot \\text{log}(1-\\hat{y})) $$"
      ],
      "metadata": {
        "id": "DrEFkRtkEPw8"
      }
    },
    {
      "cell_type": "code",
      "source": [
        "def cross_entropy(y, a):\n",
        "    return -1*(y*np.log(a) + (1-y)*np.log(1-a))"
      ],
      "metadata": {
        "id": "YdICEJIeESC0"
      },
      "execution_count": 163,
      "outputs": []
    },
    {
      "cell_type": "code",
      "source": [
        "cross_entropy(1, 0.9997)"
      ],
      "metadata": {
        "colab": {
          "base_uri": "https://localhost:8080/"
        },
        "id": "rpqmsJyUEUNc",
        "outputId": "71a1c088-ca60-47ac-879e-bc8d9745d17b"
      },
      "execution_count": 164,
      "outputs": [
        {
          "output_type": "execute_result",
          "data": {
            "text/plain": [
              "0.00030004500900199243"
            ]
          },
          "metadata": {},
          "execution_count": 164
        }
      ]
    },
    {
      "cell_type": "code",
      "source": [
        "cross_entropy(1, 0.9)"
      ],
      "metadata": {
        "colab": {
          "base_uri": "https://localhost:8080/"
        },
        "id": "9erfUOutEWdJ",
        "outputId": "a98af7e2-45bc-4ae0-970a-669581b99911"
      },
      "execution_count": 165,
      "outputs": [
        {
          "output_type": "execute_result",
          "data": {
            "text/plain": [
              "0.10536051565782628"
            ]
          },
          "metadata": {},
          "execution_count": 165
        }
      ]
    },
    {
      "cell_type": "code",
      "source": [
        "cross_entropy(1, 0.6)"
      ],
      "metadata": {
        "colab": {
          "base_uri": "https://localhost:8080/"
        },
        "id": "oYJlzD4PEZ2V",
        "outputId": "0e3b390b-b9bb-439e-9882-e0b961752cd2"
      },
      "execution_count": 166,
      "outputs": [
        {
          "output_type": "execute_result",
          "data": {
            "text/plain": [
              "0.5108256237659907"
            ]
          },
          "metadata": {},
          "execution_count": 166
        }
      ]
    },
    {
      "cell_type": "code",
      "source": [
        "cross_entropy(1, 0.3)"
      ],
      "metadata": {
        "colab": {
          "base_uri": "https://localhost:8080/"
        },
        "id": "soSy-zwMEb2Y",
        "outputId": "405e2001-fb21-415a-d65e-e9a129bd92b4"
      },
      "execution_count": 167,
      "outputs": [
        {
          "output_type": "execute_result",
          "data": {
            "text/plain": [
              "1.2039728043259361"
            ]
          },
          "metadata": {},
          "execution_count": 167
        }
      ]
    }
  ]
}