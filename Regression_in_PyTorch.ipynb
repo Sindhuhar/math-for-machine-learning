{
  "nbformat": 4,
  "nbformat_minor": 0,
  "metadata": {
    "colab": {
      "provenance": [],
      "authorship_tag": "ABX9TyOoDDsZAYuZPiR97kBU5OaH",
      "include_colab_link": true
    },
    "kernelspec": {
      "name": "python3",
      "display_name": "Python 3"
    },
    "language_info": {
      "name": "python"
    },
    "accelerator": "TPU",
    "gpuClass": "standard"
  },
  "cells": [
    {
      "cell_type": "markdown",
      "metadata": {
        "id": "view-in-github",
        "colab_type": "text"
      },
      "source": [
        "<a href=\"https://colab.research.google.com/github/Sindhuhar/math-for-machine-learning/blob/main/Regression_in_PyTorch.ipynb\" target=\"_parent\"><img src=\"https://colab.research.google.com/assets/colab-badge.svg\" alt=\"Open In Colab\"/></a>"
      ]
    },
    {
      "cell_type": "markdown",
      "source": [
        "# **Regression in PyTorch**"
      ],
      "metadata": {
        "id": "R7r0Y6C1OXoa"
      }
    },
    {
      "cell_type": "code",
      "source": [
        "import torch\n",
        "import matplotlib.pyplot as plt"
      ],
      "metadata": {
        "id": "KjqLuvlNOfft"
      },
      "execution_count": 35,
      "outputs": []
    },
    {
      "cell_type": "code",
      "source": [
        "x = torch.tensor([0,1,2,3,4,5,6,7.])  # E.g.: Dosage of drug for treating Alzheimer's disease\n",
        "x"
      ],
      "metadata": {
        "colab": {
          "base_uri": "https://localhost:8080/"
        },
        "id": "7J3KsGVoOuxE",
        "outputId": "786cd49a-902f-4946-d6f6-66eb45303a8a"
      },
      "execution_count": 36,
      "outputs": [
        {
          "output_type": "execute_result",
          "data": {
            "text/plain": [
              "tensor([0., 1., 2., 3., 4., 5., 6., 7.])"
            ]
          },
          "metadata": {},
          "execution_count": 36
        }
      ]
    },
    {
      "cell_type": "markdown",
      "source": [
        "The y\n",
        " values were created using the equation of a line y=mx+b\n",
        ". This way, we know what the model parameters to be learned are, say, m=-0.5\n",
        " and b=2\n",
        ". Random, normally-distributed noise has been added to simulate sampling error:"
      ],
      "metadata": {
        "id": "ySjKS-dYO-0C"
      }
    },
    {
      "cell_type": "code",
      "source": [
        "# y = -0.5*x + 2 + torch.normal(mean=torch.zeros(8), std=0.2)"
      ],
      "metadata": {
        "id": "7egtbOTXPlKb"
      },
      "execution_count": 37,
      "outputs": []
    },
    {
      "cell_type": "markdown",
      "source": [
        "For reproducibility of this demo, here's a fixed example of y\n",
        " values obtained by running the commented-out line above:"
      ],
      "metadata": {
        "id": "FLGpGfWbPvw3"
      }
    },
    {
      "cell_type": "code",
      "source": [
        "y = torch.tensor([1.86, 1.31, .62, .33, .09, -.67, -1.23, -1.37]) # E.g.: Patient's \"forgetfulness score\"\n",
        "y"
      ],
      "metadata": {
        "colab": {
          "base_uri": "https://localhost:8080/"
        },
        "id": "_aBvMi5fPyzK",
        "outputId": "2b358d9d-a286-4b97-f94e-6aa732c36da2"
      },
      "execution_count": 38,
      "outputs": [
        {
          "output_type": "execute_result",
          "data": {
            "text/plain": [
              "tensor([ 1.8600,  1.3100,  0.6200,  0.3300,  0.0900, -0.6700, -1.2300, -1.3700])"
            ]
          },
          "metadata": {},
          "execution_count": 38
        }
      ]
    },
    {
      "cell_type": "code",
      "source": [
        "fig, ax = plt.subplots()\n",
        "plt.title('Clinical Trial')\n",
        "plt.xlabel('Drug dosage (ml)')\n",
        "plt.ylabel('Forgetfulness')\n",
        "_ = ax.scatter(x,y)"
      ],
      "metadata": {
        "id": "0qqY3RELP75-",
        "colab": {
          "base_uri": "https://localhost:8080/",
          "height": 295
        },
        "outputId": "52ede723-6a68-4570-937b-3799038e21aa"
      },
      "execution_count": 39,
      "outputs": [
        {
          "output_type": "display_data",
          "data": {
            "text/plain": [
              "<Figure size 432x288 with 1 Axes>"
            ],
            "image/png": "[encoded data removed]"
          },
          "metadata": {
            "needs_background": "light"
          }
        }
      ]
    },
    {
      "cell_type": "markdown",
      "source": [
        "Initialize the slope parameter m\n",
        " with a \"random\" value of 0.9..."
      ],
      "metadata": {
        "id": "svNdeYtSSzrs"
      }
    },
    {
      "cell_type": "markdown",
      "source": [
        "(N.B.: In this simple demo, we could guess approximately-correct parameter values to start with. Or, we could use an algebraic (e.g., Moore-Penrose pseudoinverse) or statistical (e.g., ordinary-least-squares regression) to solve for the parameters quickly. This tiny machine learning demo with two parameters and eight data points scales, however, to millions of parameters and millions of data points. The other approaches -- guessing, algebra, statistics -- do not come close to scaling in this way.)"
      ],
      "metadata": {
        "id": "ItcxNr1hS5g5"
      }
    },
    {
      "cell_type": "code",
      "source": [
        "m = torch.tensor([0.9]).requires_grad_()\n",
        "m"
      ],
      "metadata": {
        "id": "idZ9_ohZTNPA",
        "colab": {
          "base_uri": "https://localhost:8080/"
        },
        "outputId": "a02b60df-f20e-4637-9c49-cdc69ce148d3"
      },
      "execution_count": 40,
      "outputs": [
        {
          "output_type": "execute_result",
          "data": {
            "text/plain": [
              "tensor([0.9000], requires_grad=True)"
            ]
          },
          "metadata": {},
          "execution_count": 40
        }
      ]
    },
    {
      "cell_type": "code",
      "source": [
        "b = torch.tensor([0.1]).requires_grad_()\n",
        "b"
      ],
      "metadata": {
        "id": "Z0IV_cyYTc3T",
        "colab": {
          "base_uri": "https://localhost:8080/"
        },
        "outputId": "4a683ff3-d8b2-487d-8755-745f0ebbd7d7"
      },
      "execution_count": 41,
      "outputs": [
        {
          "output_type": "execute_result",
          "data": {
            "text/plain": [
              "tensor([0.1000], requires_grad=True)"
            ]
          },
          "metadata": {},
          "execution_count": 41
        }
      ]
    },
    {
      "cell_type": "code",
      "source": [
        "def regression(my_x, my_m,my_b):\n",
        "  return my_m*my_x + my_b"
      ],
      "metadata": {
        "id": "37fTJuL7Trle"
      },
      "execution_count": 42,
      "outputs": []
    },
    {
      "cell_type": "code",
      "source": [
        "def regression_plot(my_x,my_y,my_m,my_b):\n",
        "\n",
        "  fig, ax = plt.subplots()\n",
        "\n",
        "  ax.scatter(my_x,my_y)\n",
        "\n",
        "  x_min, x_max = ax.get_xlim()\n",
        "  y_min = regression(x_min, my_m, my_b).detach().item()\n",
        "  y_max = regression(x_max, my_m, my_b).detach().item()\n",
        "\n",
        "  ax.set_xlim([x_min, x_max])\n",
        "  _ = ax.plot([x_min,x_max],[y_min,y_max])"
      ],
      "metadata": {
        "id": "QHj_qc9BUOZN"
      },
      "execution_count": 43,
      "outputs": []
    },
    {
      "cell_type": "code",
      "source": [
        "regression_plot(x,y,m,b)"
      ],
      "metadata": {
        "colab": {
          "base_uri": "https://localhost:8080/",
          "height": 266
        },
        "id": "H1oqbIkrVOJC",
        "outputId": "06af7ae5-9bf1-418d-aaea-41079720c2e4"
      },
      "execution_count": 44,
      "outputs": [
        {
          "output_type": "display_data",
          "data": {
            "text/plain": [
              "<Figure size 432x288 with 1 Axes>"
            ],
            "image/png": "[encoded data removed]"
          },
          "metadata": {
            "needs_background": "light"
          }
        }
      ]
    },
    {
      "cell_type": "markdown",
      "source": [
        "**Machine Learning**"
      ],
      "metadata": {
        "id": "SgTk_LkqVY60"
      }
    },
    {
      "cell_type": "markdown",
      "source": [
        "In four easy steps :)"
      ],
      "metadata": {
        "id": "-GfIp3bAVdHc"
      }
    },
    {
      "cell_type": "markdown",
      "source": [
        "**Step 1**: Forward pass"
      ],
      "metadata": {
        "id": "aUMJNlBUVec1"
      }
    },
    {
      "cell_type": "code",
      "source": [
        "yhat = regression(x,m,b)\n",
        "yhat"
      ],
      "metadata": {
        "colab": {
          "base_uri": "https://localhost:8080/"
        },
        "id": "P2JS91HpVixd",
        "outputId": "942dcbf2-17c7-4dc4-ff8d-584caf7385c7"
      },
      "execution_count": 45,
      "outputs": [
        {
          "output_type": "execute_result",
          "data": {
            "text/plain": [
              "tensor([0.1000, 1.0000, 1.9000, 2.8000, 3.7000, 4.6000, 5.5000, 6.4000],\n",
              "       grad_fn=<AddBackward0>)"
            ]
          },
          "metadata": {},
          "execution_count": 45
        }
      ]
    },
    {
      "cell_type": "markdown",
      "source": [
        "Step 2: Compare ŷ \n",
        " with true y\n",
        " to calculate cost C"
      ],
      "metadata": {
        "id": "vvbv7jc1Vusu"
      }
    },
    {
      "cell_type": "code",
      "source": [
        "def mse(my_yhat,my_y):\n",
        "  sigma = torch.sum((my_yhat - my_y)**2)\n",
        "  return (sigma/len(my_y))"
      ],
      "metadata": {
        "id": "WsXG8tk02RoM"
      },
      "execution_count": 60,
      "outputs": []
    },
    {
      "cell_type": "code",
      "source": [
        "C = mse(yhat,y)\n",
        "C"
      ],
      "metadata": {
        "colab": {
          "base_uri": "https://localhost:8080/"
        },
        "id": "OJ2Q-9Mw26YM",
        "outputId": "17a9b570-c02d-4e17-fd0e-4e2ffeb818f0"
      },
      "execution_count": 61,
      "outputs": [
        {
          "output_type": "execute_result",
          "data": {
            "text/plain": [
              "tensor(19.6755, grad_fn=<DivBackward0>)"
            ]
          },
          "metadata": {},
          "execution_count": 61
        }
      ]
    },
    {
      "cell_type": "markdown",
      "source": [
        "**Step 3**: Use autodiff to calculate gradient of C\n",
        " w.r.t. parameters"
      ],
      "metadata": {
        "id": "FDQs1PU93FI0"
      }
    },
    {
      "cell_type": "code",
      "source": [
        "C.backward()"
      ],
      "metadata": {
        "id": "uPxvwEfw3Kl6"
      },
      "execution_count": 48,
      "outputs": []
    },
    {
      "cell_type": "code",
      "source": [
        "m.grad"
      ],
      "metadata": {
        "colab": {
          "base_uri": "https://localhost:8080/"
        },
        "id": "cCZmvIrDA_H1",
        "outputId": "49061813-7cf1-43cc-f74f-4d4313923ec7"
      },
      "execution_count": 49,
      "outputs": [
        {
          "output_type": "execute_result",
          "data": {
            "text/plain": [
              "tensor([36.3050])"
            ]
          },
          "metadata": {},
          "execution_count": 49
        }
      ]
    },
    {
      "cell_type": "markdown",
      "source": [
        "**Step 4**: Gradient descent"
      ],
      "metadata": {
        "id": "87FSl0v6BCHg"
      }
    },
    {
      "cell_type": "code",
      "source": [
        "optimizer = torch.optim.SGD([m,b],lr=0.01)"
      ],
      "metadata": {
        "id": "pSF4nOrwDO1b"
      },
      "execution_count": 50,
      "outputs": []
    },
    {
      "cell_type": "code",
      "source": [
        "optimizer.step()"
      ],
      "metadata": {
        "id": "gt8b2pV5Dlg5"
      },
      "execution_count": 51,
      "outputs": []
    },
    {
      "cell_type": "markdown",
      "source": [
        "Confirm parameters have been adjusted sensibly:"
      ],
      "metadata": {
        "id": "kEsrMlO3DsjY"
      }
    },
    {
      "cell_type": "code",
      "source": [
        "m"
      ],
      "metadata": {
        "colab": {
          "base_uri": "https://localhost:8080/"
        },
        "id": "sZw0WQtmDvJB",
        "outputId": "f331c6c1-c3ea-4da6-8164-91da5215aedb"
      },
      "execution_count": 52,
      "outputs": [
        {
          "output_type": "execute_result",
          "data": {
            "text/plain": [
              "tensor([0.5369], requires_grad=True)"
            ]
          },
          "metadata": {},
          "execution_count": 52
        }
      ]
    },
    {
      "cell_type": "code",
      "source": [
        "b"
      ],
      "metadata": {
        "colab": {
          "base_uri": "https://localhost:8080/"
        },
        "id": "DjpjwkNjDwUQ",
        "outputId": "ea0adda8-8715-4931-b0f3-3d2a4d9b4057"
      },
      "execution_count": 53,
      "outputs": [
        {
          "output_type": "execute_result",
          "data": {
            "text/plain": [
              "tensor([0.0374], requires_grad=True)"
            ]
          },
          "metadata": {},
          "execution_count": 53
        }
      ]
    },
    {
      "cell_type": "code",
      "source": [
        "regression_plot(x,y,m,b)"
      ],
      "metadata": {
        "colab": {
          "base_uri": "https://localhost:8080/",
          "height": 265
        },
        "id": "tb4t-3DpDy0-",
        "outputId": "7530a9f3-0d18-49dc-cc5c-7b35a75aef2c"
      },
      "execution_count": 57,
      "outputs": [
        {
          "output_type": "display_data",
          "data": {
            "text/plain": [
              "<Figure size 432x288 with 1 Axes>"
            ],
            "image/png": "[encoded data removed]"
          },
          "metadata": {
            "needs_background": "light"
          }
        }
      ]
    },
    {
      "cell_type": "code",
      "source": [
        "C = mse(regression(x, m, b), y)\n",
        "C"
      ],
      "metadata": {
        "colab": {
          "base_uri": "https://localhost:8080/"
        },
        "id": "33v4QTrqEJGg",
        "outputId": "9804d0a1-3753-47df-ae15-be0a9088e916"
      },
      "execution_count": 62,
      "outputs": [
        {
          "output_type": "execute_result",
          "data": {
            "text/plain": [
              "tensor(8.5722, grad_fn=<DivBackward0>)"
            ]
          },
          "metadata": {},
          "execution_count": 62
        }
      ]
    },
    {
      "cell_type": "markdown",
      "source": [
        "Put the 4 steps in a loop to iteratively minimize cost toward zero:"
      ],
      "metadata": {
        "id": "U7tzbAm3EoAP"
      }
    },
    {
      "cell_type": "code",
      "source": [
        "epochs = 1000\n",
        "for epoch in range (epochs):\n",
        "  optimizer.zero_grad()\n",
        "  \n",
        "  yhat = regression(x,m,b) #step 1\n",
        "  C = mse(yhat,y) #step 2\n",
        "  C.backward() #step 3\n",
        "  optimizer.step() #step 4\n",
        "\n",
        "  print ('Epoch {}, Cost {}, m grad {}, b grad {}'.format(epoch, '%.3g' % C.item(),'%.3g' % m.grad.item(),'%.3g'% b.grad.item()))"
      ],
      "metadata": {
        "colab": {
          "base_uri": "https://localhost:8080/"
        },
        "id": "73_jG4DcEsAW",
        "outputId": "1d981385-689c-40e9-c4d9-77bc5d99968e"
      },
      "execution_count": 64,
      "outputs": [
        {
          "output_type": "stream",
          "name": "stdout",
          "text": [
            "Epoch 0, Cost 0.0195, m grad 0.000668, b grad -0.00329\n",
            "Epoch 1, Cost 0.0195, m grad 0.000665, b grad -0.00327\n",
            "Epoch 2, Cost 0.0195, m grad 0.000661, b grad -0.00325\n",
            "Epoch 3, Cost 0.0195, m grad 0.000658, b grad -0.00323\n",
            "Epoch 4, Cost 0.0195, m grad 0.000653, b grad -0.00321\n",
            "Epoch 5, Cost 0.0195, m grad 0.00065, b grad -0.00319\n",
            "Epoch 6, Cost 0.0195, m grad 0.000646, b grad -0.00318\n",
            "Epoch 7, Cost 0.0195, m grad 0.000642, b grad -0.00316\n",
            "Epoch 8, Cost 0.0195, m grad 0.000639, b grad -0.00314\n",
            "Epoch 9, Cost 0.0195, m grad 0.000635, b grad -0.00312\n",
            "Epoch 10, Cost 0.0195, m grad 0.000631, b grad -0.0031\n",
            "Epoch 11, Cost 0.0195, m grad 0.000628, b grad -0.00309\n",
            "Epoch 12, Cost 0.0195, m grad 0.000623, b grad -0.00307\n",
            "Epoch 13, Cost 0.0195, m grad 0.00062, b grad -0.00305\n",
            "Epoch 14, Cost 0.0195, m grad 0.000616, b grad -0.00303\n",
            "Epoch 15, Cost 0.0195, m grad 0.000612, b grad -0.00302\n",
            "Epoch 16, Cost 0.0195, m grad 0.00061, b grad -0.003\n",
            "Epoch 17, Cost 0.0195, m grad 0.000605, b grad -0.00298\n",
            "Epoch 18, Cost 0.0195, m grad 0.000603, b grad -0.00296\n",
            "Epoch 19, Cost 0.0195, m grad 0.000599, b grad -0.00295\n",
            "Epoch 20, Cost 0.0195, m grad 0.000596, b grad -0.00293\n",
            "Epoch 21, Cost 0.0195, m grad 0.000592, b grad -0.00291\n",
            "Epoch 22, Cost 0.0195, m grad 0.000588, b grad -0.0029\n",
            "Epoch 23, Cost 0.0195, m grad 0.000586, b grad -0.00288\n",
            "Epoch 24, Cost 0.0195, m grad 0.000582, b grad -0.00286\n",
            "Epoch 25, Cost 0.0195, m grad 0.000579, b grad -0.00285\n",
            "Epoch 26, Cost 0.0195, m grad 0.000576, b grad -0.00283\n",
            "Epoch 27, Cost 0.0195, m grad 0.000572, b grad -0.00281\n",
            "Epoch 28, Cost 0.0195, m grad 0.000569, b grad -0.0028\n",
            "Epoch 29, Cost 0.0195, m grad 0.000566, b grad -0.00278\n",
            "Epoch 30, Cost 0.0195, m grad 0.000563, b grad -0.00276\n",
            "Epoch 31, Cost 0.0195, m grad 0.000559, b grad -0.00275\n",
            "Epoch 32, Cost 0.0195, m grad 0.000557, b grad -0.00273\n",
            "Epoch 33, Cost 0.0195, m grad 0.000552, b grad -0.00272\n",
            "Epoch 34, Cost 0.0195, m grad 0.00055, b grad -0.0027\n",
            "Epoch 35, Cost 0.0195, m grad 0.000547, b grad -0.00269\n",
            "Epoch 36, Cost 0.0195, m grad 0.000543, b grad -0.00267\n",
            "Epoch 37, Cost 0.0195, m grad 0.00054, b grad -0.00266\n",
            "Epoch 38, Cost 0.0195, m grad 0.000538, b grad -0.00264\n",
            "Epoch 39, Cost 0.0195, m grad 0.000534, b grad -0.00262\n",
            "Epoch 40, Cost 0.0195, m grad 0.000531, b grad -0.00261\n",
            "Epoch 41, Cost 0.0195, m grad 0.000528, b grad -0.00259\n",
            "Epoch 42, Cost 0.0195, m grad 0.000526, b grad -0.00258\n",
            "Epoch 43, Cost 0.0195, m grad 0.000522, b grad -0.00256\n",
            "Epoch 44, Cost 0.0195, m grad 0.000519, b grad -0.00255\n",
            "Epoch 45, Cost 0.0195, m grad 0.000516, b grad -0.00254\n",
            "Epoch 46, Cost 0.0195, m grad 0.000513, b grad -0.00252\n",
            "Epoch 47, Cost 0.0195, m grad 0.00051, b grad -0.00251\n",
            "Epoch 48, Cost 0.0195, m grad 0.000507, b grad -0.00249\n",
            "Epoch 49, Cost 0.0195, m grad 0.000504, b grad -0.00248\n",
            "Epoch 50, Cost 0.0195, m grad 0.000501, b grad -0.00246\n",
            "Epoch 51, Cost 0.0195, m grad 0.000499, b grad -0.00245\n",
            "Epoch 52, Cost 0.0195, m grad 0.000495, b grad -0.00243\n",
            "Epoch 53, Cost 0.0195, m grad 0.000493, b grad -0.00242\n",
            "Epoch 54, Cost 0.0195, m grad 0.00049, b grad -0.00241\n",
            "Epoch 55, Cost 0.0195, m grad 0.000487, b grad -0.00239\n",
            "Epoch 56, Cost 0.0195, m grad 0.000485, b grad -0.00238\n",
            "Epoch 57, Cost 0.0195, m grad 0.000482, b grad -0.00236\n",
            "Epoch 58, Cost 0.0195, m grad 0.000478, b grad -0.00235\n",
            "Epoch 59, Cost 0.0195, m grad 0.000476, b grad -0.00234\n",
            "Epoch 60, Cost 0.0195, m grad 0.000472, b grad -0.00232\n",
            "Epoch 61, Cost 0.0195, m grad 0.000471, b grad -0.00231\n",
            "Epoch 62, Cost 0.0195, m grad 0.000468, b grad -0.0023\n",
            "Epoch 63, Cost 0.0195, m grad 0.000465, b grad -0.00228\n",
            "Epoch 64, Cost 0.0195, m grad 0.000463, b grad -0.00227\n",
            "Epoch 65, Cost 0.0195, m grad 0.00046, b grad -0.00226\n",
            "Epoch 66, Cost 0.0195, m grad 0.000457, b grad -0.00225\n",
            "Epoch 67, Cost 0.0195, m grad 0.000454, b grad -0.00223\n",
            "Epoch 68, Cost 0.0195, m grad 0.000452, b grad -0.00222\n",
            "Epoch 69, Cost 0.0195, m grad 0.000448, b grad -0.00221\n",
            "Epoch 70, Cost 0.0195, m grad 0.000446, b grad -0.00219\n",
            "Epoch 71, Cost 0.0195, m grad 0.000443, b grad -0.00218\n",
            "Epoch 72, Cost 0.0195, m grad 0.000441, b grad -0.00217\n",
            "Epoch 73, Cost 0.0195, m grad 0.000438, b grad -0.00216\n",
            "Epoch 74, Cost 0.0195, m grad 0.000436, b grad -0.00214\n",
            "Epoch 75, Cost 0.0195, m grad 0.000434, b grad -0.00213\n",
            "Epoch 76, Cost 0.0195, m grad 0.000431, b grad -0.00212\n",
            "Epoch 77, Cost 0.0195, m grad 0.000428, b grad -0.00211\n",
            "Epoch 78, Cost 0.0195, m grad 0.000425, b grad -0.00209\n",
            "Epoch 79, Cost 0.0195, m grad 0.000423, b grad -0.00208\n",
            "Epoch 80, Cost 0.0195, m grad 0.000422, b grad -0.00207\n",
            "Epoch 81, Cost 0.0195, m grad 0.000419, b grad -0.00206\n",
            "Epoch 82, Cost 0.0195, m grad 0.000417, b grad -0.00205\n",
            "Epoch 83, Cost 0.0195, m grad 0.000414, b grad -0.00203\n",
            "Epoch 84, Cost 0.0195, m grad 0.000412, b grad -0.00202\n",
            "Epoch 85, Cost 0.0195, m grad 0.00041, b grad -0.00201\n",
            "Epoch 86, Cost 0.0195, m grad 0.000408, b grad -0.002\n",
            "Epoch 87, Cost 0.0195, m grad 0.000405, b grad -0.00199\n",
            "Epoch 88, Cost 0.0195, m grad 0.000403, b grad -0.00198\n",
            "Epoch 89, Cost 0.0195, m grad 0.0004, b grad -0.00197\n",
            "Epoch 90, Cost 0.0195, m grad 0.000398, b grad -0.00195\n",
            "Epoch 91, Cost 0.0195, m grad 0.000396, b grad -0.00194\n",
            "Epoch 92, Cost 0.0195, m grad 0.000393, b grad -0.00193\n",
            "Epoch 93, Cost 0.0195, m grad 0.000391, b grad -0.00192\n",
            "Epoch 94, Cost 0.0195, m grad 0.000388, b grad -0.00191\n",
            "Epoch 95, Cost 0.0195, m grad 0.000386, b grad -0.0019\n",
            "Epoch 96, Cost 0.0195, m grad 0.000384, b grad -0.00189\n",
            "Epoch 97, Cost 0.0195, m grad 0.000382, b grad -0.00188\n",
            "Epoch 98, Cost 0.0195, m grad 0.000379, b grad -0.00187\n",
            "Epoch 99, Cost 0.0195, m grad 0.000377, b grad -0.00186\n",
            "Epoch 100, Cost 0.0195, m grad 0.000375, b grad -0.00184\n",
            "Epoch 101, Cost 0.0195, m grad 0.000373, b grad -0.00183\n",
            "Epoch 102, Cost 0.0195, m grad 0.000371, b grad -0.00182\n",
            "Epoch 103, Cost 0.0195, m grad 0.000368, b grad -0.00181\n",
            "Epoch 104, Cost 0.0195, m grad 0.000366, b grad -0.0018\n",
            "Epoch 105, Cost 0.0195, m grad 0.000363, b grad -0.00179\n",
            "Epoch 106, Cost 0.0195, m grad 0.000362, b grad -0.00178\n",
            "Epoch 107, Cost 0.0195, m grad 0.00036, b grad -0.00177\n",
            "Epoch 108, Cost 0.0195, m grad 0.000358, b grad -0.00176\n",
            "Epoch 109, Cost 0.0195, m grad 0.000356, b grad -0.00175\n",
            "Epoch 110, Cost 0.0195, m grad 0.000354, b grad -0.00174\n",
            "Epoch 111, Cost 0.0195, m grad 0.000352, b grad -0.00173\n",
            "Epoch 112, Cost 0.0195, m grad 0.000349, b grad -0.00172\n",
            "Epoch 113, Cost 0.0195, m grad 0.000347, b grad -0.00171\n",
            "Epoch 114, Cost 0.0195, m grad 0.000347, b grad -0.0017\n",
            "Epoch 115, Cost 0.0195, m grad 0.000345, b grad -0.00169\n",
            "Epoch 116, Cost 0.0195, m grad 0.000342, b grad -0.00168\n",
            "Epoch 117, Cost 0.0195, m grad 0.00034, b grad -0.00167\n",
            "Epoch 118, Cost 0.0195, m grad 0.000338, b grad -0.00166\n",
            "Epoch 119, Cost 0.0195, m grad 0.000336, b grad -0.00165\n",
            "Epoch 120, Cost 0.0195, m grad 0.000334, b grad -0.00164\n",
            "Epoch 121, Cost 0.0195, m grad 0.000332, b grad -0.00163\n",
            "Epoch 122, Cost 0.0195, m grad 0.00033, b grad -0.00162\n",
            "Epoch 123, Cost 0.0195, m grad 0.000328, b grad -0.00161\n",
            "Epoch 124, Cost 0.0195, m grad 0.000325, b grad -0.00161\n",
            "Epoch 125, Cost 0.0195, m grad 0.000325, b grad -0.0016\n",
            "Epoch 126, Cost 0.0195, m grad 0.000323, b grad -0.00159\n",
            "Epoch 127, Cost 0.0195, m grad 0.000321, b grad -0.00158\n",
            "Epoch 128, Cost 0.0195, m grad 0.000318, b grad -0.00157\n",
            "Epoch 129, Cost 0.0195, m grad 0.000317, b grad -0.00156\n",
            "Epoch 130, Cost 0.0195, m grad 0.000316, b grad -0.00155\n",
            "Epoch 131, Cost 0.0195, m grad 0.000313, b grad -0.00154\n",
            "Epoch 132, Cost 0.0195, m grad 0.000312, b grad -0.00153\n",
            "Epoch 133, Cost 0.0195, m grad 0.00031, b grad -0.00152\n",
            "Epoch 134, Cost 0.0195, m grad 0.000308, b grad -0.00152\n",
            "Epoch 135, Cost 0.0195, m grad 0.000307, b grad -0.00151\n",
            "Epoch 136, Cost 0.0195, m grad 0.000304, b grad -0.0015\n",
            "Epoch 137, Cost 0.0195, m grad 0.000303, b grad -0.00149\n",
            "Epoch 138, Cost 0.0195, m grad 0.000301, b grad -0.00148\n",
            "Epoch 139, Cost 0.0195, m grad 0.000299, b grad -0.00147\n",
            "Epoch 140, Cost 0.0195, m grad 0.000298, b grad -0.00146\n",
            "Epoch 141, Cost 0.0195, m grad 0.000296, b grad -0.00146\n",
            "Epoch 142, Cost 0.0195, m grad 0.000295, b grad -0.00145\n",
            "Epoch 143, Cost 0.0195, m grad 0.000292, b grad -0.00144\n",
            "Epoch 144, Cost 0.0195, m grad 0.000291, b grad -0.00143\n",
            "Epoch 145, Cost 0.0195, m grad 0.000289, b grad -0.00142\n",
            "Epoch 146, Cost 0.0195, m grad 0.000287, b grad -0.00141\n",
            "Epoch 147, Cost 0.0195, m grad 0.000286, b grad -0.00141\n",
            "Epoch 148, Cost 0.0195, m grad 0.000285, b grad -0.0014\n",
            "Epoch 149, Cost 0.0195, m grad 0.000282, b grad -0.00139\n",
            "Epoch 150, Cost 0.0195, m grad 0.000281, b grad -0.00138\n",
            "Epoch 151, Cost 0.0195, m grad 0.000279, b grad -0.00137\n",
            "Epoch 152, Cost 0.0195, m grad 0.000277, b grad -0.00137\n",
            "Epoch 153, Cost 0.0195, m grad 0.000276, b grad -0.00136\n",
            "Epoch 154, Cost 0.0195, m grad 0.000274, b grad -0.00135\n",
            "Epoch 155, Cost 0.0195, m grad 0.000273, b grad -0.00134\n",
            "Epoch 156, Cost 0.0195, m grad 0.000271, b grad -0.00133\n",
            "Epoch 157, Cost 0.0195, m grad 0.00027, b grad -0.00133\n",
            "Epoch 158, Cost 0.0195, m grad 0.000267, b grad -0.00132\n",
            "Epoch 159, Cost 0.0195, m grad 0.000266, b grad -0.00131\n",
            "Epoch 160, Cost 0.0195, m grad 0.000265, b grad -0.0013\n",
            "Epoch 161, Cost 0.0195, m grad 0.000263, b grad -0.0013\n",
            "Epoch 162, Cost 0.0195, m grad 0.000262, b grad -0.00129\n",
            "Epoch 163, Cost 0.0195, m grad 0.000261, b grad -0.00128\n",
            "Epoch 164, Cost 0.0195, m grad 0.000259, b grad -0.00127\n",
            "Epoch 165, Cost 0.0195, m grad 0.000258, b grad -0.00127\n",
            "Epoch 166, Cost 0.0195, m grad 0.000256, b grad -0.00126\n",
            "Epoch 167, Cost 0.0195, m grad 0.000255, b grad -0.00125\n",
            "Epoch 168, Cost 0.0195, m grad 0.000253, b grad -0.00124\n",
            "Epoch 169, Cost 0.0195, m grad 0.000251, b grad -0.00124\n",
            "Epoch 170, Cost 0.0195, m grad 0.000251, b grad -0.00123\n",
            "Epoch 171, Cost 0.0195, m grad 0.000248, b grad -0.00122\n",
            "Epoch 172, Cost 0.0195, m grad 0.000248, b grad -0.00122\n",
            "Epoch 173, Cost 0.0195, m grad 0.000247, b grad -0.00121\n",
            "Epoch 174, Cost 0.0195, m grad 0.000244, b grad -0.0012\n",
            "Epoch 175, Cost 0.0195, m grad 0.000243, b grad -0.0012\n",
            "Epoch 176, Cost 0.0195, m grad 0.000241, b grad -0.00119\n",
            "Epoch 177, Cost 0.0195, m grad 0.00024, b grad -0.00118\n",
            "Epoch 178, Cost 0.0195, m grad 0.000239, b grad -0.00117\n",
            "Epoch 179, Cost 0.0195, m grad 0.000238, b grad -0.00117\n",
            "Epoch 180, Cost 0.0195, m grad 0.000237, b grad -0.00116\n",
            "Epoch 181, Cost 0.0195, m grad 0.000235, b grad -0.00115\n",
            "Epoch 182, Cost 0.0195, m grad 0.000234, b grad -0.00115\n",
            "Epoch 183, Cost 0.0195, m grad 0.000232, b grad -0.00114\n",
            "Epoch 184, Cost 0.0195, m grad 0.000231, b grad -0.00113\n",
            "Epoch 185, Cost 0.0195, m grad 0.00023, b grad -0.00113\n",
            "Epoch 186, Cost 0.0195, m grad 0.000229, b grad -0.00112\n",
            "Epoch 187, Cost 0.0195, m grad 0.000227, b grad -0.00112\n",
            "Epoch 188, Cost 0.0195, m grad 0.000226, b grad -0.00111\n",
            "Epoch 189, Cost 0.0195, m grad 0.000224, b grad -0.0011\n",
            "Epoch 190, Cost 0.0195, m grad 0.000223, b grad -0.0011\n",
            "Epoch 191, Cost 0.0195, m grad 0.000222, b grad -0.00109\n",
            "Epoch 192, Cost 0.0195, m grad 0.00022, b grad -0.00108\n",
            "Epoch 193, Cost 0.0195, m grad 0.000219, b grad -0.00108\n",
            "Epoch 194, Cost 0.0195, m grad 0.000217, b grad -0.00107\n",
            "Epoch 195, Cost 0.0195, m grad 0.000216, b grad -0.00106\n",
            "Epoch 196, Cost 0.0195, m grad 0.000214, b grad -0.00106\n",
            "Epoch 197, Cost 0.0195, m grad 0.000214, b grad -0.00105\n",
            "Epoch 198, Cost 0.0195, m grad 0.000212, b grad -0.00105\n",
            "Epoch 199, Cost 0.0195, m grad 0.000211, b grad -0.00104\n",
            "Epoch 200, Cost 0.0195, m grad 0.00021, b grad -0.00103\n",
            "Epoch 201, Cost 0.0195, m grad 0.000209, b grad -0.00103\n",
            "Epoch 202, Cost 0.0195, m grad 0.000208, b grad -0.00102\n",
            "Epoch 203, Cost 0.0195, m grad 0.000207, b grad -0.00102\n",
            "Epoch 204, Cost 0.0195, m grad 0.000206, b grad -0.00101\n",
            "Epoch 205, Cost 0.0195, m grad 0.000204, b grad -0.00101\n",
            "Epoch 206, Cost 0.0195, m grad 0.000203, b grad -0.000999\n",
            "Epoch 207, Cost 0.0195, m grad 0.000202, b grad -0.000994\n",
            "Epoch 208, Cost 0.0195, m grad 0.0002, b grad -0.000988\n",
            "Epoch 209, Cost 0.0195, m grad 0.000199, b grad -0.000982\n",
            "Epoch 210, Cost 0.0195, m grad 0.000198, b grad -0.000977\n",
            "Epoch 211, Cost 0.0195, m grad 0.000198, b grad -0.000971\n",
            "Epoch 212, Cost 0.0195, m grad 0.000196, b grad -0.000965\n",
            "Epoch 213, Cost 0.0195, m grad 0.000195, b grad -0.00096\n",
            "Epoch 214, Cost 0.0195, m grad 0.000195, b grad -0.000954\n",
            "Epoch 215, Cost 0.0195, m grad 0.000194, b grad -0.000948\n",
            "Epoch 216, Cost 0.0195, m grad 0.000193, b grad -0.000943\n",
            "Epoch 217, Cost 0.0195, m grad 0.000191, b grad -0.000938\n",
            "Epoch 218, Cost 0.0195, m grad 0.00019, b grad -0.000932\n",
            "Epoch 219, Cost 0.0195, m grad 0.000189, b grad -0.000927\n",
            "Epoch 220, Cost 0.0195, m grad 0.000188, b grad -0.000921\n",
            "Epoch 221, Cost 0.0195, m grad 0.000187, b grad -0.000916\n",
            "Epoch 222, Cost 0.0195, m grad 0.000185, b grad -0.000911\n",
            "Epoch 223, Cost 0.0195, m grad 0.000183, b grad -0.000906\n",
            "Epoch 224, Cost 0.0195, m grad 0.000183, b grad -0.000901\n",
            "Epoch 225, Cost 0.0195, m grad 0.000182, b grad -0.000895\n",
            "Epoch 226, Cost 0.0195, m grad 0.000181, b grad -0.00089\n",
            "Epoch 227, Cost 0.0195, m grad 0.00018, b grad -0.000885\n",
            "Epoch 228, Cost 0.0195, m grad 0.000178, b grad -0.00088\n",
            "Epoch 229, Cost 0.0195, m grad 0.000178, b grad -0.000875\n",
            "Epoch 230, Cost 0.0195, m grad 0.000176, b grad -0.00087\n",
            "Epoch 231, Cost 0.0195, m grad 0.000175, b grad -0.000865\n",
            "Epoch 232, Cost 0.0195, m grad 0.000174, b grad -0.00086\n",
            "Epoch 233, Cost 0.0195, m grad 0.000174, b grad -0.000855\n",
            "Epoch 234, Cost 0.0195, m grad 0.000174, b grad -0.00085\n",
            "Epoch 235, Cost 0.0195, m grad 0.000173, b grad -0.000845\n",
            "Epoch 236, Cost 0.0195, m grad 0.000171, b grad -0.00084\n",
            "Epoch 237, Cost 0.0195, m grad 0.00017, b grad -0.000835\n",
            "Epoch 238, Cost 0.0195, m grad 0.000169, b grad -0.00083\n",
            "Epoch 239, Cost 0.0195, m grad 0.000168, b grad -0.000826\n",
            "Epoch 240, Cost 0.0195, m grad 0.000167, b grad -0.000821\n",
            "Epoch 241, Cost 0.0195, m grad 0.000167, b grad -0.000816\n",
            "Epoch 242, Cost 0.0195, m grad 0.000165, b grad -0.000812\n",
            "Epoch 243, Cost 0.0195, m grad 0.000164, b grad -0.000807\n",
            "Epoch 244, Cost 0.0195, m grad 0.000163, b grad -0.000802\n",
            "Epoch 245, Cost 0.0195, m grad 0.000162, b grad -0.000798\n",
            "Epoch 246, Cost 0.0195, m grad 0.000162, b grad -0.000793\n",
            "Epoch 247, Cost 0.0195, m grad 0.000161, b grad -0.000788\n",
            "Epoch 248, Cost 0.0195, m grad 0.00016, b grad -0.000784\n",
            "Epoch 249, Cost 0.0195, m grad 0.000158, b grad -0.000779\n",
            "Epoch 250, Cost 0.0195, m grad 0.000158, b grad -0.000775\n",
            "Epoch 251, Cost 0.0195, m grad 0.000157, b grad -0.00077\n",
            "Epoch 252, Cost 0.0195, m grad 0.000156, b grad -0.000766\n",
            "Epoch 253, Cost 0.0195, m grad 0.000155, b grad -0.000761\n",
            "Epoch 254, Cost 0.0195, m grad 0.000154, b grad -0.000757\n",
            "Epoch 255, Cost 0.0195, m grad 0.000153, b grad -0.000753\n",
            "Epoch 256, Cost 0.0195, m grad 0.000153, b grad -0.000748\n",
            "Epoch 257, Cost 0.0195, m grad 0.000152, b grad -0.000744\n",
            "Epoch 258, Cost 0.0195, m grad 0.00015, b grad -0.00074\n",
            "Epoch 259, Cost 0.0195, m grad 0.00015, b grad -0.000735\n",
            "Epoch 260, Cost 0.0195, m grad 0.000149, b grad -0.000731\n",
            "Epoch 261, Cost 0.0195, m grad 0.000148, b grad -0.000727\n",
            "Epoch 262, Cost 0.0195, m grad 0.000147, b grad -0.000723\n",
            "Epoch 263, Cost 0.0195, m grad 0.000147, b grad -0.000718\n",
            "Epoch 264, Cost 0.0195, m grad 0.000146, b grad -0.000714\n",
            "Epoch 265, Cost 0.0195, m grad 0.000145, b grad -0.00071\n",
            "Epoch 266, Cost 0.0195, m grad 0.000143, b grad -0.000706\n",
            "Epoch 267, Cost 0.0195, m grad 0.000143, b grad -0.000702\n",
            "Epoch 268, Cost 0.0195, m grad 0.000142, b grad -0.000698\n",
            "Epoch 269, Cost 0.0195, m grad 0.000141, b grad -0.000694\n",
            "Epoch 270, Cost 0.0195, m grad 0.000141, b grad -0.00069\n",
            "Epoch 271, Cost 0.0195, m grad 0.00014, b grad -0.000686\n",
            "Epoch 272, Cost 0.0195, m grad 0.00014, b grad -0.000682\n",
            "Epoch 273, Cost 0.0195, m grad 0.000138, b grad -0.000678\n",
            "Epoch 274, Cost 0.0195, m grad 0.000137, b grad -0.000674\n",
            "Epoch 275, Cost 0.0195, m grad 0.000137, b grad -0.00067\n",
            "Epoch 276, Cost 0.0195, m grad 0.000136, b grad -0.000666\n",
            "Epoch 277, Cost 0.0195, m grad 0.000135, b grad -0.000663\n",
            "Epoch 278, Cost 0.0195, m grad 0.000134, b grad -0.000659\n",
            "Epoch 279, Cost 0.0195, m grad 0.000134, b grad -0.000655\n",
            "Epoch 280, Cost 0.0195, m grad 0.000132, b grad -0.000651\n",
            "Epoch 281, Cost 0.0195, m grad 0.000132, b grad -0.000647\n",
            "Epoch 282, Cost 0.0195, m grad 0.000131, b grad -0.000644\n",
            "Epoch 283, Cost 0.0195, m grad 0.000131, b grad -0.00064\n",
            "Epoch 284, Cost 0.0195, m grad 0.00013, b grad -0.000636\n",
            "Epoch 285, Cost 0.0195, m grad 0.000128, b grad -0.000633\n",
            "Epoch 286, Cost 0.0195, m grad 0.000127, b grad -0.000629\n",
            "Epoch 287, Cost 0.0195, m grad 0.000127, b grad -0.000625\n",
            "Epoch 288, Cost 0.0195, m grad 0.000125, b grad -0.000622\n",
            "Epoch 289, Cost 0.0195, m grad 0.000125, b grad -0.000618\n",
            "Epoch 290, Cost 0.0195, m grad 0.000125, b grad -0.000615\n",
            "Epoch 291, Cost 0.0195, m grad 0.000124, b grad -0.000611\n",
            "Epoch 292, Cost 0.0195, m grad 0.000123, b grad -0.000608\n",
            "Epoch 293, Cost 0.0195, m grad 0.000122, b grad -0.000604\n",
            "Epoch 294, Cost 0.0195, m grad 0.000122, b grad -0.000601\n",
            "Epoch 295, Cost 0.0195, m grad 0.000121, b grad -0.000597\n",
            "Epoch 296, Cost 0.0195, m grad 0.00012, b grad -0.000594\n",
            "Epoch 297, Cost 0.0195, m grad 0.00012, b grad -0.00059\n",
            "Epoch 298, Cost 0.0195, m grad 0.00012, b grad -0.000587\n",
            "Epoch 299, Cost 0.0195, m grad 0.00012, b grad -0.000583\n",
            "Epoch 300, Cost 0.0195, m grad 0.000119, b grad -0.00058\n",
            "Epoch 301, Cost 0.0195, m grad 0.000118, b grad -0.000577\n",
            "Epoch 302, Cost 0.0195, m grad 0.000116, b grad -0.000574\n",
            "Epoch 303, Cost 0.0195, m grad 0.000116, b grad -0.00057\n",
            "Epoch 304, Cost 0.0195, m grad 0.000115, b grad -0.000567\n",
            "Epoch 305, Cost 0.0195, m grad 0.000114, b grad -0.000564\n",
            "Epoch 306, Cost 0.0195, m grad 0.000114, b grad -0.00056\n",
            "Epoch 307, Cost 0.0195, m grad 0.000114, b grad -0.000557\n",
            "Epoch 308, Cost 0.0195, m grad 0.000113, b grad -0.000554\n",
            "Epoch 309, Cost 0.0195, m grad 0.000112, b grad -0.000551\n",
            "Epoch 310, Cost 0.0195, m grad 0.000112, b grad -0.000547\n",
            "Epoch 311, Cost 0.0195, m grad 0.00011, b grad -0.000544\n",
            "Epoch 312, Cost 0.0195, m grad 0.00011, b grad -0.000541\n",
            "Epoch 313, Cost 0.0195, m grad 0.000109, b grad -0.000538\n",
            "Epoch 314, Cost 0.0195, m grad 0.000108, b grad -0.000535\n",
            "Epoch 315, Cost 0.0195, m grad 0.000108, b grad -0.000532\n",
            "Epoch 316, Cost 0.0195, m grad 0.000108, b grad -0.000529\n",
            "Epoch 317, Cost 0.0195, m grad 0.000107, b grad -0.000526\n",
            "Epoch 318, Cost 0.0195, m grad 0.000106, b grad -0.000523\n",
            "Epoch 319, Cost 0.0195, m grad 0.000106, b grad -0.00052\n",
            "Epoch 320, Cost 0.0195, m grad 0.000106, b grad -0.000517\n",
            "Epoch 321, Cost 0.0195, m grad 0.000105, b grad -0.000514\n",
            "Epoch 322, Cost 0.0195, m grad 0.000104, b grad -0.000511\n",
            "Epoch 323, Cost 0.0195, m grad 0.000104, b grad -0.000508\n",
            "Epoch 324, Cost 0.0195, m grad 0.000104, b grad -0.000505\n",
            "Epoch 325, Cost 0.0195, m grad 0.000102, b grad -0.000502\n",
            "Epoch 326, Cost 0.0195, m grad 0.000101, b grad -0.000499\n",
            "Epoch 327, Cost 0.0195, m grad 0.000101, b grad -0.000496\n",
            "Epoch 328, Cost 0.0195, m grad 0.000101, b grad -0.000493\n",
            "Epoch 329, Cost 0.0195, m grad 9.9e-05, b grad -0.000491\n",
            "Epoch 330, Cost 0.0195, m grad 9.9e-05, b grad -0.000488\n",
            "Epoch 331, Cost 0.0195, m grad 9.89e-05, b grad -0.000485\n",
            "Epoch 332, Cost 0.0195, m grad 9.87e-05, b grad -0.000482\n",
            "Epoch 333, Cost 0.0195, m grad 9.79e-05, b grad -0.000479\n",
            "Epoch 334, Cost 0.0195, m grad 9.68e-05, b grad -0.000477\n",
            "Epoch 335, Cost 0.0195, m grad 9.68e-05, b grad -0.000474\n",
            "Epoch 336, Cost 0.0195, m grad 9.68e-05, b grad -0.000471\n",
            "Epoch 337, Cost 0.0195, m grad 9.68e-05, b grad -0.000468\n",
            "Epoch 338, Cost 0.0195, m grad 9.6e-05, b grad -0.000465\n",
            "Epoch 339, Cost 0.0195, m grad 9.52e-05, b grad -0.000463\n",
            "Epoch 340, Cost 0.0195, m grad 9.43e-05, b grad -0.00046\n",
            "Epoch 341, Cost 0.0195, m grad 9.35e-05, b grad -0.000458\n",
            "Epoch 342, Cost 0.0195, m grad 9.29e-05, b grad -0.000455\n",
            "Epoch 343, Cost 0.0195, m grad 9.21e-05, b grad -0.000452\n",
            "Epoch 344, Cost 0.0195, m grad 9.14e-05, b grad -0.00045\n",
            "Epoch 345, Cost 0.0195, m grad 9.06e-05, b grad -0.000447\n",
            "Epoch 346, Cost 0.0195, m grad 9.09e-05, b grad -0.000445\n",
            "Epoch 347, Cost 0.0195, m grad 9.1e-05, b grad -0.000442\n",
            "Epoch 348, Cost 0.0195, m grad 8.95e-05, b grad -0.000439\n",
            "Epoch 349, Cost 0.0195, m grad 8.88e-05, b grad -0.000437\n",
            "Epoch 350, Cost 0.0195, m grad 8.82e-05, b grad -0.000434\n",
            "Epoch 351, Cost 0.0195, m grad 8.72e-05, b grad -0.000432\n",
            "Epoch 352, Cost 0.0195, m grad 8.71e-05, b grad -0.00043\n",
            "Epoch 353, Cost 0.0195, m grad 8.65e-05, b grad -0.000427\n",
            "Epoch 354, Cost 0.0195, m grad 8.68e-05, b grad -0.000424\n",
            "Epoch 355, Cost 0.0195, m grad 8.63e-05, b grad -0.000422\n",
            "Epoch 356, Cost 0.0195, m grad 8.5e-05, b grad -0.00042\n",
            "Epoch 357, Cost 0.0195, m grad 8.45e-05, b grad -0.000417\n",
            "Epoch 358, Cost 0.0195, m grad 8.4e-05, b grad -0.000415\n",
            "Epoch 359, Cost 0.0195, m grad 8.45e-05, b grad -0.000412\n",
            "Epoch 360, Cost 0.0195, m grad 8.4e-05, b grad -0.00041\n",
            "Epoch 361, Cost 0.0195, m grad 8.37e-05, b grad -0.000408\n",
            "Epoch 362, Cost 0.0195, m grad 8.23e-05, b grad -0.000405\n",
            "Epoch 363, Cost 0.0195, m grad 8.2e-05, b grad -0.000403\n",
            "Epoch 364, Cost 0.0195, m grad 8.07e-05, b grad -0.000401\n",
            "Epoch 365, Cost 0.0195, m grad 8.12e-05, b grad -0.000398\n",
            "Epoch 366, Cost 0.0195, m grad 8.05e-05, b grad -0.000396\n",
            "Epoch 367, Cost 0.0195, m grad 7.98e-05, b grad -0.000394\n",
            "Epoch 368, Cost 0.0195, m grad 7.95e-05, b grad -0.000392\n",
            "Epoch 369, Cost 0.0195, m grad 7.84e-05, b grad -0.000389\n",
            "Epoch 370, Cost 0.0195, m grad 7.89e-05, b grad -0.000387\n",
            "Epoch 371, Cost 0.0195, m grad 7.87e-05, b grad -0.000385\n",
            "Epoch 372, Cost 0.0195, m grad 7.85e-05, b grad -0.000382\n",
            "Epoch 373, Cost 0.0195, m grad 7.75e-05, b grad -0.00038\n",
            "Epoch 374, Cost 0.0195, m grad 7.73e-05, b grad -0.000378\n",
            "Epoch 375, Cost 0.0195, m grad 7.7e-05, b grad -0.000376\n",
            "Epoch 376, Cost 0.0195, m grad 7.68e-05, b grad -0.000374\n",
            "Epoch 377, Cost 0.0195, m grad 7.5e-05, b grad -0.000372\n",
            "Epoch 378, Cost 0.0195, m grad 7.48e-05, b grad -0.00037\n",
            "Epoch 379, Cost 0.0195, m grad 7.48e-05, b grad -0.000367\n",
            "Epoch 380, Cost 0.0195, m grad 7.46e-05, b grad -0.000365\n",
            "Epoch 381, Cost 0.0195, m grad 7.45e-05, b grad -0.000363\n",
            "Epoch 382, Cost 0.0195, m grad 7.36e-05, b grad -0.000361\n",
            "Epoch 383, Cost 0.0195, m grad 7.26e-05, b grad -0.000359\n",
            "Epoch 384, Cost 0.0195, m grad 7.26e-05, b grad -0.000357\n",
            "Epoch 385, Cost 0.0195, m grad 7.26e-05, b grad -0.000355\n",
            "Epoch 386, Cost 0.0195, m grad 7.26e-05, b grad -0.000353\n",
            "Epoch 387, Cost 0.0195, m grad 7.26e-05, b grad -0.000351\n",
            "Epoch 388, Cost 0.0195, m grad 7.18e-05, b grad -0.000349\n",
            "Epoch 389, Cost 0.0195, m grad 7.1e-05, b grad -0.000347\n",
            "Epoch 390, Cost 0.0195, m grad 7.01e-05, b grad -0.000345\n",
            "Epoch 391, Cost 0.0195, m grad 6.93e-05, b grad -0.000343\n",
            "Epoch 392, Cost 0.0195, m grad 6.95e-05, b grad -0.000341\n",
            "Epoch 393, Cost 0.0195, m grad 6.95e-05, b grad -0.000339\n",
            "Epoch 394, Cost 0.0195, m grad 6.88e-05, b grad -0.000337\n",
            "Epoch 395, Cost 0.0195, m grad 6.81e-05, b grad -0.000335\n",
            "Epoch 396, Cost 0.0195, m grad 6.73e-05, b grad -0.000333\n",
            "Epoch 397, Cost 0.0195, m grad 6.67e-05, b grad -0.000331\n",
            "Epoch 398, Cost 0.0195, m grad 6.76e-05, b grad -0.000329\n",
            "Epoch 399, Cost 0.0195, m grad 6.7e-05, b grad -0.000327\n",
            "Epoch 400, Cost 0.0195, m grad 6.64e-05, b grad -0.000325\n",
            "Epoch 401, Cost 0.0195, m grad 6.57e-05, b grad -0.000324\n",
            "Epoch 402, Cost 0.0195, m grad 6.55e-05, b grad -0.000322\n",
            "Epoch 403, Cost 0.0195, m grad 6.53e-05, b grad -0.00032\n",
            "Epoch 404, Cost 0.0195, m grad 6.46e-05, b grad -0.000318\n",
            "Epoch 405, Cost 0.0195, m grad 6.4e-05, b grad -0.000316\n",
            "Epoch 406, Cost 0.0195, m grad 6.51e-05, b grad -0.000314\n",
            "Epoch 407, Cost 0.0195, m grad 6.37e-05, b grad -0.000312\n",
            "Epoch 408, Cost 0.0195, m grad 6.31e-05, b grad -0.000311\n",
            "Epoch 409, Cost 0.0195, m grad 6.34e-05, b grad -0.000309\n",
            "Epoch 410, Cost 0.0195, m grad 6.29e-05, b grad -0.000307\n",
            "Epoch 411, Cost 0.0195, m grad 6.25e-05, b grad -0.000305\n",
            "Epoch 412, Cost 0.0195, m grad 6.28e-05, b grad -0.000303\n",
            "Epoch 413, Cost 0.0195, m grad 6.14e-05, b grad -0.000302\n",
            "Epoch 414, Cost 0.0195, m grad 6.05e-05, b grad -0.0003\n",
            "Epoch 415, Cost 0.0195, m grad 6.05e-05, b grad -0.000298\n",
            "Epoch 416, Cost 0.0195, m grad 6.05e-05, b grad -0.000297\n",
            "Epoch 417, Cost 0.0195, m grad 6.04e-05, b grad -0.000295\n",
            "Epoch 418, Cost 0.0195, m grad 6.05e-05, b grad -0.000293\n",
            "Epoch 419, Cost 0.0195, m grad 6.05e-05, b grad -0.000291\n",
            "Epoch 420, Cost 0.0195, m grad 5.96e-05, b grad -0.00029\n",
            "Epoch 421, Cost 0.0195, m grad 5.87e-05, b grad -0.000288\n",
            "Epoch 422, Cost 0.0195, m grad 5.8e-05, b grad -0.000287\n",
            "Epoch 423, Cost 0.0195, m grad 5.81e-05, b grad -0.000285\n",
            "Epoch 424, Cost 0.0195, m grad 5.86e-05, b grad -0.000283\n",
            "Epoch 425, Cost 0.0195, m grad 5.73e-05, b grad -0.000282\n",
            "Epoch 426, Cost 0.0195, m grad 5.78e-05, b grad -0.00028\n",
            "Epoch 427, Cost 0.0195, m grad 5.71e-05, b grad -0.000278\n",
            "Epoch 428, Cost 0.0195, m grad 5.64e-05, b grad -0.000277\n",
            "Epoch 429, Cost 0.0195, m grad 5.61e-05, b grad -0.000275\n",
            "Epoch 430, Cost 0.0195, m grad 5.5e-05, b grad -0.000274\n",
            "Epoch 431, Cost 0.0195, m grad 5.56e-05, b grad -0.000272\n",
            "Epoch 432, Cost 0.0195, m grad 5.53e-05, b grad -0.00027\n",
            "Epoch 433, Cost 0.0195, m grad 5.42e-05, b grad -0.000269\n",
            "Epoch 434, Cost 0.0195, m grad 5.47e-05, b grad -0.000267\n",
            "Epoch 435, Cost 0.0195, m grad 5.45e-05, b grad -0.000266\n",
            "Epoch 436, Cost 0.0195, m grad 5.43e-05, b grad -0.000264\n",
            "Epoch 437, Cost 0.0195, m grad 5.33e-05, b grad -0.000263\n",
            "Epoch 438, Cost 0.0195, m grad 5.31e-05, b grad -0.000261\n",
            "Epoch 439, Cost 0.0195, m grad 5.28e-05, b grad -0.00026\n",
            "Epoch 440, Cost 0.0195, m grad 5.26e-05, b grad -0.000258\n",
            "Epoch 441, Cost 0.0195, m grad 5.16e-05, b grad -0.000257\n",
            "Epoch 442, Cost 0.0195, m grad 5.23e-05, b grad -0.000255\n",
            "Epoch 443, Cost 0.0195, m grad 5.13e-05, b grad -0.000254\n",
            "Epoch 444, Cost 0.0195, m grad 5.12e-05, b grad -0.000252\n",
            "Epoch 445, Cost 0.0195, m grad 5.11e-05, b grad -0.000251\n",
            "Epoch 446, Cost 0.0195, m grad 5.09e-05, b grad -0.000249\n",
            "Epoch 447, Cost 0.0195, m grad 5.05e-05, b grad -0.000248\n",
            "Epoch 448, Cost 0.0195, m grad 5e-05, b grad -0.000247\n",
            "Epoch 449, Cost 0.0195, m grad 4.98e-05, b grad -0.000245\n",
            "Epoch 450, Cost 0.0195, m grad 4.97e-05, b grad -0.000244\n",
            "Epoch 451, Cost 0.0195, m grad 4.87e-05, b grad -0.000242\n",
            "Epoch 452, Cost 0.0195, m grad 4.87e-05, b grad -0.000241\n",
            "Epoch 453, Cost 0.0195, m grad 4.87e-05, b grad -0.00024\n",
            "Epoch 454, Cost 0.0195, m grad 4.87e-05, b grad -0.000238\n",
            "Epoch 455, Cost 0.0195, m grad 4.87e-05, b grad -0.000237\n",
            "Epoch 456, Cost 0.0195, m grad 4.87e-05, b grad -0.000235\n",
            "Epoch 457, Cost 0.0195, m grad 4.87e-05, b grad -0.000234\n",
            "Epoch 458, Cost 0.0195, m grad 4.87e-05, b grad -0.000232\n",
            "Epoch 459, Cost 0.0195, m grad 4.79e-05, b grad -0.000231\n",
            "Epoch 460, Cost 0.0195, m grad 4.71e-05, b grad -0.00023\n",
            "Epoch 461, Cost 0.0195, m grad 4.62e-05, b grad -0.000229\n",
            "Epoch 462, Cost 0.0195, m grad 4.54e-05, b grad -0.000228\n",
            "Epoch 463, Cost 0.0195, m grad 4.56e-05, b grad -0.000226\n",
            "Epoch 464, Cost 0.0195, m grad 4.56e-05, b grad -0.000225\n",
            "Epoch 465, Cost 0.0195, m grad 4.58e-05, b grad -0.000224\n",
            "Epoch 466, Cost 0.0195, m grad 4.63e-05, b grad -0.000222\n",
            "Epoch 467, Cost 0.0195, m grad 4.54e-05, b grad -0.000221\n",
            "Epoch 468, Cost 0.0195, m grad 4.59e-05, b grad -0.000219\n",
            "Epoch 469, Cost 0.0195, m grad 4.53e-05, b grad -0.000218\n",
            "Epoch 470, Cost 0.0195, m grad 4.45e-05, b grad -0.000217\n",
            "Epoch 471, Cost 0.0195, m grad 4.38e-05, b grad -0.000216\n",
            "Epoch 472, Cost 0.0195, m grad 4.31e-05, b grad -0.000215\n",
            "Epoch 473, Cost 0.0195, m grad 4.33e-05, b grad -0.000213\n",
            "Epoch 474, Cost 0.0195, m grad 4.29e-05, b grad -0.000212\n",
            "Epoch 475, Cost 0.0195, m grad 4.36e-05, b grad -0.000211\n",
            "Epoch 476, Cost 0.0195, m grad 4.28e-05, b grad -0.00021\n",
            "Epoch 477, Cost 0.0195, m grad 4.31e-05, b grad -0.000208\n",
            "Epoch 478, Cost 0.0195, m grad 4.25e-05, b grad -0.000207\n",
            "Epoch 479, Cost 0.0195, m grad 4.26e-05, b grad -0.000206\n",
            "Epoch 480, Cost 0.0195, m grad 4.2e-05, b grad -0.000205\n",
            "Epoch 481, Cost 0.0195, m grad 4.14e-05, b grad -0.000204\n",
            "Epoch 482, Cost 0.0195, m grad 4.08e-05, b grad -0.000203\n",
            "Epoch 483, Cost 0.0195, m grad 4.09e-05, b grad -0.000202\n",
            "Epoch 484, Cost 0.0195, m grad 4.03e-05, b grad -0.0002\n",
            "Epoch 485, Cost 0.0195, m grad 3.97e-05, b grad -0.000199\n",
            "Epoch 486, Cost 0.0195, m grad 4.04e-05, b grad -0.000198\n",
            "Epoch 487, Cost 0.0195, m grad 4.03e-05, b grad -0.000197\n",
            "Epoch 488, Cost 0.0195, m grad 3.97e-05, b grad -0.000196\n",
            "Epoch 489, Cost 0.0195, m grad 3.91e-05, b grad -0.000195\n",
            "Epoch 490, Cost 0.0195, m grad 3.95e-05, b grad -0.000193\n",
            "Epoch 491, Cost 0.0195, m grad 3.89e-05, b grad -0.000192\n",
            "Epoch 492, Cost 0.0195, m grad 3.88e-05, b grad -0.000191\n",
            "Epoch 493, Cost 0.0195, m grad 3.87e-05, b grad -0.00019\n",
            "Epoch 494, Cost 0.0195, m grad 3.81e-05, b grad -0.000189\n",
            "Epoch 495, Cost 0.0195, m grad 3.84e-05, b grad -0.000188\n",
            "Epoch 496, Cost 0.0195, m grad 3.79e-05, b grad -0.000187\n",
            "Epoch 497, Cost 0.0195, m grad 3.75e-05, b grad -0.000186\n",
            "Epoch 498, Cost 0.0195, m grad 3.78e-05, b grad -0.000185\n",
            "Epoch 499, Cost 0.0195, m grad 3.64e-05, b grad -0.000184\n",
            "Epoch 500, Cost 0.0195, m grad 3.67e-05, b grad -0.000183\n",
            "Epoch 501, Cost 0.0195, m grad 3.64e-05, b grad -0.000182\n",
            "Epoch 502, Cost 0.0195, m grad 3.67e-05, b grad -0.000181\n",
            "Epoch 503, Cost 0.0195, m grad 3.64e-05, b grad -0.00018\n",
            "Epoch 504, Cost 0.0195, m grad 3.67e-05, b grad -0.000178\n",
            "Epoch 505, Cost 0.0195, m grad 3.64e-05, b grad -0.000177\n",
            "Epoch 506, Cost 0.0195, m grad 3.67e-05, b grad -0.000176\n",
            "Epoch 507, Cost 0.0195, m grad 3.64e-05, b grad -0.000175\n",
            "Epoch 508, Cost 0.0195, m grad 3.67e-05, b grad -0.000174\n",
            "Epoch 509, Cost 0.0195, m grad 3.64e-05, b grad -0.000173\n",
            "Epoch 510, Cost 0.0195, m grad 3.67e-05, b grad -0.000172\n",
            "Epoch 511, Cost 0.0195, m grad 3.56e-05, b grad -0.000171\n",
            "Epoch 512, Cost 0.0195, m grad 3.51e-05, b grad -0.00017\n",
            "Epoch 513, Cost 0.0195, m grad 3.39e-05, b grad -0.00017\n",
            "Epoch 514, Cost 0.0195, m grad 3.45e-05, b grad -0.000168\n",
            "Epoch 515, Cost 0.0195, m grad 3.31e-05, b grad -0.000168\n",
            "Epoch 516, Cost 0.0195, m grad 3.36e-05, b grad -0.000167\n",
            "Epoch 517, Cost 0.0195, m grad 3.38e-05, b grad -0.000166\n",
            "Epoch 518, Cost 0.0195, m grad 3.39e-05, b grad -0.000165\n",
            "Epoch 519, Cost 0.0195, m grad 3.45e-05, b grad -0.000163\n",
            "Epoch 520, Cost 0.0195, m grad 3.31e-05, b grad -0.000163\n",
            "Epoch 521, Cost 0.0195, m grad 3.36e-05, b grad -0.000162\n",
            "Epoch 522, Cost 0.0195, m grad 3.38e-05, b grad -0.000161\n",
            "Epoch 523, Cost 0.0195, m grad 3.31e-05, b grad -0.00016\n",
            "Epoch 524, Cost 0.0195, m grad 3.28e-05, b grad -0.000159\n",
            "Epoch 525, Cost 0.0195, m grad 3.16e-05, b grad -0.000158\n",
            "Epoch 526, Cost 0.0195, m grad 3.12e-05, b grad -0.000157\n",
            "Epoch 527, Cost 0.0195, m grad 3.19e-05, b grad -0.000156\n",
            "Epoch 528, Cost 0.0195, m grad 3.08e-05, b grad -0.000156\n",
            "Epoch 529, Cost 0.0195, m grad 3.14e-05, b grad -0.000155\n",
            "Epoch 530, Cost 0.0195, m grad 3.11e-05, b grad -0.000154\n",
            "Epoch 531, Cost 0.0195, m grad 3.13e-05, b grad -0.000153\n",
            "Epoch 532, Cost 0.0195, m grad 3.14e-05, b grad -0.000152\n",
            "Epoch 533, Cost 0.0195, m grad 3.11e-05, b grad -0.000151\n",
            "Epoch 534, Cost 0.0195, m grad 3.17e-05, b grad -0.00015\n",
            "Epoch 535, Cost 0.0195, m grad 3.06e-05, b grad -0.000149\n",
            "Epoch 536, Cost 0.0195, m grad 3.13e-05, b grad -0.000148\n",
            "Epoch 537, Cost 0.0195, m grad 3.01e-05, b grad -0.000147\n",
            "Epoch 538, Cost 0.0195, m grad 2.91e-05, b grad -0.000147\n",
            "Epoch 539, Cost 0.0195, m grad 2.89e-05, b grad -0.000146\n",
            "Epoch 540, Cost 0.0195, m grad 2.86e-05, b grad -0.000145\n",
            "Epoch 541, Cost 0.0195, m grad 2.84e-05, b grad -0.000144\n",
            "Epoch 542, Cost 0.0195, m grad 2.74e-05, b grad -0.000144\n",
            "Epoch 543, Cost 0.0195, m grad 2.81e-05, b grad -0.000143\n",
            "Epoch 544, Cost 0.0195, m grad 2.89e-05, b grad -0.000142\n",
            "Epoch 545, Cost 0.0195, m grad 2.86e-05, b grad -0.000141\n",
            "Epoch 546, Cost 0.0195, m grad 2.84e-05, b grad -0.00014\n",
            "Epoch 547, Cost 0.0195, m grad 2.74e-05, b grad -0.000139\n",
            "Epoch 548, Cost 0.0195, m grad 2.81e-05, b grad -0.000138\n",
            "Epoch 549, Cost 0.0195, m grad 2.89e-05, b grad -0.000137\n",
            "Epoch 550, Cost 0.0195, m grad 2.86e-05, b grad -0.000137\n",
            "Epoch 551, Cost 0.0195, m grad 2.76e-05, b grad -0.000136\n",
            "Epoch 552, Cost 0.0195, m grad 2.71e-05, b grad -0.000135\n",
            "Epoch 553, Cost 0.0195, m grad 2.66e-05, b grad -0.000135\n",
            "Epoch 554, Cost 0.0195, m grad 2.64e-05, b grad -0.000134\n",
            "Epoch 555, Cost 0.0195, m grad 2.64e-05, b grad -0.000133\n",
            "Epoch 556, Cost 0.0195, m grad 2.63e-05, b grad -0.000132\n",
            "Epoch 557, Cost 0.0195, m grad 2.61e-05, b grad -0.000132\n",
            "Epoch 558, Cost 0.0195, m grad 2.61e-05, b grad -0.000131\n",
            "Epoch 559, Cost 0.0195, m grad 2.59e-05, b grad -0.00013\n",
            "Epoch 560, Cost 0.0195, m grad 2.54e-05, b grad -0.000129\n",
            "Epoch 561, Cost 0.0195, m grad 2.49e-05, b grad -0.000129\n",
            "Epoch 562, Cost 0.0195, m grad 2.58e-05, b grad -0.000128\n",
            "Epoch 563, Cost 0.0195, m grad 2.56e-05, b grad -0.000127\n",
            "Epoch 564, Cost 0.0195, m grad 2.55e-05, b grad -0.000126\n",
            "Epoch 565, Cost 0.0195, m grad 2.55e-05, b grad -0.000125\n",
            "Epoch 566, Cost 0.0195, m grad 2.53e-05, b grad -0.000125\n",
            "Epoch 567, Cost 0.0195, m grad 2.53e-05, b grad -0.000124\n",
            "Epoch 568, Cost 0.0195, m grad 2.53e-05, b grad -0.000123\n",
            "Epoch 569, Cost 0.0195, m grad 2.53e-05, b grad -0.000122\n",
            "Epoch 570, Cost 0.0195, m grad 2.53e-05, b grad -0.000122\n",
            "Epoch 571, Cost 0.0195, m grad 2.53e-05, b grad -0.000121\n",
            "Epoch 572, Cost 0.0195, m grad 2.53e-05, b grad -0.00012\n",
            "Epoch 573, Cost 0.0195, m grad 2.53e-05, b grad -0.00012\n",
            "Epoch 574, Cost 0.0195, m grad 2.53e-05, b grad -0.000119\n",
            "Epoch 575, Cost 0.0195, m grad 2.53e-05, b grad -0.000118\n",
            "Epoch 576, Cost 0.0195, m grad 2.53e-05, b grad -0.000117\n",
            "Epoch 577, Cost 0.0195, m grad 2.53e-05, b grad -0.000117\n",
            "Epoch 578, Cost 0.0195, m grad 2.53e-05, b grad -0.000116\n",
            "Epoch 579, Cost 0.0195, m grad 2.53e-05, b grad -0.000115\n",
            "Epoch 580, Cost 0.0195, m grad 2.53e-05, b grad -0.000115\n",
            "Epoch 581, Cost 0.0195, m grad 2.53e-05, b grad -0.000114\n",
            "Epoch 582, Cost 0.0195, m grad 2.53e-05, b grad -0.000113\n",
            "Epoch 583, Cost 0.0195, m grad 2.45e-05, b grad -0.000113\n",
            "Epoch 584, Cost 0.0195, m grad 2.36e-05, b grad -0.000112\n",
            "Epoch 585, Cost 0.0195, m grad 2.28e-05, b grad -0.000112\n",
            "Epoch 586, Cost 0.0195, m grad 2.2e-05, b grad -0.000111\n",
            "Epoch 587, Cost 0.0195, m grad 2.21e-05, b grad -0.000111\n",
            "Epoch 588, Cost 0.0195, m grad 2.22e-05, b grad -0.00011\n",
            "Epoch 589, Cost 0.0195, m grad 2.23e-05, b grad -0.000109\n",
            "Epoch 590, Cost 0.0195, m grad 2.24e-05, b grad -0.000109\n",
            "Epoch 591, Cost 0.0195, m grad 2.16e-05, b grad -0.000108\n",
            "Epoch 592, Cost 0.0195, m grad 2.21e-05, b grad -0.000107\n",
            "Epoch 593, Cost 0.0195, m grad 2.26e-05, b grad -0.000107\n",
            "Epoch 594, Cost 0.0195, m grad 2.17e-05, b grad -0.000106\n",
            "Epoch 595, Cost 0.0195, m grad 2.19e-05, b grad -0.000106\n",
            "Epoch 596, Cost 0.0195, m grad 2.2e-05, b grad -0.000105\n",
            "Epoch 597, Cost 0.0195, m grad 2.2e-05, b grad -0.000104\n",
            "Epoch 598, Cost 0.0195, m grad 2.22e-05, b grad -0.000103\n",
            "Epoch 599, Cost 0.0195, m grad 2.23e-05, b grad -0.000103\n",
            "Epoch 600, Cost 0.0195, m grad 2.24e-05, b grad -0.000102\n",
            "Epoch 601, Cost 0.0195, m grad 2.16e-05, b grad -0.000102\n",
            "Epoch 602, Cost 0.0195, m grad 2.21e-05, b grad -0.000101\n",
            "Epoch 603, Cost 0.0195, m grad 2.17e-05, b grad -0.0001\n",
            "Epoch 604, Cost 0.0195, m grad 2.11e-05, b grad -0.0001\n",
            "Epoch 605, Cost 0.0195, m grad 2.03e-05, b grad -9.96e-05\n",
            "Epoch 606, Cost 0.0195, m grad 1.95e-05, b grad -9.92e-05\n",
            "Epoch 607, Cost 0.0195, m grad 1.89e-05, b grad -9.87e-05\n",
            "Epoch 608, Cost 0.0195, m grad 1.91e-05, b grad -9.81e-05\n",
            "Epoch 609, Cost 0.0195, m grad 2.01e-05, b grad -9.73e-05\n",
            "Epoch 610, Cost 0.0195, m grad 1.94e-05, b grad -9.69e-05\n",
            "Epoch 611, Cost 0.0195, m grad 1.86e-05, b grad -9.65e-05\n",
            "Epoch 612, Cost 0.0195, m grad 1.89e-05, b grad -9.59e-05\n",
            "Epoch 613, Cost 0.0195, m grad 1.91e-05, b grad -9.52e-05\n",
            "Epoch 614, Cost 0.0195, m grad 2.01e-05, b grad -9.45e-05\n",
            "Epoch 615, Cost 0.0195, m grad 1.94e-05, b grad -9.4e-05\n",
            "Epoch 616, Cost 0.0195, m grad 1.86e-05, b grad -9.36e-05\n",
            "Epoch 617, Cost 0.0195, m grad 1.89e-05, b grad -9.3e-05\n",
            "Epoch 618, Cost 0.0195, m grad 1.91e-05, b grad -9.24e-05\n",
            "Epoch 619, Cost 0.0195, m grad 2.01e-05, b grad -9.16e-05\n",
            "Epoch 620, Cost 0.0195, m grad 1.94e-05, b grad -9.12e-05\n",
            "Epoch 621, Cost 0.0195, m grad 1.86e-05, b grad -9.08e-05\n",
            "Epoch 622, Cost 0.0195, m grad 1.89e-05, b grad -9.01e-05\n",
            "Epoch 623, Cost 0.0195, m grad 1.91e-05, b grad -8.95e-05\n",
            "Epoch 624, Cost 0.0195, m grad 2.01e-05, b grad -8.88e-05\n",
            "Epoch 625, Cost 0.0195, m grad 1.86e-05, b grad -8.86e-05\n",
            "Epoch 626, Cost 0.0195, m grad 1.79e-05, b grad -8.82e-05\n",
            "Epoch 627, Cost 0.0195, m grad 1.73e-05, b grad -8.78e-05\n",
            "Epoch 628, Cost 0.0195, m grad 1.71e-05, b grad -8.74e-05\n",
            "Epoch 629, Cost 0.0195, m grad 1.69e-05, b grad -8.69e-05\n",
            "Epoch 630, Cost 0.0195, m grad 1.63e-05, b grad -8.65e-05\n",
            "Epoch 631, Cost 0.0195, m grad 1.66e-05, b grad -8.59e-05\n",
            "Epoch 632, Cost 0.0195, m grad 1.67e-05, b grad -8.54e-05\n",
            "Epoch 633, Cost 0.0195, m grad 1.61e-05, b grad -8.5e-05\n",
            "Epoch 634, Cost 0.0195, m grad 1.64e-05, b grad -8.45e-05\n",
            "Epoch 635, Cost 0.0195, m grad 1.76e-05, b grad -8.38e-05\n",
            "Epoch 636, Cost 0.0195, m grad 1.7e-05, b grad -8.34e-05\n",
            "Epoch 637, Cost 0.0195, m grad 1.64e-05, b grad -8.3e-05\n",
            "Epoch 638, Cost 0.0195, m grad 1.71e-05, b grad -8.23e-05\n",
            "Epoch 639, Cost 0.0195, m grad 1.69e-05, b grad -8.19e-05\n",
            "Epoch 640, Cost 0.0195, m grad 1.62e-05, b grad -8.15e-05\n",
            "Epoch 641, Cost 0.0195, m grad 1.66e-05, b grad -8.09e-05\n",
            "Epoch 642, Cost 0.0195, m grad 1.67e-05, b grad -8.04e-05\n",
            "Epoch 643, Cost 0.0195, m grad 1.61e-05, b grad -8e-05\n",
            "Epoch 644, Cost 0.0195, m grad 1.64e-05, b grad -7.95e-05\n",
            "Epoch 645, Cost 0.0195, m grad 1.76e-05, b grad -7.88e-05\n",
            "Epoch 646, Cost 0.0195, m grad 1.7e-05, b grad -7.84e-05\n",
            "Epoch 647, Cost 0.0195, m grad 1.64e-05, b grad -7.8e-05\n",
            "Epoch 648, Cost 0.0195, m grad 1.71e-05, b grad -7.73e-05\n",
            "Epoch 649, Cost 0.0195, m grad 1.61e-05, b grad -7.71e-05\n",
            "Epoch 650, Cost 0.0195, m grad 1.55e-05, b grad -7.68e-05\n",
            "Epoch 651, Cost 0.0195, m grad 1.54e-05, b grad -7.64e-05\n",
            "Epoch 652, Cost 0.0195, m grad 1.53e-05, b grad -7.6e-05\n",
            "Epoch 653, Cost 0.0195, m grad 1.47e-05, b grad -7.57e-05\n",
            "Epoch 654, Cost 0.0195, m grad 1.51e-05, b grad -7.52e-05\n",
            "Epoch 655, Cost 0.0195, m grad 1.45e-05, b grad -7.48e-05\n",
            "Epoch 656, Cost 0.0195, m grad 1.41e-05, b grad -7.45e-05\n",
            "Epoch 657, Cost 0.0195, m grad 1.44e-05, b grad -7.4e-05\n",
            "Epoch 658, Cost 0.0195, m grad 1.39e-05, b grad -7.37e-05\n",
            "Epoch 659, Cost 0.0195, m grad 1.37e-05, b grad -7.33e-05\n",
            "Epoch 660, Cost 0.0195, m grad 1.36e-05, b grad -7.29e-05\n",
            "Epoch 661, Cost 0.0195, m grad 1.31e-05, b grad -7.26e-05\n",
            "Epoch 662, Cost 0.0195, m grad 1.44e-05, b grad -7.19e-05\n",
            "Epoch 663, Cost 0.0195, m grad 1.39e-05, b grad -7.15e-05\n",
            "Epoch 664, Cost 0.0195, m grad 1.37e-05, b grad -7.11e-05\n",
            "Epoch 665, Cost 0.0195, m grad 1.36e-05, b grad -7.07e-05\n",
            "Epoch 666, Cost 0.0195, m grad 1.31e-05, b grad -7.04e-05\n",
            "Epoch 667, Cost 0.0195, m grad 1.44e-05, b grad -6.97e-05\n",
            "Epoch 668, Cost 0.0195, m grad 1.39e-05, b grad -6.94e-05\n",
            "Epoch 669, Cost 0.0195, m grad 1.37e-05, b grad -6.9e-05\n",
            "Epoch 670, Cost 0.0195, m grad 1.36e-05, b grad -6.86e-05\n",
            "Epoch 671, Cost 0.0195, m grad 1.31e-05, b grad -6.83e-05\n",
            "Epoch 672, Cost 0.0195, m grad 1.44e-05, b grad -6.76e-05\n",
            "Epoch 673, Cost 0.0195, m grad 1.39e-05, b grad -6.72e-05\n",
            "Epoch 674, Cost 0.0195, m grad 1.37e-05, b grad -6.68e-05\n",
            "Epoch 675, Cost 0.0195, m grad 1.36e-05, b grad -6.64e-05\n",
            "Epoch 676, Cost 0.0195, m grad 1.31e-05, b grad -6.61e-05\n",
            "Epoch 677, Cost 0.0195, m grad 1.44e-05, b grad -6.54e-05\n",
            "Epoch 678, Cost 0.0195, m grad 1.3e-05, b grad -6.53e-05\n",
            "Epoch 679, Cost 0.0195, m grad 1.34e-05, b grad -6.49e-05\n",
            "Epoch 680, Cost 0.0195, m grad 1.3e-05, b grad -6.46e-05\n",
            "Epoch 681, Cost 0.0195, m grad 1.34e-05, b grad -6.42e-05\n",
            "Epoch 682, Cost 0.0195, m grad 1.3e-05, b grad -6.39e-05\n",
            "Epoch 683, Cost 0.0195, m grad 1.34e-05, b grad -6.35e-05\n",
            "Epoch 684, Cost 0.0195, m grad 1.3e-05, b grad -6.32e-05\n",
            "Epoch 685, Cost 0.0195, m grad 1.34e-05, b grad -6.28e-05\n",
            "Epoch 686, Cost 0.0195, m grad 1.3e-05, b grad -6.25e-05\n",
            "Epoch 687, Cost 0.0195, m grad 1.34e-05, b grad -6.21e-05\n",
            "Epoch 688, Cost 0.0195, m grad 1.3e-05, b grad -6.18e-05\n",
            "Epoch 689, Cost 0.0195, m grad 1.34e-05, b grad -6.13e-05\n",
            "Epoch 690, Cost 0.0195, m grad 1.3e-05, b grad -6.11e-05\n",
            "Epoch 691, Cost 0.0195, m grad 1.34e-05, b grad -6.06e-05\n",
            "Epoch 692, Cost 0.0195, m grad 1.3e-05, b grad -6.03e-05\n",
            "Epoch 693, Cost 0.0195, m grad 1.34e-05, b grad -5.99e-05\n",
            "Epoch 694, Cost 0.0195, m grad 1.3e-05, b grad -5.96e-05\n",
            "Epoch 695, Cost 0.0195, m grad 1.34e-05, b grad -5.92e-05\n",
            "Epoch 696, Cost 0.0195, m grad 1.3e-05, b grad -5.89e-05\n",
            "Epoch 697, Cost 0.0195, m grad 1.34e-05, b grad -5.85e-05\n",
            "Epoch 698, Cost 0.0195, m grad 1.3e-05, b grad -5.82e-05\n",
            "Epoch 699, Cost 0.0195, m grad 1.34e-05, b grad -5.78e-05\n",
            "Epoch 700, Cost 0.0195, m grad 1.3e-05, b grad -5.75e-05\n",
            "Epoch 701, Cost 0.0195, m grad 1.34e-05, b grad -5.71e-05\n",
            "Epoch 702, Cost 0.0195, m grad 1.3e-05, b grad -5.68e-05\n",
            "Epoch 703, Cost 0.0195, m grad 1.34e-05, b grad -5.63e-05\n",
            "Epoch 704, Cost 0.0195, m grad 1.3e-05, b grad -5.6e-05\n",
            "Epoch 705, Cost 0.0195, m grad 1.34e-05, b grad -5.56e-05\n",
            "Epoch 706, Cost 0.0195, m grad 1.3e-05, b grad -5.53e-05\n",
            "Epoch 707, Cost 0.0195, m grad 1.34e-05, b grad -5.49e-05\n",
            "Epoch 708, Cost 0.0195, m grad 1.3e-05, b grad -5.46e-05\n",
            "Epoch 709, Cost 0.0195, m grad 1.34e-05, b grad -5.42e-05\n",
            "Epoch 710, Cost 0.0195, m grad 1.3e-05, b grad -5.39e-05\n",
            "Epoch 711, Cost 0.0195, m grad 1.34e-05, b grad -5.35e-05\n",
            "Epoch 712, Cost 0.0195, m grad 1.22e-05, b grad -5.34e-05\n",
            "Epoch 713, Cost 0.0195, m grad 1.17e-05, b grad -5.32e-05\n",
            "Epoch 714, Cost 0.0195, m grad 1.05e-05, b grad -5.32e-05\n",
            "Epoch 715, Cost 0.0195, m grad 1e-05, b grad -5.3e-05\n",
            "Epoch 716, Cost 0.0195, m grad 9.72e-06, b grad -5.28e-05\n",
            "Epoch 717, Cost 0.0195, m grad 1.03e-05, b grad -5.24e-05\n",
            "Epoch 718, Cost 0.0195, m grad 1.04e-05, b grad -5.21e-05\n",
            "Epoch 719, Cost 0.0195, m grad 1.05e-05, b grad -5.18e-05\n",
            "Epoch 720, Cost 0.0195, m grad 1e-05, b grad -5.16e-05\n",
            "Epoch 721, Cost 0.0195, m grad 9.72e-06, b grad -5.13e-05\n",
            "Epoch 722, Cost 0.0195, m grad 1.03e-05, b grad -5.09e-05\n",
            "Epoch 723, Cost 0.0195, m grad 1.04e-05, b grad -5.06e-05\n",
            "Epoch 724, Cost 0.0195, m grad 1.05e-05, b grad -5.03e-05\n",
            "Epoch 725, Cost 0.0195, m grad 1e-05, b grad -5.01e-05\n",
            "Epoch 726, Cost 0.0195, m grad 9.72e-06, b grad -4.99e-05\n",
            "Epoch 727, Cost 0.0195, m grad 1.03e-05, b grad -4.95e-05\n",
            "Epoch 728, Cost 0.0195, m grad 1.04e-05, b grad -4.92e-05\n",
            "Epoch 729, Cost 0.0195, m grad 1.05e-05, b grad -4.89e-05\n",
            "Epoch 730, Cost 0.0195, m grad 1e-05, b grad -4.87e-05\n",
            "Epoch 731, Cost 0.0195, m grad 9.72e-06, b grad -4.85e-05\n",
            "Epoch 732, Cost 0.0195, m grad 1.03e-05, b grad -4.81e-05\n",
            "Epoch 733, Cost 0.0195, m grad 1.04e-05, b grad -4.78e-05\n",
            "Epoch 734, Cost 0.0195, m grad 1.05e-05, b grad -4.75e-05\n",
            "Epoch 735, Cost 0.0195, m grad 1e-05, b grad -4.73e-05\n",
            "Epoch 736, Cost 0.0195, m grad 9.72e-06, b grad -4.71e-05\n",
            "Epoch 737, Cost 0.0195, m grad 1.03e-05, b grad -4.67e-05\n",
            "Epoch 738, Cost 0.0195, m grad 1.04e-05, b grad -4.63e-05\n",
            "Epoch 739, Cost 0.0195, m grad 1.05e-05, b grad -4.6e-05\n",
            "Epoch 740, Cost 0.0195, m grad 1e-05, b grad -4.59e-05\n",
            "Epoch 741, Cost 0.0195, m grad 9.72e-06, b grad -4.56e-05\n",
            "Epoch 742, Cost 0.0195, m grad 1.03e-05, b grad -4.52e-05\n",
            "Epoch 743, Cost 0.0195, m grad 1.04e-05, b grad -4.49e-05\n",
            "Epoch 744, Cost 0.0195, m grad 1.05e-05, b grad -4.46e-05\n",
            "Epoch 745, Cost 0.0195, m grad 1e-05, b grad -4.44e-05\n",
            "Epoch 746, Cost 0.0195, m grad 9.72e-06, b grad -4.42e-05\n",
            "Epoch 747, Cost 0.0195, m grad 1.03e-05, b grad -4.38e-05\n",
            "Epoch 748, Cost 0.0195, m grad 1.04e-05, b grad -4.35e-05\n",
            "Epoch 749, Cost 0.0195, m grad 1.05e-05, b grad -4.32e-05\n",
            "Epoch 750, Cost 0.0195, m grad 1e-05, b grad -4.3e-05\n",
            "Epoch 751, Cost 0.0195, m grad 9.72e-06, b grad -4.28e-05\n",
            "Epoch 752, Cost 0.0195, m grad 1.03e-05, b grad -4.24e-05\n",
            "Epoch 753, Cost 0.0195, m grad 1.04e-05, b grad -4.21e-05\n",
            "Epoch 754, Cost 0.0195, m grad 1.05e-05, b grad -4.17e-05\n",
            "Epoch 755, Cost 0.0195, m grad 1e-05, b grad -4.16e-05\n",
            "Epoch 756, Cost 0.0195, m grad 8.91e-06, b grad -4.15e-05\n",
            "Epoch 757, Cost 0.0195, m grad 8.61e-06, b grad -4.14e-05\n",
            "Epoch 758, Cost 0.0195, m grad 7.9e-06, b grad -4.13e-05\n",
            "Epoch 759, Cost 0.0195, m grad 7.18e-06, b grad -4.13e-05\n",
            "Epoch 760, Cost 0.0195, m grad 7.78e-06, b grad -4.09e-05\n",
            "Epoch 761, Cost 0.0195, m grad 7.06e-06, b grad -4.09e-05\n",
            "Epoch 762, Cost 0.0195, m grad 7.24e-06, b grad -4.06e-05\n",
            "Epoch 763, Cost 0.0195, m grad 7.96e-06, b grad -4.03e-05\n",
            "Epoch 764, Cost 0.0195, m grad 7.54e-06, b grad -4.01e-05\n",
            "Epoch 765, Cost 0.0195, m grad 6.38e-06, b grad -4.01e-05\n",
            "Epoch 766, Cost 0.0195, m grad 7e-06, b grad -3.98e-05\n",
            "Epoch 767, Cost 0.0195, m grad 7.75e-06, b grad -3.94e-05\n",
            "Epoch 768, Cost 0.0195, m grad 6.59e-06, b grad -3.94e-05\n",
            "Epoch 769, Cost 0.0195, m grad 7.18e-06, b grad -3.91e-05\n",
            "Epoch 770, Cost 0.0195, m grad 7.78e-06, b grad -3.88e-05\n",
            "Epoch 771, Cost 0.0195, m grad 7.06e-06, b grad -3.87e-05\n",
            "Epoch 772, Cost 0.0195, m grad 7.24e-06, b grad -3.84e-05\n",
            "Epoch 773, Cost 0.0195, m grad 7.84e-06, b grad -3.81e-05\n",
            "Epoch 774, Cost 0.0195, m grad 7.54e-06, b grad -3.8e-05\n",
            "Epoch 775, Cost 0.0195, m grad 6.38e-06, b grad -3.8e-05\n",
            "Epoch 776, Cost 0.0195, m grad 7.12e-06, b grad -3.76e-05\n",
            "Epoch 777, Cost 0.0195, m grad 7.75e-06, b grad -3.73e-05\n",
            "Epoch 778, Cost 0.0195, m grad 6.59e-06, b grad -3.73e-05\n",
            "Epoch 779, Cost 0.0195, m grad 7.18e-06, b grad -3.7e-05\n",
            "Epoch 780, Cost 0.0195, m grad 7.78e-06, b grad -3.66e-05\n",
            "Epoch 781, Cost 0.0195, m grad 7.06e-06, b grad -3.66e-05\n",
            "Epoch 782, Cost 0.0195, m grad 7.24e-06, b grad -3.63e-05\n",
            "Epoch 783, Cost 0.0195, m grad 7.96e-06, b grad -3.6e-05\n",
            "Epoch 784, Cost 0.0195, m grad 7.54e-06, b grad -3.58e-05\n",
            "Epoch 785, Cost 0.0195, m grad 6.38e-06, b grad -3.59e-05\n",
            "Epoch 786, Cost 0.0195, m grad 7e-06, b grad -3.55e-05\n",
            "Epoch 787, Cost 0.0195, m grad 7.75e-06, b grad -3.51e-05\n",
            "Epoch 788, Cost 0.0195, m grad 6.59e-06, b grad -3.52e-05\n",
            "Epoch 789, Cost 0.0195, m grad 7.18e-06, b grad -3.48e-05\n",
            "Epoch 790, Cost 0.0195, m grad 7.78e-06, b grad -3.45e-05\n",
            "Epoch 791, Cost 0.0195, m grad 7.06e-06, b grad -3.44e-05\n",
            "Epoch 792, Cost 0.0195, m grad 7.24e-06, b grad -3.42e-05\n",
            "Epoch 793, Cost 0.0195, m grad 7.84e-06, b grad -3.38e-05\n",
            "Epoch 794, Cost 0.0195, m grad 7.54e-06, b grad -3.37e-05\n",
            "Epoch 795, Cost 0.0195, m grad 6.38e-06, b grad -3.37e-05\n",
            "Epoch 796, Cost 0.0195, m grad 7.12e-06, b grad -3.33e-05\n",
            "Epoch 797, Cost 0.0195, m grad 7.75e-06, b grad -3.3e-05\n",
            "Epoch 798, Cost 0.0195, m grad 6.59e-06, b grad -3.3e-05\n",
            "Epoch 799, Cost 0.0195, m grad 7.18e-06, b grad -3.27e-05\n",
            "Epoch 800, Cost 0.0195, m grad 7.78e-06, b grad -3.24e-05\n",
            "Epoch 801, Cost 0.0195, m grad 7.06e-06, b grad -3.23e-05\n",
            "Epoch 802, Cost 0.0195, m grad 7.24e-06, b grad -3.2e-05\n",
            "Epoch 803, Cost 0.0195, m grad 7.96e-06, b grad -3.17e-05\n",
            "Epoch 804, Cost 0.0195, m grad 7.54e-06, b grad -3.15e-05\n",
            "Epoch 805, Cost 0.0195, m grad 6.38e-06, b grad -3.16e-05\n",
            "Epoch 806, Cost 0.0195, m grad 7e-06, b grad -3.12e-05\n",
            "Epoch 807, Cost 0.0195, m grad 7.75e-06, b grad -3.08e-05\n",
            "Epoch 808, Cost 0.0195, m grad 6.59e-06, b grad -3.09e-05\n",
            "Epoch 809, Cost 0.0195, m grad 7.18e-06, b grad -3.05e-05\n",
            "Epoch 810, Cost 0.0195, m grad 7.78e-06, b grad -3.02e-05\n",
            "Epoch 811, Cost 0.0195, m grad 7.06e-06, b grad -3.01e-05\n",
            "Epoch 812, Cost 0.0195, m grad 7.24e-06, b grad -2.99e-05\n",
            "Epoch 813, Cost 0.0195, m grad 7.84e-06, b grad -2.95e-05\n",
            "Epoch 814, Cost 0.0195, m grad 6.71e-06, b grad -2.96e-05\n",
            "Epoch 815, Cost 0.0195, m grad 5.75e-06, b grad -2.97e-05\n",
            "Epoch 816, Cost 0.0195, m grad 5.51e-06, b grad -2.96e-05\n",
            "Epoch 817, Cost 0.0195, m grad 5.28e-06, b grad -2.95e-05\n",
            "Epoch 818, Cost 0.0195, m grad 5.04e-06, b grad -2.94e-05\n",
            "Epoch 819, Cost 0.0195, m grad 4.08e-06, b grad -2.94e-05\n",
            "Epoch 820, Cost 0.0195, m grad 4.71e-06, b grad -2.92e-05\n",
            "Epoch 821, Cost 0.0195, m grad 4.5e-06, b grad -2.91e-05\n",
            "Epoch 822, Cost 0.0195, m grad 4.41e-06, b grad -2.89e-05\n",
            "Epoch 823, Cost 0.0195, m grad 5.04e-06, b grad -2.87e-05\n",
            "Epoch 824, Cost 0.0195, m grad 4.08e-06, b grad -2.87e-05\n",
            "Epoch 825, Cost 0.0195, m grad 4.71e-06, b grad -2.85e-05\n",
            "Epoch 826, Cost 0.0195, m grad 4.62e-06, b grad -2.83e-05\n",
            "Epoch 827, Cost 0.0195, m grad 4.41e-06, b grad -2.82e-05\n",
            "Epoch 828, Cost 0.0195, m grad 5.04e-06, b grad -2.8e-05\n",
            "Epoch 829, Cost 0.0195, m grad 4.08e-06, b grad -2.8e-05\n",
            "Epoch 830, Cost 0.0195, m grad 4.71e-06, b grad -2.77e-05\n",
            "Epoch 831, Cost 0.0195, m grad 4.5e-06, b grad -2.76e-05\n",
            "Epoch 832, Cost 0.0195, m grad 4.41e-06, b grad -2.75e-05\n",
            "Epoch 833, Cost 0.0195, m grad 5.04e-06, b grad -2.73e-05\n",
            "Epoch 834, Cost 0.0195, m grad 4.08e-06, b grad -2.73e-05\n",
            "Epoch 835, Cost 0.0195, m grad 4.71e-06, b grad -2.7e-05\n",
            "Epoch 836, Cost 0.0195, m grad 4.62e-06, b grad -2.69e-05\n",
            "Epoch 837, Cost 0.0195, m grad 4.41e-06, b grad -2.68e-05\n",
            "Epoch 838, Cost 0.0195, m grad 5.04e-06, b grad -2.65e-05\n",
            "Epoch 839, Cost 0.0195, m grad 4.08e-06, b grad -2.66e-05\n",
            "Epoch 840, Cost 0.0195, m grad 4.71e-06, b grad -2.63e-05\n",
            "Epoch 841, Cost 0.0195, m grad 4.5e-06, b grad -2.62e-05\n",
            "Epoch 842, Cost 0.0195, m grad 4.41e-06, b grad -2.61e-05\n",
            "Epoch 843, Cost 0.0195, m grad 5.04e-06, b grad -2.58e-05\n",
            "Epoch 844, Cost 0.0195, m grad 4.08e-06, b grad -2.59e-05\n",
            "Epoch 845, Cost 0.0195, m grad 4.71e-06, b grad -2.56e-05\n",
            "Epoch 846, Cost 0.0195, m grad 4.62e-06, b grad -2.55e-05\n",
            "Epoch 847, Cost 0.0195, m grad 4.41e-06, b grad -2.54e-05\n",
            "Epoch 848, Cost 0.0195, m grad 5.04e-06, b grad -2.51e-05\n",
            "Epoch 849, Cost 0.0195, m grad 4.08e-06, b grad -2.51e-05\n",
            "Epoch 850, Cost 0.0195, m grad 4.71e-06, b grad -2.49e-05\n",
            "Epoch 851, Cost 0.0195, m grad 4.5e-06, b grad -2.48e-05\n",
            "Epoch 852, Cost 0.0195, m grad 4.41e-06, b grad -2.46e-05\n",
            "Epoch 853, Cost 0.0195, m grad 5.04e-06, b grad -2.44e-05\n",
            "Epoch 854, Cost 0.0195, m grad 4.08e-06, b grad -2.44e-05\n",
            "Epoch 855, Cost 0.0195, m grad 4.71e-06, b grad -2.42e-05\n",
            "Epoch 856, Cost 0.0195, m grad 4.62e-06, b grad -2.41e-05\n",
            "Epoch 857, Cost 0.0195, m grad 4.41e-06, b grad -2.39e-05\n",
            "Epoch 858, Cost 0.0195, m grad 5.04e-06, b grad -2.37e-05\n",
            "Epoch 859, Cost 0.0195, m grad 4.08e-06, b grad -2.37e-05\n",
            "Epoch 860, Cost 0.0195, m grad 4.71e-06, b grad -2.35e-05\n",
            "Epoch 861, Cost 0.0195, m grad 4.5e-06, b grad -2.33e-05\n",
            "Epoch 862, Cost 0.0195, m grad 4.41e-06, b grad -2.32e-05\n",
            "Epoch 863, Cost 0.0195, m grad 5.04e-06, b grad -2.3e-05\n",
            "Epoch 864, Cost 0.0195, m grad 4.08e-06, b grad -2.3e-05\n",
            "Epoch 865, Cost 0.0195, m grad 4.71e-06, b grad -2.27e-05\n",
            "Epoch 866, Cost 0.0195, m grad 4.62e-06, b grad -2.26e-05\n",
            "Epoch 867, Cost 0.0195, m grad 4.41e-06, b grad -2.25e-05\n",
            "Epoch 868, Cost 0.0195, m grad 5.04e-06, b grad -2.22e-05\n",
            "Epoch 869, Cost 0.0195, m grad 4.08e-06, b grad -2.23e-05\n",
            "Epoch 870, Cost 0.0195, m grad 4.71e-06, b grad -2.2e-05\n",
            "Epoch 871, Cost 0.0195, m grad 4.5e-06, b grad -2.19e-05\n",
            "Epoch 872, Cost 0.0195, m grad 4.41e-06, b grad -2.18e-05\n",
            "Epoch 873, Cost 0.0195, m grad 5.04e-06, b grad -2.15e-05\n",
            "Epoch 874, Cost 0.0195, m grad 4.08e-06, b grad -2.16e-05\n",
            "Epoch 875, Cost 0.0195, m grad 4.71e-06, b grad -2.13e-05\n",
            "Epoch 876, Cost 0.0195, m grad 4.62e-06, b grad -2.12e-05\n",
            "Epoch 877, Cost 0.0195, m grad 4.41e-06, b grad -2.11e-05\n",
            "Epoch 878, Cost 0.0195, m grad 5.04e-06, b grad -2.08e-05\n",
            "Epoch 879, Cost 0.0195, m grad 4.08e-06, b grad -2.08e-05\n",
            "Epoch 880, Cost 0.0195, m grad 4.71e-06, b grad -2.06e-05\n",
            "Epoch 881, Cost 0.0195, m grad 4.5e-06, b grad -2.05e-05\n",
            "Epoch 882, Cost 0.0195, m grad 4.41e-06, b grad -2.04e-05\n",
            "Epoch 883, Cost 0.0195, m grad 5.04e-06, b grad -2.01e-05\n",
            "Epoch 884, Cost 0.0195, m grad 4.08e-06, b grad -2.01e-05\n",
            "Epoch 885, Cost 0.0195, m grad 4.71e-06, b grad -1.99e-05\n",
            "Epoch 886, Cost 0.0195, m grad 4.62e-06, b grad -1.98e-05\n",
            "Epoch 887, Cost 0.0195, m grad 4.41e-06, b grad -1.96e-05\n",
            "Epoch 888, Cost 0.0195, m grad 5.04e-06, b grad -1.94e-05\n",
            "Epoch 889, Cost 0.0195, m grad 4.08e-06, b grad -1.94e-05\n",
            "Epoch 890, Cost 0.0195, m grad 4.71e-06, b grad -1.92e-05\n",
            "Epoch 891, Cost 0.0195, m grad 4.5e-06, b grad -1.9e-05\n",
            "Epoch 892, Cost 0.0195, m grad 4.41e-06, b grad -1.89e-05\n",
            "Epoch 893, Cost 0.0195, m grad 5.04e-06, b grad -1.87e-05\n",
            "Epoch 894, Cost 0.0195, m grad 4.08e-06, b grad -1.87e-05\n",
            "Epoch 895, Cost 0.0195, m grad 4.71e-06, b grad -1.84e-05\n",
            "Epoch 896, Cost 0.0195, m grad 4.62e-06, b grad -1.83e-05\n",
            "Epoch 897, Cost 0.0195, m grad 4.41e-06, b grad -1.82e-05\n",
            "Epoch 898, Cost 0.0195, m grad 5.04e-06, b grad -1.8e-05\n",
            "Epoch 899, Cost 0.0195, m grad 4.08e-06, b grad -1.8e-05\n",
            "Epoch 900, Cost 0.0195, m grad 4.71e-06, b grad -1.77e-05\n",
            "Epoch 901, Cost 0.0195, m grad 3.67e-06, b grad -1.79e-05\n",
            "Epoch 902, Cost 0.0195, m grad 3.61e-06, b grad -1.78e-05\n",
            "Epoch 903, Cost 0.0195, m grad 3.55e-06, b grad -1.78e-05\n",
            "Epoch 904, Cost 0.0195, m grad 3.37e-06, b grad -1.77e-05\n",
            "Epoch 905, Cost 0.0195, m grad 2.89e-06, b grad -1.77e-05\n",
            "Epoch 906, Cost 0.0195, m grad 2.41e-06, b grad -1.77e-05\n",
            "Epoch 907, Cost 0.0195, m grad 2.24e-06, b grad -1.77e-05\n",
            "Epoch 908, Cost 0.0195, m grad 2.18e-06, b grad -1.77e-05\n",
            "Epoch 909, Cost 0.0195, m grad 2.12e-06, b grad -1.76e-05\n",
            "Epoch 910, Cost 0.0195, m grad 1.94e-06, b grad -1.76e-05\n",
            "Epoch 911, Cost 0.0195, m grad 1.88e-06, b grad -1.75e-05\n",
            "Epoch 912, Cost 0.0195, m grad 1.7e-06, b grad -1.75e-05\n",
            "Epoch 913, Cost 0.0195, m grad 1.22e-06, b grad -1.75e-05\n",
            "Epoch 914, Cost 0.0195, m grad 2.06e-06, b grad -1.73e-05\n",
            "Epoch 915, Cost 0.0195, m grad 1.58e-06, b grad -1.73e-05\n",
            "Epoch 916, Cost 0.0195, m grad 1.37e-06, b grad -1.73e-05\n",
            "Epoch 917, Cost 0.0195, m grad 2.24e-06, b grad -1.7e-05\n",
            "Epoch 918, Cost 0.0195, m grad 2.18e-06, b grad -1.69e-05\n",
            "Epoch 919, Cost 0.0195, m grad 2e-06, b grad -1.69e-05\n",
            "Epoch 920, Cost 0.0195, m grad 1.94e-06, b grad -1.69e-05\n",
            "Epoch 921, Cost 0.0195, m grad 1.88e-06, b grad -1.68e-05\n",
            "Epoch 922, Cost 0.0195, m grad 1.7e-06, b grad -1.68e-05\n",
            "Epoch 923, Cost 0.0195, m grad 1.22e-06, b grad -1.68e-05\n",
            "Epoch 924, Cost 0.0195, m grad 2.06e-06, b grad -1.65e-05\n",
            "Epoch 925, Cost 0.0195, m grad 1.58e-06, b grad -1.66e-05\n",
            "Epoch 926, Cost 0.0195, m grad 1.37e-06, b grad -1.65e-05\n",
            "Epoch 927, Cost 0.0195, m grad 2.24e-06, b grad -1.63e-05\n",
            "Epoch 928, Cost 0.0195, m grad 2.18e-06, b grad -1.62e-05\n",
            "Epoch 929, Cost 0.0195, m grad 2.12e-06, b grad -1.62e-05\n",
            "Epoch 930, Cost 0.0195, m grad 1.94e-06, b grad -1.61e-05\n",
            "Epoch 931, Cost 0.0195, m grad 1.88e-06, b grad -1.61e-05\n",
            "Epoch 932, Cost 0.0195, m grad 1.7e-06, b grad -1.6e-05\n",
            "Epoch 933, Cost 0.0195, m grad 1.22e-06, b grad -1.61e-05\n",
            "Epoch 934, Cost 0.0195, m grad 2.06e-06, b grad -1.58e-05\n",
            "Epoch 935, Cost 0.0195, m grad 1.58e-06, b grad -1.58e-05\n",
            "Epoch 936, Cost 0.0195, m grad 1.37e-06, b grad -1.58e-05\n",
            "Epoch 937, Cost 0.0195, m grad 2.24e-06, b grad -1.56e-05\n",
            "Epoch 938, Cost 0.0195, m grad 2.18e-06, b grad -1.55e-05\n",
            "Epoch 939, Cost 0.0195, m grad 2e-06, b grad -1.55e-05\n",
            "Epoch 940, Cost 0.0195, m grad 1.94e-06, b grad -1.54e-05\n",
            "Epoch 941, Cost 0.0195, m grad 1.88e-06, b grad -1.54e-05\n",
            "Epoch 942, Cost 0.0195, m grad 1.7e-06, b grad -1.53e-05\n",
            "Epoch 943, Cost 0.0195, m grad 1.22e-06, b grad -1.53e-05\n",
            "Epoch 944, Cost 0.0195, m grad 2.06e-06, b grad -1.51e-05\n",
            "Epoch 945, Cost 0.0195, m grad 1.58e-06, b grad -1.51e-05\n",
            "Epoch 946, Cost 0.0195, m grad 1.37e-06, b grad -1.51e-05\n",
            "Epoch 947, Cost 0.0195, m grad 2.24e-06, b grad -1.48e-05\n",
            "Epoch 948, Cost 0.0195, m grad 2.18e-06, b grad -1.48e-05\n",
            "Epoch 949, Cost 0.0195, m grad 2.12e-06, b grad -1.48e-05\n",
            "Epoch 950, Cost 0.0195, m grad 1.94e-06, b grad -1.47e-05\n",
            "Epoch 951, Cost 0.0195, m grad 1.88e-06, b grad -1.47e-05\n",
            "Epoch 952, Cost 0.0195, m grad 1.7e-06, b grad -1.46e-05\n",
            "Epoch 953, Cost 0.0195, m grad 1.22e-06, b grad -1.46e-05\n",
            "Epoch 954, Cost 0.0195, m grad 2.06e-06, b grad -1.44e-05\n",
            "Epoch 955, Cost 0.0195, m grad 1.58e-06, b grad -1.44e-05\n",
            "Epoch 956, Cost 0.0195, m grad 1.37e-06, b grad -1.44e-05\n",
            "Epoch 957, Cost 0.0195, m grad 2.24e-06, b grad -1.41e-05\n",
            "Epoch 958, Cost 0.0195, m grad 2.18e-06, b grad -1.41e-05\n",
            "Epoch 959, Cost 0.0195, m grad 2e-06, b grad -1.4e-05\n",
            "Epoch 960, Cost 0.0195, m grad 1.94e-06, b grad -1.4e-05\n",
            "Epoch 961, Cost 0.0195, m grad 1.88e-06, b grad -1.39e-05\n",
            "Epoch 962, Cost 0.0195, m grad 1.7e-06, b grad -1.39e-05\n",
            "Epoch 963, Cost 0.0195, m grad 1.22e-06, b grad -1.39e-05\n",
            "Epoch 964, Cost 0.0195, m grad 2.06e-06, b grad -1.37e-05\n",
            "Epoch 965, Cost 0.0195, m grad 1.58e-06, b grad -1.37e-05\n",
            "Epoch 966, Cost 0.0195, m grad 1.37e-06, b grad -1.37e-05\n",
            "Epoch 967, Cost 0.0195, m grad 2.24e-06, b grad -1.34e-05\n",
            "Epoch 968, Cost 0.0195, m grad 2.18e-06, b grad -1.34e-05\n",
            "Epoch 969, Cost 0.0195, m grad 2.12e-06, b grad -1.33e-05\n",
            "Epoch 970, Cost 0.0195, m grad 1.94e-06, b grad -1.33e-05\n",
            "Epoch 971, Cost 0.0195, m grad 1.88e-06, b grad -1.32e-05\n",
            "Epoch 972, Cost 0.0195, m grad 1.7e-06, b grad -1.32e-05\n",
            "Epoch 973, Cost 0.0195, m grad 1.22e-06, b grad -1.32e-05\n",
            "Epoch 974, Cost 0.0195, m grad 2.06e-06, b grad -1.3e-05\n",
            "Epoch 975, Cost 0.0195, m grad 1.58e-06, b grad -1.3e-05\n",
            "Epoch 976, Cost 0.0195, m grad 1.37e-06, b grad -1.3e-05\n",
            "Epoch 977, Cost 0.0195, m grad 2.24e-06, b grad -1.27e-05\n",
            "Epoch 978, Cost 0.0195, m grad 2.18e-06, b grad -1.27e-05\n",
            "Epoch 979, Cost 0.0195, m grad 2e-06, b grad -1.26e-05\n",
            "Epoch 980, Cost 0.0195, m grad 1.94e-06, b grad -1.26e-05\n",
            "Epoch 981, Cost 0.0195, m grad 1.88e-06, b grad -1.25e-05\n",
            "Epoch 982, Cost 0.0195, m grad 1.7e-06, b grad -1.25e-05\n",
            "Epoch 983, Cost 0.0195, m grad 1.22e-06, b grad -1.25e-05\n",
            "Epoch 984, Cost 0.0195, m grad 2.06e-06, b grad -1.22e-05\n",
            "Epoch 985, Cost 0.0195, m grad 1.58e-06, b grad -1.23e-05\n",
            "Epoch 986, Cost 0.0195, m grad 1.37e-06, b grad -1.22e-05\n",
            "Epoch 987, Cost 0.0195, m grad 2.24e-06, b grad -1.2e-05\n",
            "Epoch 988, Cost 0.0195, m grad 2.18e-06, b grad -1.19e-05\n",
            "Epoch 989, Cost 0.0195, m grad 2.12e-06, b grad -1.19e-05\n",
            "Epoch 990, Cost 0.0195, m grad 1.94e-06, b grad -1.18e-05\n",
            "Epoch 991, Cost 0.0195, m grad 1.88e-06, b grad -1.18e-05\n",
            "Epoch 992, Cost 0.0195, m grad 1.7e-06, b grad -1.18e-05\n",
            "Epoch 993, Cost 0.0195, m grad 1.22e-06, b grad -1.18e-05\n",
            "Epoch 994, Cost 0.0195, m grad 2.06e-06, b grad -1.15e-05\n",
            "Epoch 995, Cost 0.0195, m grad 1.58e-06, b grad -1.15e-05\n",
            "Epoch 996, Cost 0.0195, m grad 1.37e-06, b grad -1.15e-05\n",
            "Epoch 997, Cost 0.0195, m grad 2.24e-06, b grad -1.13e-05\n",
            "Epoch 998, Cost 0.0195, m grad 2.18e-06, b grad -1.12e-05\n",
            "Epoch 999, Cost 0.0195, m grad 2e-06, b grad -1.12e-05\n"
          ]
        }
      ]
    },
    {
      "cell_type": "code",
      "source": [
        "regression_plot(x,y,m,b)"
      ],
      "metadata": {
        "colab": {
          "base_uri": "https://localhost:8080/",
          "height": 265
        },
        "id": "ar4-r1KwGro4",
        "outputId": "9ec00080-b732-4a63-f0be-7ef68c6bc195"
      },
      "execution_count": 65,
      "outputs": [
        {
          "output_type": "display_data",
          "data": {
            "text/plain": [
              "<Figure size 432x288 with 1 Axes>"
            ],
            "image/png": "[encoded data removed]"
          },
          "metadata": {
            "needs_background": "light"
          }
        }
      ]
    },
    {
      "cell_type": "code",
      "source": [
        "m.item()"
      ],
      "metadata": {
        "colab": {
          "base_uri": "https://localhost:8080/"
        },
        "id": "WFVJLx72HTYh",
        "outputId": "4ebca941-6bda-48cd-f7fc-394980fd1b94"
      },
      "execution_count": 66,
      "outputs": [
        {
          "output_type": "execute_result",
          "data": {
            "text/plain": [
              "-0.4692818224430084"
            ]
          },
          "metadata": {},
          "execution_count": 66
        }
      ]
    },
    {
      "cell_type": "code",
      "source": [
        "b.item"
      ],
      "metadata": {
        "colab": {
          "base_uri": "https://localhost:8080/"
        },
        "id": "9qU_B37bHZjT",
        "outputId": "8af85a51-c8e5-48cd-adc1-e68c31bc2ef5"
      },
      "execution_count": 67,
      "outputs": [
        {
          "output_type": "execute_result",
          "data": {
            "text/plain": [
              "<function Tensor.item>"
            ]
          },
          "metadata": {},
          "execution_count": 67
        }
      ]
    }
  ]
}